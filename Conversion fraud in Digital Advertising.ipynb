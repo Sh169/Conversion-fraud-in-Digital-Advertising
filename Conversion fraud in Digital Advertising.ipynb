{
 "cells": [
  {
   "cell_type": "code",
   "execution_count": 2,
   "metadata": {},
   "outputs": [],
   "source": [
    "import numpy as np\n",
    "import pandas as pd\n",
    "import matplotlib.pyplot as plt\n",
    "import seaborn as sns\n",
    "import warnings\n",
    "warnings.filterwarnings('ignore')"
   ]
  },
  {
   "cell_type": "code",
   "execution_count": 3,
   "metadata": {},
   "outputs": [],
   "source": [
    "train_df = pd.read_csv(\"Training Data.csv\")\n",
    "click_log = pd.read_csv(\"click_log.csv\")\n",
    "test_df = pd.read_csv(\"Test Data.csv\")"
   ]
  },
  {
   "cell_type": "code",
   "execution_count": 4,
   "metadata": {},
   "outputs": [
    {
     "data": {
      "text/html": [
       "<div>\n",
       "<style scoped>\n",
       "    .dataframe tbody tr th:only-of-type {\n",
       "        vertical-align: middle;\n",
       "    }\n",
       "\n",
       "    .dataframe tbody tr th {\n",
       "        vertical-align: top;\n",
       "    }\n",
       "\n",
       "    .dataframe thead th {\n",
       "        text-align: right;\n",
       "    }\n",
       "</style>\n",
       "<table border=\"1\" class=\"dataframe\">\n",
       "  <thead>\n",
       "    <tr style=\"text-align: right;\">\n",
       "      <th></th>\n",
       "      <th>clientid_cr</th>\n",
       "      <th>clmbuserid_cr</th>\n",
       "      <th>conversiontime_cr</th>\n",
       "      <th>imprid_cr</th>\n",
       "      <th>adslotdimid_cr</th>\n",
       "      <th>algo_cr</th>\n",
       "      <th>audiences_cr</th>\n",
       "      <th>clickbid_cr</th>\n",
       "      <th>geodimid_cr</th>\n",
       "      <th>ip_cr</th>\n",
       "      <th>...</th>\n",
       "      <th>cityGrpDimId_cr</th>\n",
       "      <th>siteClusterIds_cr</th>\n",
       "      <th>refClusterId_cr</th>\n",
       "      <th>paid_cr</th>\n",
       "      <th>spend_cr</th>\n",
       "      <th>attributionType_cr</th>\n",
       "      <th>conversionid_cr</th>\n",
       "      <th>optimize_on_cr</th>\n",
       "      <th>bundleId_cr</th>\n",
       "      <th>conversion_fraud</th>\n",
       "    </tr>\n",
       "  </thead>\n",
       "  <tbody>\n",
       "    <tr>\n",
       "      <th>0</th>\n",
       "      <td>75694</td>\n",
       "      <td>31629cd0-0b34-460f-aa61-80c3234e1225-1sjfw</td>\n",
       "      <td>1.620000e+12</td>\n",
       "      <td>01649076-c77f-4d70-afc8-213535427147-1sjd4</td>\n",
       "      <td>321300</td>\n",
       "      <td>38.0</td>\n",
       "      <td>8gw,o3b</td>\n",
       "      <td>2.869316</td>\n",
       "      <td>144</td>\n",
       "      <td>XXX.XXX.XXX.XXX</td>\n",
       "      <td>...</td>\n",
       "      <td>348007.0</td>\n",
       "      <td>NaN</td>\n",
       "      <td>NaN</td>\n",
       "      <td>NaN</td>\n",
       "      <td>NaN</td>\n",
       "      <td>NaN</td>\n",
       "      <td>NaN</td>\n",
       "      <td>NaN</td>\n",
       "      <td>NaN</td>\n",
       "      <td>True</td>\n",
       "    </tr>\n",
       "    <tr>\n",
       "      <th>1</th>\n",
       "      <td>75694</td>\n",
       "      <td>4c98f114-c34c-48f4-84d6-50fc8e9b6d65-10wgg</td>\n",
       "      <td>1.620000e+12</td>\n",
       "      <td>f84d83b9-b757-4f97-9813-34f8dcc57cc5-1sjfw</td>\n",
       "      <td>129239</td>\n",
       "      <td>38.0</td>\n",
       "      <td>8kv,2vk,8gw,2vl</td>\n",
       "      <td>2.790000</td>\n",
       "      <td>144</td>\n",
       "      <td>XXX.XXX.XXX.XXX</td>\n",
       "      <td>...</td>\n",
       "      <td>348010.0</td>\n",
       "      <td>NaN</td>\n",
       "      <td>NaN</td>\n",
       "      <td>NaN</td>\n",
       "      <td>NaN</td>\n",
       "      <td>NaN</td>\n",
       "      <td>NaN</td>\n",
       "      <td>NaN</td>\n",
       "      <td>NaN</td>\n",
       "      <td>True</td>\n",
       "    </tr>\n",
       "    <tr>\n",
       "      <th>2</th>\n",
       "      <td>75694</td>\n",
       "      <td>cd92087a-54b0-4911-bc3d-1144a3c2babd-1sjlg</td>\n",
       "      <td>1.620000e+12</td>\n",
       "      <td>061edef6-3d9d-408b-884a-ad840e6930ce-10o78</td>\n",
       "      <td>321554</td>\n",
       "      <td>21.0</td>\n",
       "      <td>8gw,o3b</td>\n",
       "      <td>2.790000</td>\n",
       "      <td>144</td>\n",
       "      <td>XXX.XXX.XXX.XXX</td>\n",
       "      <td>...</td>\n",
       "      <td>NaN</td>\n",
       "      <td>NaN</td>\n",
       "      <td>NaN</td>\n",
       "      <td>NaN</td>\n",
       "      <td>NaN</td>\n",
       "      <td>NaN</td>\n",
       "      <td>NaN</td>\n",
       "      <td>NaN</td>\n",
       "      <td>NaN</td>\n",
       "      <td>True</td>\n",
       "    </tr>\n",
       "    <tr>\n",
       "      <th>3</th>\n",
       "      <td>75694</td>\n",
       "      <td>f79f3de7-5edb-4319-9549-117f47996066-10wrk</td>\n",
       "      <td>1.620000e+12</td>\n",
       "      <td>0a937239-9091-4bb7-b26b-37d4bb29e50b-10oa0</td>\n",
       "      <td>321300</td>\n",
       "      <td>38.0</td>\n",
       "      <td>8gw,o3b</td>\n",
       "      <td>2.790000</td>\n",
       "      <td>144</td>\n",
       "      <td>XXX.XXX.XXX.XXX</td>\n",
       "      <td>...</td>\n",
       "      <td>348007.0</td>\n",
       "      <td>NaN</td>\n",
       "      <td>NaN</td>\n",
       "      <td>NaN</td>\n",
       "      <td>NaN</td>\n",
       "      <td>NaN</td>\n",
       "      <td>NaN</td>\n",
       "      <td>NaN</td>\n",
       "      <td>NaN</td>\n",
       "      <td>True</td>\n",
       "    </tr>\n",
       "    <tr>\n",
       "      <th>4</th>\n",
       "      <td>30431</td>\n",
       "      <td>01fd1a8a-c3f8-4b57-94ff-66318d0f63c7-1sjts</td>\n",
       "      <td>1.620000e+12</td>\n",
       "      <td>0d46d0d4-8fc6-4d95-aaa1-406354a8400c-1sjo8</td>\n",
       "      <td>355768</td>\n",
       "      <td>21.0</td>\n",
       "      <td>NaN</td>\n",
       "      <td>NaN</td>\n",
       "      <td>144</td>\n",
       "      <td>XXX.XXX.XXX.XXX</td>\n",
       "      <td>...</td>\n",
       "      <td>NaN</td>\n",
       "      <td>NaN</td>\n",
       "      <td>NaN</td>\n",
       "      <td>1.0</td>\n",
       "      <td>275.0</td>\n",
       "      <td>1.0</td>\n",
       "      <td>NaN</td>\n",
       "      <td>NaN</td>\n",
       "      <td>NaN</td>\n",
       "      <td>True</td>\n",
       "    </tr>\n",
       "  </tbody>\n",
       "</table>\n",
       "<p>5 rows × 56 columns</p>\n",
       "</div>"
      ],
      "text/plain": [
       "   clientid_cr                               clmbuserid_cr  conversiontime_cr  \\\n",
       "0        75694  31629cd0-0b34-460f-aa61-80c3234e1225-1sjfw       1.620000e+12   \n",
       "1        75694  4c98f114-c34c-48f4-84d6-50fc8e9b6d65-10wgg       1.620000e+12   \n",
       "2        75694  cd92087a-54b0-4911-bc3d-1144a3c2babd-1sjlg       1.620000e+12   \n",
       "3        75694  f79f3de7-5edb-4319-9549-117f47996066-10wrk       1.620000e+12   \n",
       "4        30431  01fd1a8a-c3f8-4b57-94ff-66318d0f63c7-1sjts       1.620000e+12   \n",
       "\n",
       "                                    imprid_cr  adslotdimid_cr  algo_cr  \\\n",
       "0  01649076-c77f-4d70-afc8-213535427147-1sjd4          321300     38.0   \n",
       "1  f84d83b9-b757-4f97-9813-34f8dcc57cc5-1sjfw          129239     38.0   \n",
       "2  061edef6-3d9d-408b-884a-ad840e6930ce-10o78          321554     21.0   \n",
       "3  0a937239-9091-4bb7-b26b-37d4bb29e50b-10oa0          321300     38.0   \n",
       "4  0d46d0d4-8fc6-4d95-aaa1-406354a8400c-1sjo8          355768     21.0   \n",
       "\n",
       "      audiences_cr  clickbid_cr  geodimid_cr            ip_cr  ...  \\\n",
       "0          8gw,o3b     2.869316          144  XXX.XXX.XXX.XXX  ...   \n",
       "1  8kv,2vk,8gw,2vl     2.790000          144  XXX.XXX.XXX.XXX  ...   \n",
       "2          8gw,o3b     2.790000          144  XXX.XXX.XXX.XXX  ...   \n",
       "3          8gw,o3b     2.790000          144  XXX.XXX.XXX.XXX  ...   \n",
       "4              NaN          NaN          144  XXX.XXX.XXX.XXX  ...   \n",
       "\n",
       "   cityGrpDimId_cr  siteClusterIds_cr  refClusterId_cr  paid_cr spend_cr  \\\n",
       "0         348007.0                NaN              NaN      NaN      NaN   \n",
       "1         348010.0                NaN              NaN      NaN      NaN   \n",
       "2              NaN                NaN              NaN      NaN      NaN   \n",
       "3         348007.0                NaN              NaN      NaN      NaN   \n",
       "4              NaN                NaN              NaN      1.0    275.0   \n",
       "\n",
       "   attributionType_cr  conversionid_cr  optimize_on_cr  bundleId_cr  \\\n",
       "0                 NaN              NaN             NaN          NaN   \n",
       "1                 NaN              NaN             NaN          NaN   \n",
       "2                 NaN              NaN             NaN          NaN   \n",
       "3                 NaN              NaN             NaN          NaN   \n",
       "4                 1.0              NaN             NaN          NaN   \n",
       "\n",
       "   conversion_fraud  \n",
       "0              True  \n",
       "1              True  \n",
       "2              True  \n",
       "3              True  \n",
       "4              True  \n",
       "\n",
       "[5 rows x 56 columns]"
      ]
     },
     "execution_count": 4,
     "metadata": {},
     "output_type": "execute_result"
    }
   ],
   "source": [
    "train_df.head()"
   ]
  },
  {
   "cell_type": "code",
   "execution_count": 5,
   "metadata": {},
   "outputs": [
    {
     "data": {
      "text/plain": [
       "(965, 56)"
      ]
     },
     "execution_count": 5,
     "metadata": {},
     "output_type": "execute_result"
    }
   ],
   "source": [
    "train_df.shape"
   ]
  },
  {
   "cell_type": "code",
   "execution_count": 6,
   "metadata": {},
   "outputs": [
    {
     "data": {
      "text/plain": [
       "<bound method NDFrame.describe of      clientid_cr                               clmbuserid_cr  \\\n",
       "0          75694  31629cd0-0b34-460f-aa61-80c3234e1225-1sjfw   \n",
       "1          75694  4c98f114-c34c-48f4-84d6-50fc8e9b6d65-10wgg   \n",
       "2          75694  cd92087a-54b0-4911-bc3d-1144a3c2babd-1sjlg   \n",
       "3          75694  f79f3de7-5edb-4319-9549-117f47996066-10wrk   \n",
       "4          30431  01fd1a8a-c3f8-4b57-94ff-66318d0f63c7-1sjts   \n",
       "..           ...                                         ...   \n",
       "960         2139        41d7dab3-0ab7-4039-a936-2ceab9dbcbf7   \n",
       "961        70491        39511cf3-0358-4ae9-9fec-fe3a74e98a13   \n",
       "962        85572  e5d4037f-ec67-4d7b-8d83-9012ee7d64b9-1sjac   \n",
       "963        75694  c7491247-f203-48df-b08d-d25d0d873e20-1sjwk   \n",
       "964        75694   20dcb941-42eb-4f0c-8f96-7afe12146264-h0k8   \n",
       "\n",
       "     conversiontime_cr                                   imprid_cr  \\\n",
       "0         1.620000e+12  01649076-c77f-4d70-afc8-213535427147-1sjd4   \n",
       "1         1.620000e+12  f84d83b9-b757-4f97-9813-34f8dcc57cc5-1sjfw   \n",
       "2         1.620000e+12  061edef6-3d9d-408b-884a-ad840e6930ce-10o78   \n",
       "3         1.620000e+12  0a937239-9091-4bb7-b26b-37d4bb29e50b-10oa0   \n",
       "4         1.620000e+12  0d46d0d4-8fc6-4d95-aaa1-406354a8400c-1sjo8   \n",
       "..                 ...                                         ...   \n",
       "960       1.620000e+12  a9371035-94c0-49a9-b807-70e472bb31a9-1sk24   \n",
       "961       1.620000e+12  a955a5eb-1f0f-4654-8381-9f709bb98a7a-10ni8   \n",
       "962       1.620000e+12  a97061e8-4863-440a-956c-14c85984c29e-10nw4   \n",
       "963       1.620000e+12  a974732d-bfa0-4018-b216-b2d1c97f3337-1sj7k   \n",
       "964       1.620000e+12  a9794d23-4f67-4446-8c34-6fb608435f40-1siz8   \n",
       "\n",
       "     adslotdimid_cr  algo_cr  \\\n",
       "0            321300     38.0   \n",
       "1            129239     38.0   \n",
       "2            321554     21.0   \n",
       "3            321300     38.0   \n",
       "4            355768     21.0   \n",
       "..              ...      ...   \n",
       "960          321114     18.0   \n",
       "961          334758      6.0   \n",
       "962          348089      1.0   \n",
       "963          356952     21.0   \n",
       "964          356952     38.0   \n",
       "\n",
       "                                          audiences_cr  clickbid_cr  \\\n",
       "0                                              8gw,o3b     2.869316   \n",
       "1                                      8kv,2vk,8gw,2vl     2.790000   \n",
       "2                                              8gw,o3b     2.790000   \n",
       "3                                              8gw,o3b     2.790000   \n",
       "4                                                  NaN          NaN   \n",
       "..                                                 ...          ...   \n",
       "960  8go,8gr,8k6,8h4,8gv,2vk,8gw,8iy,3si,2x6,nqv,2v...     2.000000   \n",
       "961                    2x6,8k6,8k8,30r,8gv,2vk,8gw,8j1          NaN   \n",
       "962                                                NaN    10.000000   \n",
       "963                                                NaN     2.790000   \n",
       "964                                                NaN     2.790000   \n",
       "\n",
       "     geodimid_cr            ip_cr  ...  cityGrpDimId_cr  \\\n",
       "0            144  XXX.XXX.XXX.XXX  ...         348007.0   \n",
       "1            144  XXX.XXX.XXX.XXX  ...         348010.0   \n",
       "2            144  XXX.XXX.XXX.XXX  ...              NaN   \n",
       "3            144  XXX.XXX.XXX.XXX  ...         348007.0   \n",
       "4            144  XXX.XXX.XXX.XXX  ...              NaN   \n",
       "..           ...              ...  ...              ...   \n",
       "960          144  XXX.XXX.XXX.XXX  ...         348005.0   \n",
       "961          144  XXX.XXX.XXX.XXX  ...              NaN   \n",
       "962          144  XXX.XXX.XXX.XXX  ...              NaN   \n",
       "963          144  XXX.XXX.XXX.XXX  ...         348008.0   \n",
       "964          144  XXX.XXX.XXX.XXX  ...         348007.0   \n",
       "\n",
       "           siteClusterIds_cr  refClusterId_cr  paid_cr spend_cr  \\\n",
       "0                        NaN              NaN      NaN      NaN   \n",
       "1                        NaN              NaN      NaN      NaN   \n",
       "2                        NaN              NaN      NaN      NaN   \n",
       "3                        NaN              NaN      NaN      NaN   \n",
       "4                        NaN              NaN      1.0    275.0   \n",
       "..                       ...              ...      ...      ...   \n",
       "960  128,527,333,734,333,000              NaN      NaN      NaN   \n",
       "961  333,734,128,527,333,000              NaN      NaN      NaN   \n",
       "962  333,507,333,503,333,000              NaN      NaN      NaN   \n",
       "963                      NaN              NaN      NaN      NaN   \n",
       "964                      NaN              NaN      NaN      NaN   \n",
       "\n",
       "     attributionType_cr  conversionid_cr  optimize_on_cr  bundleId_cr  \\\n",
       "0                   NaN              NaN             NaN          NaN   \n",
       "1                   NaN              NaN             NaN          NaN   \n",
       "2                   NaN              NaN             NaN          NaN   \n",
       "3                   NaN              NaN             NaN          NaN   \n",
       "4                   1.0              NaN             NaN          NaN   \n",
       "..                  ...              ...             ...          ...   \n",
       "960                 NaN              NaN             NaN          NaN   \n",
       "961                 NaN              NaN             NaN          NaN   \n",
       "962                 NaN              NaN             NaN          NaN   \n",
       "963                 NaN              NaN             NaN          NaN   \n",
       "964                 NaN              NaN             NaN          NaN   \n",
       "\n",
       "     conversion_fraud  \n",
       "0                True  \n",
       "1                True  \n",
       "2                True  \n",
       "3                True  \n",
       "4                True  \n",
       "..                ...  \n",
       "960             False  \n",
       "961             False  \n",
       "962             False  \n",
       "963             False  \n",
       "964             False  \n",
       "\n",
       "[965 rows x 56 columns]>"
      ]
     },
     "execution_count": 6,
     "metadata": {},
     "output_type": "execute_result"
    }
   ],
   "source": [
    "train_df.describe"
   ]
  },
  {
   "cell_type": "code",
   "execution_count": 7,
   "metadata": {},
   "outputs": [
    {
     "data": {
      "text/html": [
       "<div>\n",
       "<style scoped>\n",
       "    .dataframe tbody tr th:only-of-type {\n",
       "        vertical-align: middle;\n",
       "    }\n",
       "\n",
       "    .dataframe tbody tr th {\n",
       "        vertical-align: top;\n",
       "    }\n",
       "\n",
       "    .dataframe thead th {\n",
       "        text-align: right;\n",
       "    }\n",
       "</style>\n",
       "<table border=\"1\" class=\"dataframe\">\n",
       "  <thead>\n",
       "    <tr style=\"text-align: right;\">\n",
       "      <th></th>\n",
       "      <th>Unnamed: 0</th>\n",
       "      <th>imprId</th>\n",
       "      <th>clmbUserId</th>\n",
       "      <th>adSltDimId</th>\n",
       "      <th>auds</th>\n",
       "      <th>allAuds</th>\n",
       "      <th>itemid</th>\n",
       "      <th>algo</th>\n",
       "      <th>advClientId</th>\n",
       "      <th>pubClientId</th>\n",
       "      <th>...</th>\n",
       "      <th>devTypeDimId</th>\n",
       "      <th>vendorDimId</th>\n",
       "      <th>modelDimId</th>\n",
       "      <th>connTypeDimId</th>\n",
       "      <th>browserDimId</th>\n",
       "      <th>refClusterId</th>\n",
       "      <th>fraud</th>\n",
       "      <th>cpa</th>\n",
       "      <th>imprUserId</th>\n",
       "      <th>optout</th>\n",
       "    </tr>\n",
       "  </thead>\n",
       "  <tbody>\n",
       "    <tr>\n",
       "      <th>0</th>\n",
       "      <td>0</td>\n",
       "      <td>72efd138-0f6a-4aed-bd3f-9bdd70c0e869-1sjts</td>\n",
       "      <td>e91fcf75-a645-40f6-ab1f-411017d1d19a-631k</td>\n",
       "      <td>207251</td>\n",
       "      <td>2vv,8k8,8gv,2vk,8gw,joa</td>\n",
       "      <td>7dm,cy9,5b2,oy7,p98,lo4,p12,p16,apc,p18,nqy,ic...</td>\n",
       "      <td>52696204</td>\n",
       "      <td>18</td>\n",
       "      <td>330</td>\n",
       "      <td>2310</td>\n",
       "      <td>...</td>\n",
       "      <td>196047.0</td>\n",
       "      <td>196460.0</td>\n",
       "      <td>202038.0</td>\n",
       "      <td>264494</td>\n",
       "      <td>129639.0</td>\n",
       "      <td>NaN</td>\n",
       "      <td>NaN</td>\n",
       "      <td>NaN</td>\n",
       "      <td>NaN</td>\n",
       "      <td>NaN</td>\n",
       "    </tr>\n",
       "    <tr>\n",
       "      <th>1</th>\n",
       "      <td>0</td>\n",
       "      <td>210a7e16-6783-46a5-9246-c635db091490-3qpg</td>\n",
       "      <td>be37dc3a-d12b-4aa5-bd39-1e42ede9d6b9-6mhk</td>\n",
       "      <td>356952</td>\n",
       "      <td>8gw,2vb,o3b</td>\n",
       "      <td>hkf,n5n,59j,p9q,n3p,p9t,o1o,41j,o1n,nyw,n3s,n5...</td>\n",
       "      <td>53622457</td>\n",
       "      <td>18</td>\n",
       "      <td>330</td>\n",
       "      <td>85030</td>\n",
       "      <td>...</td>\n",
       "      <td>196047.0</td>\n",
       "      <td>196460.0</td>\n",
       "      <td>202038.0</td>\n",
       "      <td>264496</td>\n",
       "      <td>129639.0</td>\n",
       "      <td>NaN</td>\n",
       "      <td>NaN</td>\n",
       "      <td>NaN</td>\n",
       "      <td>NaN</td>\n",
       "      <td>NaN</td>\n",
       "    </tr>\n",
       "    <tr>\n",
       "      <th>2</th>\n",
       "      <td>0</td>\n",
       "      <td>179d3fbb-3e10-435d-851d-f65029ef2eb4-10ntc</td>\n",
       "      <td>faceec73-d833-4bd6-b878-3bc27d2638dd-10uao</td>\n",
       "      <td>350086</td>\n",
       "      <td>2vv,8k8,2vk,8gw</td>\n",
       "      <td>o1j,o1o,oy7,o1n,nyw,oww,lo4,p12,apc,358,5o2,o6...</td>\n",
       "      <td>53622457</td>\n",
       "      <td>38</td>\n",
       "      <td>330</td>\n",
       "      <td>2658</td>\n",
       "      <td>...</td>\n",
       "      <td>196047.0</td>\n",
       "      <td>196460.0</td>\n",
       "      <td>202038.0</td>\n",
       "      <td>264496</td>\n",
       "      <td>129639.0</td>\n",
       "      <td>NaN</td>\n",
       "      <td>NaN</td>\n",
       "      <td>NaN</td>\n",
       "      <td>NaN</td>\n",
       "      <td>NaN</td>\n",
       "    </tr>\n",
       "    <tr>\n",
       "      <th>3</th>\n",
       "      <td>0</td>\n",
       "      <td>79ce617b-88bf-46db-8069-6c892df6a306-1sjo8</td>\n",
       "      <td>113b0b7e-d065-4f14-861e-7bbb49683b15-10u2c</td>\n",
       "      <td>356952</td>\n",
       "      <td>2vv,nqv,2vk,8gw,2vb,o3b</td>\n",
       "      <td>n7j,pf9,n90,n91,n98,o1o,nyw,o1n,lo4,nqv,igs,ap...</td>\n",
       "      <td>53622457</td>\n",
       "      <td>38</td>\n",
       "      <td>330</td>\n",
       "      <td>85030</td>\n",
       "      <td>...</td>\n",
       "      <td>196047.0</td>\n",
       "      <td>196460.0</td>\n",
       "      <td>202038.0</td>\n",
       "      <td>264496</td>\n",
       "      <td>129639.0</td>\n",
       "      <td>NaN</td>\n",
       "      <td>NaN</td>\n",
       "      <td>NaN</td>\n",
       "      <td>NaN</td>\n",
       "      <td>NaN</td>\n",
       "    </tr>\n",
       "    <tr>\n",
       "      <th>4</th>\n",
       "      <td>0</td>\n",
       "      <td>c8f88058-af7e-4284-8c88-2410d94f82e3-1sjo8</td>\n",
       "      <td>2b3dac7e-d4dd-4ae7-936d-1f9b4c73493d-h0hg</td>\n",
       "      <td>129239</td>\n",
       "      <td>8kv,8j6,8k8,2vk,2vl,8gw,3si,2vt,2vv,nqv,2vb,8l...</td>\n",
       "      <td>n7j,nyw,592,n7x,n7z,qq5,apc,n8a,359,n8e,n8g,ap...</td>\n",
       "      <td>53622457</td>\n",
       "      <td>38</td>\n",
       "      <td>330</td>\n",
       "      <td>15240</td>\n",
       "      <td>...</td>\n",
       "      <td>196047.0</td>\n",
       "      <td>196460.0</td>\n",
       "      <td>202038.0</td>\n",
       "      <td>264494</td>\n",
       "      <td>129639.0</td>\n",
       "      <td>NaN</td>\n",
       "      <td>NaN</td>\n",
       "      <td>NaN</td>\n",
       "      <td>NaN</td>\n",
       "      <td>NaN</td>\n",
       "    </tr>\n",
       "  </tbody>\n",
       "</table>\n",
       "<p>5 rows × 55 columns</p>\n",
       "</div>"
      ],
      "text/plain": [
       "   Unnamed: 0                                      imprId  \\\n",
       "0           0  72efd138-0f6a-4aed-bd3f-9bdd70c0e869-1sjts   \n",
       "1           0   210a7e16-6783-46a5-9246-c635db091490-3qpg   \n",
       "2           0  179d3fbb-3e10-435d-851d-f65029ef2eb4-10ntc   \n",
       "3           0  79ce617b-88bf-46db-8069-6c892df6a306-1sjo8   \n",
       "4           0  c8f88058-af7e-4284-8c88-2410d94f82e3-1sjo8   \n",
       "\n",
       "                                   clmbUserId  adSltDimId  \\\n",
       "0   e91fcf75-a645-40f6-ab1f-411017d1d19a-631k      207251   \n",
       "1   be37dc3a-d12b-4aa5-bd39-1e42ede9d6b9-6mhk      356952   \n",
       "2  faceec73-d833-4bd6-b878-3bc27d2638dd-10uao      350086   \n",
       "3  113b0b7e-d065-4f14-861e-7bbb49683b15-10u2c      356952   \n",
       "4   2b3dac7e-d4dd-4ae7-936d-1f9b4c73493d-h0hg      129239   \n",
       "\n",
       "                                                auds  \\\n",
       "0                            2vv,8k8,8gv,2vk,8gw,joa   \n",
       "1                                        8gw,2vb,o3b   \n",
       "2                                    2vv,8k8,2vk,8gw   \n",
       "3                            2vv,nqv,2vk,8gw,2vb,o3b   \n",
       "4  8kv,8j6,8k8,2vk,2vl,8gw,3si,2vt,2vv,nqv,2vb,8l...   \n",
       "\n",
       "                                             allAuds    itemid  algo  \\\n",
       "0  7dm,cy9,5b2,oy7,p98,lo4,p12,p16,apc,p18,nqy,ic...  52696204    18   \n",
       "1  hkf,n5n,59j,p9q,n3p,p9t,o1o,41j,o1n,nyw,n3s,n5...  53622457    18   \n",
       "2  o1j,o1o,oy7,o1n,nyw,oww,lo4,p12,apc,358,5o2,o6...  53622457    38   \n",
       "3  n7j,pf9,n90,n91,n98,o1o,nyw,o1n,lo4,nqv,igs,ap...  53622457    38   \n",
       "4  n7j,nyw,592,n7x,n7z,qq5,apc,n8a,359,n8e,n8g,ap...  53622457    38   \n",
       "\n",
       "   advClientId  pubClientId  ...  devTypeDimId  vendorDimId modelDimId  \\\n",
       "0          330         2310  ...      196047.0     196460.0   202038.0   \n",
       "1          330        85030  ...      196047.0     196460.0   202038.0   \n",
       "2          330         2658  ...      196047.0     196460.0   202038.0   \n",
       "3          330        85030  ...      196047.0     196460.0   202038.0   \n",
       "4          330        15240  ...      196047.0     196460.0   202038.0   \n",
       "\n",
       "   connTypeDimId browserDimId  refClusterId  fraud  cpa imprUserId  optout  \n",
       "0         264494     129639.0           NaN    NaN  NaN        NaN     NaN  \n",
       "1         264496     129639.0           NaN    NaN  NaN        NaN     NaN  \n",
       "2         264496     129639.0           NaN    NaN  NaN        NaN     NaN  \n",
       "3         264496     129639.0           NaN    NaN  NaN        NaN     NaN  \n",
       "4         264494     129639.0           NaN    NaN  NaN        NaN     NaN  \n",
       "\n",
       "[5 rows x 55 columns]"
      ]
     },
     "execution_count": 7,
     "metadata": {},
     "output_type": "execute_result"
    }
   ],
   "source": [
    "click_log.head()"
   ]
  },
  {
   "cell_type": "code",
   "execution_count": 8,
   "metadata": {},
   "outputs": [
    {
     "data": {
      "text/plain": [
       "(244864, 55)"
      ]
     },
     "execution_count": 8,
     "metadata": {},
     "output_type": "execute_result"
    }
   ],
   "source": [
    "click_log.shape"
   ]
  },
  {
   "cell_type": "code",
   "execution_count": 9,
   "metadata": {},
   "outputs": [
    {
     "data": {
      "text/plain": [
       "<bound method NDFrame.describe of         Unnamed: 0                                      imprId  \\\n",
       "0                0  72efd138-0f6a-4aed-bd3f-9bdd70c0e869-1sjts   \n",
       "1                0   210a7e16-6783-46a5-9246-c635db091490-3qpg   \n",
       "2                0  179d3fbb-3e10-435d-851d-f65029ef2eb4-10ntc   \n",
       "3                0  79ce617b-88bf-46db-8069-6c892df6a306-1sjo8   \n",
       "4                0  c8f88058-af7e-4284-8c88-2410d94f82e3-1sjo8   \n",
       "...            ...                                         ...   \n",
       "244859           0  c510e436-f20c-4c38-8093-23cf67aa7bea-1sjac   \n",
       "244860           0  20b55a65-b153-4542-80f1-1d76ae78866f-1sjio   \n",
       "244861           0  b743ca09-56e0-47a7-89fd-a3ccaed28a46-1sjio   \n",
       "244862           0   4f7ad652-633c-44f7-8325-df426a85565a-62t8   \n",
       "244863           0  8a2f5515-6e54-42aa-8653-59c9ed412c55-1sjwk   \n",
       "\n",
       "                                        clmbUserId  adSltDimId  \\\n",
       "0        e91fcf75-a645-40f6-ab1f-411017d1d19a-631k      207251   \n",
       "1        be37dc3a-d12b-4aa5-bd39-1e42ede9d6b9-6mhk      356952   \n",
       "2       faceec73-d833-4bd6-b878-3bc27d2638dd-10uao      350086   \n",
       "3       113b0b7e-d065-4f14-861e-7bbb49683b15-10u2c      356952   \n",
       "4        2b3dac7e-d4dd-4ae7-936d-1f9b4c73493d-h0hg      129239   \n",
       "...                                            ...         ...   \n",
       "244859  4b7f51b8-dbd9-47ac-889e-2fb754aaff78-10vj4      326703   \n",
       "244860  0191cf3d-c1e4-4924-802c-ede0d8f2ebda-1sjio      341479   \n",
       "244861   d436d8cc-de8a-46c5-98f4-debd41964d5c-6m3o      330294   \n",
       "244862  f5f036d5-20d9-4923-ab36-8354b34418f4-10wj8      322157   \n",
       "244863  05c69524-69b8-45c6-a6f1-d741c15a85b0-1sjwk      361851   \n",
       "\n",
       "                                                     auds  \\\n",
       "0                                 2vv,8k8,8gv,2vk,8gw,joa   \n",
       "1                                             8gw,2vb,o3b   \n",
       "2                                         2vv,8k8,2vk,8gw   \n",
       "3                                 2vv,nqv,2vk,8gw,2vb,o3b   \n",
       "4       8kv,8j6,8k8,2vk,2vl,8gw,3si,2vt,2vv,nqv,2vb,8l...   \n",
       "...                                                   ...   \n",
       "244859                                                NaN   \n",
       "244860                                                NaN   \n",
       "244861                                                8gv   \n",
       "244862                                        2vv,2vk,8gw   \n",
       "244863                                                NaN   \n",
       "\n",
       "                                                  allAuds    itemid  algo  \\\n",
       "0       7dm,cy9,5b2,oy7,p98,lo4,p12,p16,apc,p18,nqy,ic...  52696204    18   \n",
       "1       hkf,n5n,59j,p9q,n3p,p9t,o1o,41j,o1n,nyw,n3s,n5...  53622457    18   \n",
       "2       o1j,o1o,oy7,o1n,nyw,oww,lo4,p12,apc,358,5o2,o6...  53622457    38   \n",
       "3       n7j,pf9,n90,n91,n98,o1o,nyw,o1n,lo4,nqv,igs,ap...  53622457    38   \n",
       "4       n7j,nyw,592,n7x,n7z,qq5,apc,n8a,359,n8e,n8g,ap...  53622457    38   \n",
       "...                                                   ...       ...   ...   \n",
       "244859                                                9nj  53930227    38   \n",
       "244860                                                9nj  53930224     1   \n",
       "244861  kmc,6hu,kmk,kmj,kml,mss,oy7,kmn,l7z,oy9,lo4,p1...  53930227    18   \n",
       "244862  h9r,pd5,oy5,gk1,n78,lo4,apc,arh,7gh,5o2,75x,ga...  53930225    38   \n",
       "244863                                            hkf,9nj  53607304    18   \n",
       "\n",
       "        advClientId  pubClientId  ...  devTypeDimId  vendorDimId modelDimId  \\\n",
       "0               330         2310  ...      196047.0     196460.0   202038.0   \n",
       "1               330        85030  ...      196047.0     196460.0   202038.0   \n",
       "2               330         2658  ...      196047.0     196460.0   202038.0   \n",
       "3               330        85030  ...      196047.0     196460.0   202038.0   \n",
       "4               330        15240  ...      196047.0     196460.0   202038.0   \n",
       "...             ...          ...  ...           ...          ...        ...   \n",
       "244859        86321        16153  ...      196041.0       196182          0   \n",
       "244860        86321        80185  ...      196041.0       196376          0   \n",
       "244861        86321        69646  ...      196041.0       196469          0   \n",
       "244862        86321        16153  ...      196041.0       196472          0   \n",
       "244863        86321        86657  ...      196041.0       196472          0   \n",
       "\n",
       "        connTypeDimId browserDimId             refClusterId  fraud  cpa  \\\n",
       "0              264494     129639.0                      NaN    NaN  NaN   \n",
       "1              264496     129639.0                      NaN    NaN  NaN   \n",
       "2              264496     129639.0                      NaN    NaN  NaN   \n",
       "3              264496     129639.0                      NaN    NaN  NaN   \n",
       "4              264494     129639.0                      NaN    NaN  NaN   \n",
       "...               ...          ...                      ...    ...  ...   \n",
       "244859         264496            0                      NaN    NaN  NaN   \n",
       "244860         264496            0                      NaN    NaN  NaN   \n",
       "244861         264496       129408  333,507,333,495,333,000    NaN  NaN   \n",
       "244862         264496       129408                   333493    NaN  NaN   \n",
       "244863         264496       129408                      NaN    NaN  NaN   \n",
       "\n",
       "                                        imprUserId  optout  \n",
       "0                                              NaN     NaN  \n",
       "1                                              NaN     NaN  \n",
       "2                                              NaN     NaN  \n",
       "3                                              NaN     NaN  \n",
       "4                                              NaN     NaN  \n",
       "...                                            ...     ...  \n",
       "244859  e35261e3-428c-423e-8963-08a17076b52f-1sjac     NaN  \n",
       "244860                                         NaN     NaN  \n",
       "244861                                         NaN     NaN  \n",
       "244862                                         NaN     NaN  \n",
       "244863                                         NaN     NaN  \n",
       "\n",
       "[244864 rows x 55 columns]>"
      ]
     },
     "execution_count": 9,
     "metadata": {},
     "output_type": "execute_result"
    }
   ],
   "source": [
    "click_log.describe"
   ]
  },
  {
   "cell_type": "code",
   "execution_count": 10,
   "metadata": {},
   "outputs": [
    {
     "data": {
      "text/html": [
       "<div>\n",
       "<style scoped>\n",
       "    .dataframe tbody tr th:only-of-type {\n",
       "        vertical-align: middle;\n",
       "    }\n",
       "\n",
       "    .dataframe tbody tr th {\n",
       "        vertical-align: top;\n",
       "    }\n",
       "\n",
       "    .dataframe thead th {\n",
       "        text-align: right;\n",
       "    }\n",
       "</style>\n",
       "<table border=\"1\" class=\"dataframe\">\n",
       "  <thead>\n",
       "    <tr style=\"text-align: right;\">\n",
       "      <th></th>\n",
       "      <th>record_id</th>\n",
       "      <th>clientid_cr</th>\n",
       "      <th>clmbuserid_cr</th>\n",
       "      <th>conversiontime_cr</th>\n",
       "      <th>imprid_cr</th>\n",
       "      <th>adslotdimid_cr</th>\n",
       "      <th>algo_cr</th>\n",
       "      <th>audiences_cr</th>\n",
       "      <th>clickbid_cr</th>\n",
       "      <th>geodimid_cr</th>\n",
       "      <th>...</th>\n",
       "      <th>usrClusterId_cr</th>\n",
       "      <th>cityGrpDimId_cr</th>\n",
       "      <th>siteClusterIds_cr</th>\n",
       "      <th>refClusterId_cr</th>\n",
       "      <th>paid_cr</th>\n",
       "      <th>spend_cr</th>\n",
       "      <th>attributionType_cr</th>\n",
       "      <th>conversionid_cr</th>\n",
       "      <th>optimize_on_cr</th>\n",
       "      <th>bundleId_cr</th>\n",
       "    </tr>\n",
       "  </thead>\n",
       "  <tbody>\n",
       "    <tr>\n",
       "      <th>0</th>\n",
       "      <td>1000</td>\n",
       "      <td>82122</td>\n",
       "      <td>1045e8b8-662e-49b3-bc4a-4af5326c8236-62kw</td>\n",
       "      <td>1620000000000</td>\n",
       "      <td>864cdaf0-cca7-4bcc-b210-a33858cf8755-1siz8</td>\n",
       "      <td>233531</td>\n",
       "      <td>38</td>\n",
       "      <td>NaN</td>\n",
       "      <td>NaN</td>\n",
       "      <td>145</td>\n",
       "      <td>...</td>\n",
       "      <td>NaN</td>\n",
       "      <td>NaN</td>\n",
       "      <td>3.337341e+17</td>\n",
       "      <td>NaN</td>\n",
       "      <td>NaN</td>\n",
       "      <td>NaN</td>\n",
       "      <td>NaN</td>\n",
       "      <td>NaN</td>\n",
       "      <td>NaN</td>\n",
       "      <td>NaN</td>\n",
       "    </tr>\n",
       "    <tr>\n",
       "      <th>1</th>\n",
       "      <td>1001</td>\n",
       "      <td>75694</td>\n",
       "      <td>53a9a707-967d-4a67-8e9f-e3dd55b464e8-10wm0</td>\n",
       "      <td>1620000000000</td>\n",
       "      <td>6c44c171-9445-4e6b-856e-89bfcd0be22c-1sito</td>\n",
       "      <td>356952</td>\n",
       "      <td>20</td>\n",
       "      <td>NaN</td>\n",
       "      <td>3.1</td>\n",
       "      <td>144</td>\n",
       "      <td>...</td>\n",
       "      <td>NaN</td>\n",
       "      <td>348006.0</td>\n",
       "      <td>NaN</td>\n",
       "      <td>NaN</td>\n",
       "      <td>NaN</td>\n",
       "      <td>NaN</td>\n",
       "      <td>NaN</td>\n",
       "      <td>NaN</td>\n",
       "      <td>NaN</td>\n",
       "      <td>NaN</td>\n",
       "    </tr>\n",
       "    <tr>\n",
       "      <th>2</th>\n",
       "      <td>1002</td>\n",
       "      <td>75694</td>\n",
       "      <td>53a9a707-967d-4a67-8e9f-e3dd55b464e8-10wm0</td>\n",
       "      <td>1620000000000</td>\n",
       "      <td>c00eae97-46c5-48b8-89bf-9d45628b9de3-1siz8</td>\n",
       "      <td>356952</td>\n",
       "      <td>18</td>\n",
       "      <td>NaN</td>\n",
       "      <td>3.1</td>\n",
       "      <td>144</td>\n",
       "      <td>...</td>\n",
       "      <td>NaN</td>\n",
       "      <td>348006.0</td>\n",
       "      <td>NaN</td>\n",
       "      <td>NaN</td>\n",
       "      <td>NaN</td>\n",
       "      <td>NaN</td>\n",
       "      <td>NaN</td>\n",
       "      <td>NaN</td>\n",
       "      <td>NaN</td>\n",
       "      <td>NaN</td>\n",
       "    </tr>\n",
       "    <tr>\n",
       "      <th>3</th>\n",
       "      <td>1003</td>\n",
       "      <td>30431</td>\n",
       "      <td>5febd7e2-b66a-4af0-91ec-117557684188-10wrk</td>\n",
       "      <td>1620000000000</td>\n",
       "      <td>40aad66c-d2da-4635-8b5e-46aca58d2dc6-10o78</td>\n",
       "      <td>355768</td>\n",
       "      <td>21</td>\n",
       "      <td>NaN</td>\n",
       "      <td>NaN</td>\n",
       "      <td>144</td>\n",
       "      <td>...</td>\n",
       "      <td>NaN</td>\n",
       "      <td>348010.0</td>\n",
       "      <td>NaN</td>\n",
       "      <td>NaN</td>\n",
       "      <td>1.0</td>\n",
       "      <td>275.0</td>\n",
       "      <td>1.0</td>\n",
       "      <td>NaN</td>\n",
       "      <td>NaN</td>\n",
       "      <td>NaN</td>\n",
       "    </tr>\n",
       "    <tr>\n",
       "      <th>4</th>\n",
       "      <td>1004</td>\n",
       "      <td>30431</td>\n",
       "      <td>5febd7e2-b66a-4af0-91ec-117557684188-10wrk</td>\n",
       "      <td>1620000000000</td>\n",
       "      <td>4742d072-32ed-45bc-9ca9-5dca4a69f5b1-10onw</td>\n",
       "      <td>355768</td>\n",
       "      <td>21</td>\n",
       "      <td>NaN</td>\n",
       "      <td>NaN</td>\n",
       "      <td>144</td>\n",
       "      <td>...</td>\n",
       "      <td>NaN</td>\n",
       "      <td>348010.0</td>\n",
       "      <td>NaN</td>\n",
       "      <td>NaN</td>\n",
       "      <td>1.0</td>\n",
       "      <td>275.0</td>\n",
       "      <td>1.0</td>\n",
       "      <td>NaN</td>\n",
       "      <td>NaN</td>\n",
       "      <td>NaN</td>\n",
       "    </tr>\n",
       "  </tbody>\n",
       "</table>\n",
       "<p>5 rows × 56 columns</p>\n",
       "</div>"
      ],
      "text/plain": [
       "   record_id  clientid_cr                               clmbuserid_cr  \\\n",
       "0       1000        82122   1045e8b8-662e-49b3-bc4a-4af5326c8236-62kw   \n",
       "1       1001        75694  53a9a707-967d-4a67-8e9f-e3dd55b464e8-10wm0   \n",
       "2       1002        75694  53a9a707-967d-4a67-8e9f-e3dd55b464e8-10wm0   \n",
       "3       1003        30431  5febd7e2-b66a-4af0-91ec-117557684188-10wrk   \n",
       "4       1004        30431  5febd7e2-b66a-4af0-91ec-117557684188-10wrk   \n",
       "\n",
       "   conversiontime_cr                                   imprid_cr  \\\n",
       "0      1620000000000  864cdaf0-cca7-4bcc-b210-a33858cf8755-1siz8   \n",
       "1      1620000000000  6c44c171-9445-4e6b-856e-89bfcd0be22c-1sito   \n",
       "2      1620000000000  c00eae97-46c5-48b8-89bf-9d45628b9de3-1siz8   \n",
       "3      1620000000000  40aad66c-d2da-4635-8b5e-46aca58d2dc6-10o78   \n",
       "4      1620000000000  4742d072-32ed-45bc-9ca9-5dca4a69f5b1-10onw   \n",
       "\n",
       "   adslotdimid_cr  algo_cr audiences_cr  clickbid_cr  geodimid_cr  ...  \\\n",
       "0          233531       38          NaN          NaN          145  ...   \n",
       "1          356952       20          NaN          3.1          144  ...   \n",
       "2          356952       18          NaN          3.1          144  ...   \n",
       "3          355768       21          NaN          NaN          144  ...   \n",
       "4          355768       21          NaN          NaN          144  ...   \n",
       "\n",
       "  usrClusterId_cr  cityGrpDimId_cr  siteClusterIds_cr  refClusterId_cr  \\\n",
       "0             NaN              NaN       3.337341e+17              NaN   \n",
       "1             NaN         348006.0                NaN              NaN   \n",
       "2             NaN         348006.0                NaN              NaN   \n",
       "3             NaN         348010.0                NaN              NaN   \n",
       "4             NaN         348010.0                NaN              NaN   \n",
       "\n",
       "   paid_cr spend_cr  attributionType_cr  conversionid_cr  optimize_on_cr  \\\n",
       "0      NaN      NaN                 NaN              NaN             NaN   \n",
       "1      NaN      NaN                 NaN              NaN             NaN   \n",
       "2      NaN      NaN                 NaN              NaN             NaN   \n",
       "3      1.0    275.0                 1.0              NaN             NaN   \n",
       "4      1.0    275.0                 1.0              NaN             NaN   \n",
       "\n",
       "   bundleId_cr  \n",
       "0          NaN  \n",
       "1          NaN  \n",
       "2          NaN  \n",
       "3          NaN  \n",
       "4          NaN  \n",
       "\n",
       "[5 rows x 56 columns]"
      ]
     },
     "execution_count": 10,
     "metadata": {},
     "output_type": "execute_result"
    }
   ],
   "source": [
    "test_df.head()"
   ]
  },
  {
   "cell_type": "code",
   "execution_count": 11,
   "metadata": {},
   "outputs": [
    {
     "data": {
      "text/plain": [
       "(455, 56)"
      ]
     },
     "execution_count": 11,
     "metadata": {},
     "output_type": "execute_result"
    }
   ],
   "source": [
    "test_df.shape"
   ]
  },
  {
   "cell_type": "code",
   "execution_count": 12,
   "metadata": {},
   "outputs": [
    {
     "data": {
      "text/plain": [
       "<bound method NDFrame.describe of      record_id  clientid_cr                               clmbuserid_cr  \\\n",
       "0         1000        82122   1045e8b8-662e-49b3-bc4a-4af5326c8236-62kw   \n",
       "1         1001        75694  53a9a707-967d-4a67-8e9f-e3dd55b464e8-10wm0   \n",
       "2         1002        75694  53a9a707-967d-4a67-8e9f-e3dd55b464e8-10wm0   \n",
       "3         1003        30431  5febd7e2-b66a-4af0-91ec-117557684188-10wrk   \n",
       "4         1004        30431  5febd7e2-b66a-4af0-91ec-117557684188-10wrk   \n",
       "..         ...          ...                                         ...   \n",
       "450       1450        75694   d7b5dfcb-b5ea-4862-8e47-5d775c568b00-6m6g   \n",
       "451       1451        75694  81b2e0f3-ba16-4f1d-ba54-cbb18ab54dca-1sjac   \n",
       "452       1452        75694  9453538d-3c8a-4e9b-aff3-85a37b722429-1sj4s   \n",
       "453       1453         8895        8399fad4-a7de-49ec-9e58-d18530086e7d   \n",
       "454       1454        75694   f4e73931-1c75-486c-874c-472ccf018827-6mhk   \n",
       "\n",
       "     conversiontime_cr                                   imprid_cr  \\\n",
       "0        1620000000000  864cdaf0-cca7-4bcc-b210-a33858cf8755-1siz8   \n",
       "1        1620000000000  6c44c171-9445-4e6b-856e-89bfcd0be22c-1sito   \n",
       "2        1620000000000  c00eae97-46c5-48b8-89bf-9d45628b9de3-1siz8   \n",
       "3        1620000000000  40aad66c-d2da-4635-8b5e-46aca58d2dc6-10o78   \n",
       "4        1620000000000  4742d072-32ed-45bc-9ca9-5dca4a69f5b1-10onw   \n",
       "..                 ...                                         ...   \n",
       "450      1620000000000  ff755b7d-00a4-426a-835c-ddf7f56af2b3-10o78   \n",
       "451      1620000000000  ff89a128-e0b9-4dcd-9a3f-257dff9e4dd5-10o78   \n",
       "452      1620000000000  ff9b716c-4cd1-44a7-9c21-19f6a73f31a2-10nqk   \n",
       "453      1620000000000  ffc803da-ac63-4bf3-88fa-bd1d70bcdc39-10ntc   \n",
       "454      1620000000000  fff5b2b9-fb23-4dec-8873-67e36ba8f272-1sjfw   \n",
       "\n",
       "     adslotdimid_cr  algo_cr  \\\n",
       "0            233531       38   \n",
       "1            356952       20   \n",
       "2            356952       18   \n",
       "3            355768       21   \n",
       "4            355768       21   \n",
       "..              ...      ...   \n",
       "450          332783       20   \n",
       "451          129239       20   \n",
       "452          129237       37   \n",
       "453          334760        2   \n",
       "454          239188       38   \n",
       "\n",
       "                                          audiences_cr  clickbid_cr  \\\n",
       "0                                                  NaN          NaN   \n",
       "1                                                  NaN         3.10   \n",
       "2                                                  NaN         3.10   \n",
       "3                                                  NaN          NaN   \n",
       "4                                                  NaN          NaN   \n",
       "..                                                 ...          ...   \n",
       "450  8kt,8j4,8k6,8kv,8j6,8k8,2vk,8gv,2vl,8gw,8iy,3s...         3.10   \n",
       "451  8gq,8k6,8kv,8k8,2vk,8gv,2vl,8gw,2x6,2vv,30r,8g...          NaN   \n",
       "452                                    8kv,2vk,8gw,2vl         3.10   \n",
       "453  jof,8l5,jog,3si,jo3,nqv,jo8,8ke,8kf,8kg,jo9,7g...          NaN   \n",
       "454                                8go,2vk,8gw,3si,o3b         2.79   \n",
       "\n",
       "     geodimid_cr  ... usrClusterId_cr  cityGrpDimId_cr  siteClusterIds_cr  \\\n",
       "0            145  ...             NaN              NaN       3.337341e+17   \n",
       "1            144  ...             NaN         348006.0                NaN   \n",
       "2            144  ...             NaN         348006.0                NaN   \n",
       "3            144  ...             NaN         348010.0                NaN   \n",
       "4            144  ...             NaN         348010.0                NaN   \n",
       "..           ...  ...             ...              ...                ...   \n",
       "450          144  ...    3.334963e+17              NaN       3.337341e+17   \n",
       "451          144  ...    3.334951e+17         348009.0                NaN   \n",
       "452          144  ...             NaN         348010.0                NaN   \n",
       "453          144  ...    3.335000e+05              NaN       3.337341e+17   \n",
       "454          144  ...             NaN              NaN       3.337341e+17   \n",
       "\n",
       "     refClusterId_cr  paid_cr spend_cr  attributionType_cr  conversionid_cr  \\\n",
       "0                NaN      NaN      NaN                 NaN              NaN   \n",
       "1                NaN      NaN      NaN                 NaN              NaN   \n",
       "2                NaN      NaN      NaN                 NaN              NaN   \n",
       "3                NaN      1.0    275.0                 1.0              NaN   \n",
       "4                NaN      1.0    275.0                 1.0              NaN   \n",
       "..               ...      ...      ...                 ...              ...   \n",
       "450              NaN      NaN      NaN                 NaN              NaN   \n",
       "451              NaN      NaN      NaN                 NaN              NaN   \n",
       "452              NaN      NaN      NaN                 NaN              NaN   \n",
       "453              NaN      1.0    600.0                 1.0              NaN   \n",
       "454              NaN      NaN      NaN                 NaN              NaN   \n",
       "\n",
       "     optimize_on_cr  bundleId_cr  \n",
       "0               NaN          NaN  \n",
       "1               NaN          NaN  \n",
       "2               NaN          NaN  \n",
       "3               NaN          NaN  \n",
       "4               NaN          NaN  \n",
       "..              ...          ...  \n",
       "450             NaN          NaN  \n",
       "451             NaN          NaN  \n",
       "452             NaN          NaN  \n",
       "453             NaN          NaN  \n",
       "454             NaN          NaN  \n",
       "\n",
       "[455 rows x 56 columns]>"
      ]
     },
     "execution_count": 12,
     "metadata": {},
     "output_type": "execute_result"
    }
   ],
   "source": [
    "test_df.describe"
   ]
  },
  {
   "cell_type": "code",
   "execution_count": 13,
   "metadata": {},
   "outputs": [
    {
     "data": {
      "text/plain": [
       "56"
      ]
     },
     "execution_count": 13,
     "metadata": {},
     "output_type": "execute_result"
    }
   ],
   "source": [
    "len(train_df.columns)"
   ]
  },
  {
   "cell_type": "code",
   "execution_count": 14,
   "metadata": {},
   "outputs": [
    {
     "data": {
      "text/plain": [
       "55"
      ]
     },
     "execution_count": 14,
     "metadata": {},
     "output_type": "execute_result"
    }
   ],
   "source": [
    "len(click_log.columns)"
   ]
  },
  {
   "cell_type": "code",
   "execution_count": 15,
   "metadata": {},
   "outputs": [
    {
     "data": {
      "text/plain": [
       "56"
      ]
     },
     "execution_count": 15,
     "metadata": {},
     "output_type": "execute_result"
    }
   ],
   "source": [
    "len(test_df.columns)"
   ]
  },
  {
   "cell_type": "markdown",
   "metadata": {},
   "source": [
    "### Feature Engineering"
   ]
  },
  {
   "cell_type": "code",
   "execution_count": 18,
   "metadata": {},
   "outputs": [
    {
     "data": {
      "text/plain": [
       "clientid_cr                        0\n",
       "clmbuserid_cr                      0\n",
       "conversiontime_cr                  0\n",
       "imprid_cr                          0\n",
       "adslotdimid_cr                     0\n",
       "algo_cr                           20\n",
       "audiences_cr                     199\n",
       "clickbid_cr                      296\n",
       "geodimid_cr                        0\n",
       "ip_cr                             20\n",
       "itemcolumbiaid_cr                  0\n",
       "itemid_cr                          0\n",
       "position_cr                       20\n",
       "pubclientid_cr                     0\n",
       "refurl_cr                        125\n",
       "siteId_cr                          0\n",
       "templateid_cr                    107\n",
       "goalid_cr                          0\n",
       "time_cr                            0\n",
       "adLogType_cr                       0\n",
       "v_cr                               1\n",
       "allAudiences_cr                   47\n",
       "pricingtype_cr                     0\n",
       "osId_cr                           21\n",
       "browserId_cr                      21\n",
       "cityId_cr                         20\n",
       "stateId_cr                        20\n",
       "modelDimId_cr                     21\n",
       "lookUpFrom_cr                      0\n",
       "connTypeDimId_cr                  20\n",
       "ispDimId_cr                       20\n",
       "countryDimId_cr                   20\n",
       "goalTypeId_cr                      0\n",
       "conversionDurationInMillis_cr     20\n",
       "impressionTimeInMillis_cr         20\n",
       "clickTimeInMillis_cr             132\n",
       "osVerDimId_cr                     21\n",
       "uuidSource_cr                     20\n",
       "geoGrpDimId_cr                    20\n",
       "stateGrpDimId_cr                 105\n",
       "cityGrpDimId_cr                  344\n",
       "conversion_fraud                   0\n",
       "dtype: int64"
      ]
     },
     "execution_count": 18,
     "metadata": {},
     "output_type": "execute_result"
    }
   ],
   "source": [
    "train_df.isnull().sum()"
   ]
  },
  {
   "cell_type": "code",
   "execution_count": 19,
   "metadata": {},
   "outputs": [
    {
     "data": {
      "text/plain": [
       "clientid_cr                       0.000000\n",
       "clmbuserid_cr                     0.000000\n",
       "conversiontime_cr                 0.000000\n",
       "imprid_cr                         0.000000\n",
       "adslotdimid_cr                    0.000000\n",
       "algo_cr                           2.072539\n",
       "audiences_cr                     20.621762\n",
       "clickbid_cr                      30.673575\n",
       "geodimid_cr                       0.000000\n",
       "ip_cr                             2.072539\n",
       "itemcolumbiaid_cr                 0.000000\n",
       "itemid_cr                         0.000000\n",
       "position_cr                       2.072539\n",
       "pubclientid_cr                    0.000000\n",
       "refurl_cr                        12.953368\n",
       "siteId_cr                         0.000000\n",
       "templateid_cr                    11.088083\n",
       "goalid_cr                         0.000000\n",
       "time_cr                           0.000000\n",
       "adLogType_cr                      0.000000\n",
       "v_cr                              0.103627\n",
       "allAudiences_cr                   4.870466\n",
       "pricingtype_cr                    0.000000\n",
       "osId_cr                           2.176166\n",
       "browserId_cr                      2.176166\n",
       "cityId_cr                         2.072539\n",
       "stateId_cr                        2.072539\n",
       "modelDimId_cr                     2.176166\n",
       "lookUpFrom_cr                     0.000000\n",
       "connTypeDimId_cr                  2.072539\n",
       "ispDimId_cr                       2.072539\n",
       "countryDimId_cr                   2.072539\n",
       "goalTypeId_cr                     0.000000\n",
       "conversionDurationInMillis_cr     2.072539\n",
       "impressionTimeInMillis_cr         2.072539\n",
       "clickTimeInMillis_cr             13.678756\n",
       "osVerDimId_cr                     2.176166\n",
       "uuidSource_cr                     2.072539\n",
       "geoGrpDimId_cr                    2.072539\n",
       "stateGrpDimId_cr                 10.880829\n",
       "cityGrpDimId_cr                  35.647668\n",
       "conversion_fraud                  0.000000\n",
       "dtype: float64"
      ]
     },
     "execution_count": 19,
     "metadata": {},
     "output_type": "execute_result"
    }
   ],
   "source": [
    "train_df.isnull().mean()*100"
   ]
  },
  {
   "cell_type": "code",
   "execution_count": 20,
   "metadata": {},
   "outputs": [],
   "source": [
    "#Drop the featutres which has more number of null values\n",
    "features_not_needed = []\n",
    "for feature in train_df.columns:\n",
    "    if train_df[feature].isnull().mean()*100 >= 40:\n",
    "        features_not_needed.append(feature)"
   ]
  },
  {
   "cell_type": "code",
   "execution_count": 21,
   "metadata": {},
   "outputs": [],
   "source": [
    "train_df = train_df.drop(features_not_needed, axis = \"columns\")"
   ]
  },
  {
   "cell_type": "code",
   "execution_count": 22,
   "metadata": {},
   "outputs": [
    {
     "data": {
      "text/plain": [
       "(965, 42)"
      ]
     },
     "execution_count": 22,
     "metadata": {},
     "output_type": "execute_result"
    }
   ],
   "source": [
    "train_df.shape"
   ]
  },
  {
   "cell_type": "code",
   "execution_count": 23,
   "metadata": {},
   "outputs": [],
   "source": [
    "def null_values(df, feature_list):\n",
    "    for col in feature_list:\n",
    "        print(col, \"-->\", df[col].isnull().mean()*100)"
   ]
  },
  {
   "cell_type": "code",
   "execution_count": 24,
   "metadata": {},
   "outputs": [
    {
     "data": {
      "text/plain": [
       "['clientid_cr',\n",
       " 'conversiontime_cr',\n",
       " 'adslotdimid_cr',\n",
       " 'algo_cr',\n",
       " 'clickbid_cr',\n",
       " 'geodimid_cr',\n",
       " 'itemcolumbiaid_cr',\n",
       " 'itemid_cr',\n",
       " 'position_cr',\n",
       " 'pubclientid_cr',\n",
       " 'siteId_cr',\n",
       " 'templateid_cr',\n",
       " 'goalid_cr',\n",
       " 'time_cr',\n",
       " 'adLogType_cr',\n",
       " 'v_cr',\n",
       " 'pricingtype_cr',\n",
       " 'osId_cr',\n",
       " 'browserId_cr',\n",
       " 'cityId_cr',\n",
       " 'stateId_cr',\n",
       " 'modelDimId_cr',\n",
       " 'lookUpFrom_cr',\n",
       " 'ispDimId_cr',\n",
       " 'countryDimId_cr',\n",
       " 'goalTypeId_cr',\n",
       " 'conversionDurationInMillis_cr',\n",
       " 'impressionTimeInMillis_cr',\n",
       " 'clickTimeInMillis_cr',\n",
       " 'osVerDimId_cr',\n",
       " 'uuidSource_cr',\n",
       " 'geoGrpDimId_cr',\n",
       " 'stateGrpDimId_cr',\n",
       " 'cityGrpDimId_cr',\n",
       " 'conversion_fraud']"
      ]
     },
     "execution_count": 24,
     "metadata": {},
     "output_type": "execute_result"
    }
   ],
   "source": [
    "numerical_features = [feature for feature in train_df.columns if train_df[feature].dtypes != 'O']\n",
    "numerical_features"
   ]
  },
  {
   "cell_type": "code",
   "execution_count": 25,
   "metadata": {},
   "outputs": [
    {
     "name": "stdout",
     "output_type": "stream",
     "text": [
      "clientid_cr --> 0.0\n",
      "conversiontime_cr --> 0.0\n",
      "adslotdimid_cr --> 0.0\n",
      "algo_cr --> 2.072538860103627\n",
      "clickbid_cr --> 30.67357512953368\n",
      "geodimid_cr --> 0.0\n",
      "itemcolumbiaid_cr --> 0.0\n",
      "itemid_cr --> 0.0\n",
      "position_cr --> 2.072538860103627\n",
      "pubclientid_cr --> 0.0\n",
      "siteId_cr --> 0.0\n",
      "templateid_cr --> 11.088082901554404\n",
      "goalid_cr --> 0.0\n",
      "time_cr --> 0.0\n",
      "adLogType_cr --> 0.0\n",
      "v_cr --> 0.10362694300518134\n",
      "pricingtype_cr --> 0.0\n",
      "osId_cr --> 2.1761658031088085\n",
      "browserId_cr --> 2.1761658031088085\n",
      "cityId_cr --> 2.072538860103627\n",
      "stateId_cr --> 2.072538860103627\n",
      "modelDimId_cr --> 2.1761658031088085\n",
      "lookUpFrom_cr --> 0.0\n",
      "ispDimId_cr --> 2.072538860103627\n",
      "countryDimId_cr --> 2.072538860103627\n",
      "goalTypeId_cr --> 0.0\n",
      "conversionDurationInMillis_cr --> 2.072538860103627\n",
      "impressionTimeInMillis_cr --> 2.072538860103627\n",
      "clickTimeInMillis_cr --> 13.678756476683937\n",
      "osVerDimId_cr --> 2.1761658031088085\n",
      "uuidSource_cr --> 2.072538860103627\n",
      "geoGrpDimId_cr --> 2.072538860103627\n",
      "stateGrpDimId_cr --> 10.880829015544041\n",
      "cityGrpDimId_cr --> 35.64766839378238\n",
      "conversion_fraud --> 0.0\n"
     ]
    }
   ],
   "source": [
    "null_values(train_df, numerical_features)"
   ]
  },
  {
   "cell_type": "code",
   "execution_count": 26,
   "metadata": {},
   "outputs": [],
   "source": [
    "numerical_features_with_nan = [feature for feature in numerical_features if train_df[feature].isnull().mean() != 0]"
   ]
  },
  {
   "cell_type": "code",
   "execution_count": 27,
   "metadata": {},
   "outputs": [
    {
     "data": {
      "text/plain": [
       "['algo_cr',\n",
       " 'clickbid_cr',\n",
       " 'position_cr',\n",
       " 'templateid_cr',\n",
       " 'v_cr',\n",
       " 'osId_cr',\n",
       " 'browserId_cr',\n",
       " 'cityId_cr',\n",
       " 'stateId_cr',\n",
       " 'modelDimId_cr',\n",
       " 'ispDimId_cr',\n",
       " 'countryDimId_cr',\n",
       " 'conversionDurationInMillis_cr',\n",
       " 'impressionTimeInMillis_cr',\n",
       " 'clickTimeInMillis_cr',\n",
       " 'osVerDimId_cr',\n",
       " 'uuidSource_cr',\n",
       " 'geoGrpDimId_cr',\n",
       " 'stateGrpDimId_cr',\n",
       " 'cityGrpDimId_cr']"
      ]
     },
     "execution_count": 27,
     "metadata": {},
     "output_type": "execute_result"
    }
   ],
   "source": [
    "numerical_features_with_nan"
   ]
  },
  {
   "cell_type": "code",
   "execution_count": 30,
   "metadata": {},
   "outputs": [],
   "source": [
    "def plot_hist(df, feature):\n",
    "    plt.hist(df[feature], color='blue')\n",
    "    plt.title(feature)\n",
    "    plt.show()"
   ]
  },
  {
   "cell_type": "code",
   "execution_count": 31,
   "metadata": {},
   "outputs": [
    {
     "data": {
      "image/png": "[encoded data removed]",
      "text/plain": [
       "<Figure size 432x288 with 1 Axes>"
      ]
     },
     "metadata": {
      "needs_background": "light"
     },
     "output_type": "display_data"
    },
    {
     "data": {
      "image/png": "[encoded data removed]",
      "text/plain": [
       "<Figure size 432x288 with 1 Axes>"
      ]
     },
     "metadata": {
      "needs_background": "light"
     },
     "output_type": "display_data"
    },
    {
     "data": {
      "image/png": "[encoded data removed]",
      "text/plain": [
       "<Figure size 432x288 with 1 Axes>"
      ]
     },
     "metadata": {
      "needs_background": "light"
     },
     "output_type": "display_data"
    },
    {
     "data": {
      "image/png": "[encoded data removed]",
      "text/plain": [
       "<Figure size 432x288 with 1 Axes>"
      ]
     },
     "metadata": {
      "needs_background": "light"
     },
     "output_type": "display_data"
    },
    {
     "data": {
      "image/png": "[encoded data removed]",
      "text/plain": [
       "<Figure size 432x288 with 1 Axes>"
      ]
     },
     "metadata": {
      "needs_background": "light"
     },
     "output_type": "display_data"
    },
    {
     "data": {
      "image/png": "[encoded data removed]",
      "text/plain": [
       "<Figure size 432x288 with 1 Axes>"
      ]
     },
     "metadata": {
      "needs_background": "light"
     },
     "output_type": "display_data"
    },
    {
     "data": {
      "image/png": "[encoded data removed]",
      "text/plain": [
       "<Figure size 432x288 with 1 Axes>"
      ]
     },
     "metadata": {
      "needs_background": "light"
     },
     "output_type": "display_data"
    },
    {
     "data": {
      "image/png": "[encoded data removed]",
      "text/plain": [
       "<Figure size 432x288 with 1 Axes>"
      ]
     },
     "metadata": {
      "needs_background": "light"
     },
     "output_type": "display_data"
    },
    {
     "data": {
      "image/png": "[encoded data removed]",
      "text/plain": [
       "<Figure size 432x288 with 1 Axes>"
      ]
     },
     "metadata": {
      "needs_background": "light"
     },
     "output_type": "display_data"
    },
    {
     "data": {
      "image/png": "[encoded data removed]",
      "text/plain": [
       "<Figure size 432x288 with 1 Axes>"
      ]
     },
     "metadata": {
      "needs_background": "light"
     },
     "output_type": "display_data"
    },
    {
     "data": {
      "image/png": "[encoded data removed]",
      "text/plain": [
       "<Figure size 432x288 with 1 Axes>"
      ]
     },
     "metadata": {
      "needs_background": "light"
     },
     "output_type": "display_data"
    },
    {
     "data": {
      "image/png": "[encoded data removed]",
      "text/plain": [
       "<Figure size 432x288 with 1 Axes>"
      ]
     },
     "metadata": {
      "needs_background": "light"
     },
     "output_type": "display_data"
    },
    {
     "data": {
      "image/png": "[encoded data removed]",
      "text/plain": [
       "<Figure size 432x288 with 1 Axes>"
      ]
     },
     "metadata": {
      "needs_background": "light"
     },
     "output_type": "display_data"
    },
    {
     "data": {
      "image/png": "[encoded data removed]",
      "text/plain": [
       "<Figure size 432x288 with 1 Axes>"
      ]
     },
     "metadata": {
      "needs_background": "light"
     },
     "output_type": "display_data"
    },
    {
     "data": {
      "image/png": "[encoded data removed]",
      "text/plain": [
       "<Figure size 432x288 with 1 Axes>"
      ]
     },
     "metadata": {
      "needs_background": "light"
     },
     "output_type": "display_data"
    },
    {
     "data": {
      "image/png": "[encoded data removed]",
      "text/plain": [
       "<Figure size 432x288 with 1 Axes>"
      ]
     },
     "metadata": {
      "needs_background": "light"
     },
     "output_type": "display_data"
    },
    {
     "data": {
      "image/png": "[encoded data removed]",
      "text/plain": [
       "<Figure size 432x288 with 1 Axes>"
      ]
     },
     "metadata": {
      "needs_background": "light"
     },
     "output_type": "display_data"
    },
    {
     "data": {
      "image/png": "[encoded data removed]",
      "text/plain": [
       "<Figure size 432x288 with 1 Axes>"
      ]
     },
     "metadata": {
      "needs_background": "light"
     },
     "output_type": "display_data"
    },
    {
     "data": {
      "image/png": "[encoded data removed]",
      "text/plain": [
       "<Figure size 432x288 with 1 Axes>"
      ]
     },
     "metadata": {
      "needs_background": "light"
     },
     "output_type": "display_data"
    },
    {
     "data": {
      "image/png": "[encoded data removed]",
      "text/plain": [
       "<Figure size 432x288 with 1 Axes>"
      ]
     },
     "metadata": {
      "needs_background": "light"
     },
     "output_type": "display_data"
    }
   ],
   "source": [
    "for feature in numerical_features_with_nan:\n",
    "    plot_hist(train_df, feature)"
   ]
  },
  {
   "cell_type": "markdown",
   "metadata": {},
   "source": [
    "#####  Filling the values with sample random imputation"
   ]
  },
  {
   "cell_type": "code",
   "execution_count": 32,
   "metadata": {},
   "outputs": [],
   "source": [
    "def impute_nan(df,variable):\n",
    "    ##It will have the random sample to fill the na\n",
    "    random_sample=df[variable].dropna().sample(df[variable].isnull().sum(),random_state=0)\n",
    "    ##pandas need to have same index in order to merge the dataset\n",
    "    random_sample.index=df[df[variable].isnull()].index\n",
    "    df.loc[df[variable].isnull(),variable]=random_sample"
   ]
  },
  {
   "cell_type": "code",
   "execution_count": 33,
   "metadata": {},
   "outputs": [],
   "source": [
    "for feature in numerical_features_with_nan:\n",
    "    impute_nan(train_df, feature)"
   ]
  },
  {
   "cell_type": "code",
   "execution_count": 34,
   "metadata": {},
   "outputs": [
    {
     "data": {
      "text/plain": [
       "(965, 42)"
      ]
     },
     "execution_count": 34,
     "metadata": {},
     "output_type": "execute_result"
    }
   ],
   "source": [
    "train_df.shape"
   ]
  },
  {
   "cell_type": "code",
   "execution_count": 35,
   "metadata": {},
   "outputs": [],
   "source": [
    "#Fill the missing values for categorical variables\n",
    "categorical_features = [feature for feature in train_df.columns if train_df[feature].dtype == 'O' ]"
   ]
  },
  {
   "cell_type": "code",
   "execution_count": 36,
   "metadata": {},
   "outputs": [
    {
     "data": {
      "text/plain": [
       "['audiences_cr', 'ip_cr', 'refurl_cr', 'allAudiences_cr', 'connTypeDimId_cr']"
      ]
     },
     "execution_count": 36,
     "metadata": {},
     "output_type": "execute_result"
    }
   ],
   "source": [
    "categorical_features_with_nan = [feature for feature in categorical_features if train_df[feature].isnull().mean() != 0 ]\n",
    "categorical_features_with_nan"
   ]
  },
  {
   "cell_type": "code",
   "execution_count": 37,
   "metadata": {},
   "outputs": [
    {
     "name": "stdout",
     "output_type": "stream",
     "text": [
      "audiences_cr --> 20.621761658031087\n",
      "ip_cr --> 2.072538860103627\n",
      "refurl_cr --> 12.953367875647666\n",
      "allAudiences_cr --> 4.870466321243523\n",
      "connTypeDimId_cr --> 2.072538860103627\n"
     ]
    }
   ],
   "source": [
    "null_values(train_df, categorical_features_with_nan)"
   ]
  },
  {
   "cell_type": "code",
   "execution_count": 38,
   "metadata": {},
   "outputs": [
    {
     "name": "stdout",
     "output_type": "stream",
     "text": [
      "audiences_cr --> 441\n",
      "ip_cr --> 2\n",
      "refurl_cr --> 400\n",
      "allAudiences_cr --> 821\n",
      "connTypeDimId_cr --> 10\n"
     ]
    }
   ],
   "source": [
    "for feature in categorical_features_with_nan:\n",
    "    print(feature, \"-->\", len(train_df[feature].unique()))"
   ]
  },
  {
   "cell_type": "code",
   "execution_count": 39,
   "metadata": {},
   "outputs": [],
   "source": [
    "# Dropping the feature ip_cr dosen't contain any valuable information\n",
    "train_df.drop(['ip_cr'], axis=\"columns\", inplace=True)"
   ]
  },
  {
   "cell_type": "code",
   "execution_count": 40,
   "metadata": {},
   "outputs": [],
   "source": [
    "categorical_features_with_nan.remove('ip_cr')"
   ]
  },
  {
   "cell_type": "code",
   "execution_count": 41,
   "metadata": {},
   "outputs": [],
   "source": [
    "for feature in categorical_features_with_nan:\n",
    "    impute_nan(train_df, feature)"
   ]
  },
  {
   "cell_type": "code",
   "execution_count": 42,
   "metadata": {},
   "outputs": [
    {
     "name": "stdout",
     "output_type": "stream",
     "text": [
      "audiences_cr --> 0.0\n",
      "refurl_cr --> 0.0\n",
      "allAudiences_cr --> 0.0\n",
      "connTypeDimId_cr --> 0.0\n"
     ]
    }
   ],
   "source": [
    "null_values(train_df, categorical_features_with_nan)"
   ]
  },
  {
   "cell_type": "code",
   "execution_count": 43,
   "metadata": {},
   "outputs": [
    {
     "data": {
      "text/plain": [
       "clientid_cr                      0.0\n",
       "clmbuserid_cr                    0.0\n",
       "conversiontime_cr                0.0\n",
       "imprid_cr                        0.0\n",
       "adslotdimid_cr                   0.0\n",
       "algo_cr                          0.0\n",
       "audiences_cr                     0.0\n",
       "clickbid_cr                      0.0\n",
       "geodimid_cr                      0.0\n",
       "itemcolumbiaid_cr                0.0\n",
       "itemid_cr                        0.0\n",
       "position_cr                      0.0\n",
       "pubclientid_cr                   0.0\n",
       "refurl_cr                        0.0\n",
       "siteId_cr                        0.0\n",
       "templateid_cr                    0.0\n",
       "goalid_cr                        0.0\n",
       "time_cr                          0.0\n",
       "adLogType_cr                     0.0\n",
       "v_cr                             0.0\n",
       "allAudiences_cr                  0.0\n",
       "pricingtype_cr                   0.0\n",
       "osId_cr                          0.0\n",
       "browserId_cr                     0.0\n",
       "cityId_cr                        0.0\n",
       "stateId_cr                       0.0\n",
       "modelDimId_cr                    0.0\n",
       "lookUpFrom_cr                    0.0\n",
       "connTypeDimId_cr                 0.0\n",
       "ispDimId_cr                      0.0\n",
       "countryDimId_cr                  0.0\n",
       "goalTypeId_cr                    0.0\n",
       "conversionDurationInMillis_cr    0.0\n",
       "impressionTimeInMillis_cr        0.0\n",
       "clickTimeInMillis_cr             0.0\n",
       "osVerDimId_cr                    0.0\n",
       "uuidSource_cr                    0.0\n",
       "geoGrpDimId_cr                   0.0\n",
       "stateGrpDimId_cr                 0.0\n",
       "cityGrpDimId_cr                  0.0\n",
       "conversion_fraud                 0.0\n",
       "dtype: float64"
      ]
     },
     "execution_count": 43,
     "metadata": {},
     "output_type": "execute_result"
    }
   ],
   "source": [
    "train_df.isnull().mean()"
   ]
  },
  {
   "cell_type": "code",
   "execution_count": 44,
   "metadata": {},
   "outputs": [
    {
     "data": {
      "text/plain": [
       "array([1.62e+12])"
      ]
     },
     "execution_count": 44,
     "metadata": {},
     "output_type": "execute_result"
    }
   ],
   "source": [
    "train_df['conversiontime_cr'].unique()"
   ]
  },
  {
   "cell_type": "markdown",
   "metadata": {},
   "source": [
    "### Feature Selection"
   ]
  },
  {
   "cell_type": "code",
   "execution_count": 46,
   "metadata": {},
   "outputs": [
    {
     "data": {
      "image/png": "[encoded data removed]",
      "text/plain": [
       "<Figure size 2160x2160 with 2 Axes>"
      ]
     },
     "metadata": {
      "needs_background": "light"
     },
     "output_type": "display_data"
    }
   ],
   "source": [
    "corrmat = train_df.corr()\n",
    "top_corr_features = corrmat.index\n",
    "plt.figure(figsize=(30,30))\n",
    "g=sns.heatmap(train_df.corr(),annot=True)\n"
   ]
  },
  {
   "cell_type": "code",
   "execution_count": 48,
   "metadata": {},
   "outputs": [],
   "source": [
    "#Remove the features which are highly correlated\n",
    "#with the following function we can select highly correlated features\n",
    "# it will remove the first feature that is correlated with anything other feature\n",
    "\n",
    "def correlation(dataset, threshold):\n",
    "    col_corr = set()  # Set of all the names of correlated columns\n",
    "    corr_matrix = dataset.corr()\n",
    "    for i in range(len(corr_matrix.columns)):\n",
    "        for j in range(i):\n",
    "            if (corr_matrix.iloc[i, j]) > threshold: # we are interested in absolute coeff value\n",
    "                colname = corr_matrix.columns[i]  # getting the name of column\n",
    "                col_corr.add(colname)\n",
    "    return col_corr"
   ]
  },
  {
   "cell_type": "code",
   "execution_count": 49,
   "metadata": {},
   "outputs": [
    {
     "data": {
      "text/plain": [
       "['clickTimeInMillis_cr', 'geoGrpDimId_cr', 'lookUpFrom_cr']"
      ]
     },
     "execution_count": 49,
     "metadata": {},
     "output_type": "execute_result"
    }
   ],
   "source": [
    "list(correlation(train_df, 0.85))"
   ]
  },
  {
   "cell_type": "code",
   "execution_count": 50,
   "metadata": {},
   "outputs": [],
   "source": [
    "#dropping features those threshold value is greater thean 0.85\n",
    "train_df.drop(correlation(train_df, 0.85), axis=\"columns\", inplace=True)"
   ]
  },
  {
   "cell_type": "code",
   "execution_count": 51,
   "metadata": {},
   "outputs": [
    {
     "data": {
      "text/plain": [
       "(965, 38)"
      ]
     },
     "execution_count": 51,
     "metadata": {},
     "output_type": "execute_result"
    }
   ],
   "source": [
    "train_df.shape"
   ]
  },
  {
   "cell_type": "markdown",
   "metadata": {},
   "source": [
    "##### For categorical variables "
   ]
  },
  {
   "cell_type": "code",
   "execution_count": 52,
   "metadata": {},
   "outputs": [
    {
     "data": {
      "text/plain": [
       "0      31629cd0-0b34-460f-aa61-80c3234e1225-1sjfw\n",
       "1      4c98f114-c34c-48f4-84d6-50fc8e9b6d65-10wgg\n",
       "2      cd92087a-54b0-4911-bc3d-1144a3c2babd-1sjlg\n",
       "3      f79f3de7-5edb-4319-9549-117f47996066-10wrk\n",
       "4      01fd1a8a-c3f8-4b57-94ff-66318d0f63c7-1sjts\n",
       "                          ...                    \n",
       "960          41d7dab3-0ab7-4039-a936-2ceab9dbcbf7\n",
       "961          39511cf3-0358-4ae9-9fec-fe3a74e98a13\n",
       "962    e5d4037f-ec67-4d7b-8d83-9012ee7d64b9-1sjac\n",
       "963    c7491247-f203-48df-b08d-d25d0d873e20-1sjwk\n",
       "964     20dcb941-42eb-4f0c-8f96-7afe12146264-h0k8\n",
       "Name: clmbuserid_cr, Length: 965, dtype: object"
      ]
     },
     "execution_count": 52,
     "metadata": {},
     "output_type": "execute_result"
    }
   ],
   "source": [
    "train_df['clmbuserid_cr']"
   ]
  },
  {
   "cell_type": "code",
   "execution_count": 53,
   "metadata": {},
   "outputs": [
    {
     "data": {
      "text/plain": [
       "0      01649076-c77f-4d70-afc8-213535427147-1sjd4\n",
       "1      f84d83b9-b757-4f97-9813-34f8dcc57cc5-1sjfw\n",
       "2      061edef6-3d9d-408b-884a-ad840e6930ce-10o78\n",
       "3      0a937239-9091-4bb7-b26b-37d4bb29e50b-10oa0\n",
       "4      0d46d0d4-8fc6-4d95-aaa1-406354a8400c-1sjo8\n",
       "                          ...                    \n",
       "960    a9371035-94c0-49a9-b807-70e472bb31a9-1sk24\n",
       "961    a955a5eb-1f0f-4654-8381-9f709bb98a7a-10ni8\n",
       "962    a97061e8-4863-440a-956c-14c85984c29e-10nw4\n",
       "963    a974732d-bfa0-4018-b216-b2d1c97f3337-1sj7k\n",
       "964    a9794d23-4f67-4446-8c34-6fb608435f40-1siz8\n",
       "Name: imprid_cr, Length: 965, dtype: object"
      ]
     },
     "execution_count": 53,
     "metadata": {},
     "output_type": "execute_result"
    }
   ],
   "source": [
    "train_df['imprid_cr']"
   ]
  },
  {
   "cell_type": "code",
   "execution_count": 54,
   "metadata": {},
   "outputs": [
    {
     "data": {
      "text/plain": [
       "0                                                8gw,o3b\n",
       "1                                        8kv,2vk,8gw,2vl\n",
       "2                                                8gw,o3b\n",
       "3                                                8gw,o3b\n",
       "4                                        8kv,2vk,8gw,2vl\n",
       "                             ...                        \n",
       "960    8go,8gr,8k6,8h4,8gv,2vk,8gw,8iy,3si,2x6,nqv,2v...\n",
       "961                      2x6,8k6,8k8,30r,8gv,2vk,8gw,8j1\n",
       "962                                  2vv,2vk,8gw,2vb,o3b\n",
       "963                                          nqv,2vk,8gw\n",
       "964                                                  8gv\n",
       "Name: audiences_cr, Length: 965, dtype: object"
      ]
     },
     "execution_count": 54,
     "metadata": {},
     "output_type": "execute_result"
    }
   ],
   "source": [
    "train_df['audiences_cr']"
   ]
  },
  {
   "cell_type": "code",
   "execution_count": 55,
   "metadata": {},
   "outputs": [],
   "source": [
    "#Dropping the features which doesn't contain valuable information\n",
    "train_df.drop(['clmbuserid_cr', 'imprid_cr', 'audiences_cr'], axis=\"columns\", inplace=True)"
   ]
  },
  {
   "cell_type": "code",
   "execution_count": 56,
   "metadata": {},
   "outputs": [
    {
     "data": {
      "text/html": [
       "<div>\n",
       "<style scoped>\n",
       "    .dataframe tbody tr th:only-of-type {\n",
       "        vertical-align: middle;\n",
       "    }\n",
       "\n",
       "    .dataframe tbody tr th {\n",
       "        vertical-align: top;\n",
       "    }\n",
       "\n",
       "    .dataframe thead th {\n",
       "        text-align: right;\n",
       "    }\n",
       "</style>\n",
       "<table border=\"1\" class=\"dataframe\">\n",
       "  <thead>\n",
       "    <tr style=\"text-align: right;\">\n",
       "      <th></th>\n",
       "      <th>clientid_cr</th>\n",
       "      <th>conversiontime_cr</th>\n",
       "      <th>adslotdimid_cr</th>\n",
       "      <th>algo_cr</th>\n",
       "      <th>clickbid_cr</th>\n",
       "      <th>geodimid_cr</th>\n",
       "      <th>itemcolumbiaid_cr</th>\n",
       "      <th>itemid_cr</th>\n",
       "      <th>position_cr</th>\n",
       "      <th>pubclientid_cr</th>\n",
       "      <th>...</th>\n",
       "      <th>ispDimId_cr</th>\n",
       "      <th>countryDimId_cr</th>\n",
       "      <th>goalTypeId_cr</th>\n",
       "      <th>conversionDurationInMillis_cr</th>\n",
       "      <th>impressionTimeInMillis_cr</th>\n",
       "      <th>osVerDimId_cr</th>\n",
       "      <th>uuidSource_cr</th>\n",
       "      <th>stateGrpDimId_cr</th>\n",
       "      <th>cityGrpDimId_cr</th>\n",
       "      <th>conversion_fraud</th>\n",
       "    </tr>\n",
       "  </thead>\n",
       "  <tbody>\n",
       "    <tr>\n",
       "      <th>0</th>\n",
       "      <td>75694</td>\n",
       "      <td>1.620000e+12</td>\n",
       "      <td>321300</td>\n",
       "      <td>38.0</td>\n",
       "      <td>2.869316</td>\n",
       "      <td>144</td>\n",
       "      <td>5488088</td>\n",
       "      <td>49504155</td>\n",
       "      <td>1.0</td>\n",
       "      <td>2320</td>\n",
       "      <td>...</td>\n",
       "      <td>280429.0</td>\n",
       "      <td>144.0</td>\n",
       "      <td>10</td>\n",
       "      <td>2332.0</td>\n",
       "      <td>1.620000e+12</td>\n",
       "      <td>199452.0</td>\n",
       "      <td>1.0</td>\n",
       "      <td>348022.0</td>\n",
       "      <td>348007.0</td>\n",
       "      <td>True</td>\n",
       "    </tr>\n",
       "    <tr>\n",
       "      <th>1</th>\n",
       "      <td>75694</td>\n",
       "      <td>1.620000e+12</td>\n",
       "      <td>129239</td>\n",
       "      <td>38.0</td>\n",
       "      <td>2.790000</td>\n",
       "      <td>144</td>\n",
       "      <td>5488773</td>\n",
       "      <td>49504157</td>\n",
       "      <td>1.0</td>\n",
       "      <td>15240</td>\n",
       "      <td>...</td>\n",
       "      <td>136127.0</td>\n",
       "      <td>144.0</td>\n",
       "      <td>10</td>\n",
       "      <td>3201.0</td>\n",
       "      <td>1.620000e+12</td>\n",
       "      <td>199452.0</td>\n",
       "      <td>1.0</td>\n",
       "      <td>348024.0</td>\n",
       "      <td>348010.0</td>\n",
       "      <td>True</td>\n",
       "    </tr>\n",
       "    <tr>\n",
       "      <th>2</th>\n",
       "      <td>75694</td>\n",
       "      <td>1.620000e+12</td>\n",
       "      <td>321554</td>\n",
       "      <td>21.0</td>\n",
       "      <td>2.790000</td>\n",
       "      <td>144</td>\n",
       "      <td>5488088</td>\n",
       "      <td>49504160</td>\n",
       "      <td>1.0</td>\n",
       "      <td>2320</td>\n",
       "      <td>...</td>\n",
       "      <td>172725.0</td>\n",
       "      <td>144.0</td>\n",
       "      <td>10</td>\n",
       "      <td>2821.0</td>\n",
       "      <td>1.620000e+12</td>\n",
       "      <td>199452.0</td>\n",
       "      <td>1.0</td>\n",
       "      <td>348027.0</td>\n",
       "      <td>348005.0</td>\n",
       "      <td>True</td>\n",
       "    </tr>\n",
       "    <tr>\n",
       "      <th>3</th>\n",
       "      <td>75694</td>\n",
       "      <td>1.620000e+12</td>\n",
       "      <td>321300</td>\n",
       "      <td>38.0</td>\n",
       "      <td>2.790000</td>\n",
       "      <td>144</td>\n",
       "      <td>5488088</td>\n",
       "      <td>49504155</td>\n",
       "      <td>1.0</td>\n",
       "      <td>2320</td>\n",
       "      <td>...</td>\n",
       "      <td>136127.0</td>\n",
       "      <td>144.0</td>\n",
       "      <td>10</td>\n",
       "      <td>3144.0</td>\n",
       "      <td>1.620000e+12</td>\n",
       "      <td>199452.0</td>\n",
       "      <td>1.0</td>\n",
       "      <td>348023.0</td>\n",
       "      <td>348007.0</td>\n",
       "      <td>True</td>\n",
       "    </tr>\n",
       "    <tr>\n",
       "      <th>4</th>\n",
       "      <td>30431</td>\n",
       "      <td>1.620000e+12</td>\n",
       "      <td>355768</td>\n",
       "      <td>21.0</td>\n",
       "      <td>2.790000</td>\n",
       "      <td>144</td>\n",
       "      <td>5614054</td>\n",
       "      <td>53607445</td>\n",
       "      <td>1.0</td>\n",
       "      <td>1</td>\n",
       "      <td>...</td>\n",
       "      <td>136127.0</td>\n",
       "      <td>144.0</td>\n",
       "      <td>10</td>\n",
       "      <td>42597.0</td>\n",
       "      <td>1.620000e+12</td>\n",
       "      <td>360833.0</td>\n",
       "      <td>1.0</td>\n",
       "      <td>348025.0</td>\n",
       "      <td>348007.0</td>\n",
       "      <td>True</td>\n",
       "    </tr>\n",
       "  </tbody>\n",
       "</table>\n",
       "<p>5 rows × 35 columns</p>\n",
       "</div>"
      ],
      "text/plain": [
       "   clientid_cr  conversiontime_cr  adslotdimid_cr  algo_cr  clickbid_cr  \\\n",
       "0        75694       1.620000e+12          321300     38.0     2.869316   \n",
       "1        75694       1.620000e+12          129239     38.0     2.790000   \n",
       "2        75694       1.620000e+12          321554     21.0     2.790000   \n",
       "3        75694       1.620000e+12          321300     38.0     2.790000   \n",
       "4        30431       1.620000e+12          355768     21.0     2.790000   \n",
       "\n",
       "   geodimid_cr  itemcolumbiaid_cr  itemid_cr  position_cr  pubclientid_cr  \\\n",
       "0          144            5488088   49504155          1.0            2320   \n",
       "1          144            5488773   49504157          1.0           15240   \n",
       "2          144            5488088   49504160          1.0            2320   \n",
       "3          144            5488088   49504155          1.0            2320   \n",
       "4          144            5614054   53607445          1.0               1   \n",
       "\n",
       "   ... ispDimId_cr  countryDimId_cr  goalTypeId_cr  \\\n",
       "0  ...    280429.0            144.0             10   \n",
       "1  ...    136127.0            144.0             10   \n",
       "2  ...    172725.0            144.0             10   \n",
       "3  ...    136127.0            144.0             10   \n",
       "4  ...    136127.0            144.0             10   \n",
       "\n",
       "   conversionDurationInMillis_cr  impressionTimeInMillis_cr  osVerDimId_cr  \\\n",
       "0                         2332.0               1.620000e+12       199452.0   \n",
       "1                         3201.0               1.620000e+12       199452.0   \n",
       "2                         2821.0               1.620000e+12       199452.0   \n",
       "3                         3144.0               1.620000e+12       199452.0   \n",
       "4                        42597.0               1.620000e+12       360833.0   \n",
       "\n",
       "   uuidSource_cr stateGrpDimId_cr  cityGrpDimId_cr  conversion_fraud  \n",
       "0            1.0         348022.0         348007.0              True  \n",
       "1            1.0         348024.0         348010.0              True  \n",
       "2            1.0         348027.0         348005.0              True  \n",
       "3            1.0         348023.0         348007.0              True  \n",
       "4            1.0         348025.0         348007.0              True  \n",
       "\n",
       "[5 rows x 35 columns]"
      ]
     },
     "execution_count": 56,
     "metadata": {},
     "output_type": "execute_result"
    }
   ],
   "source": [
    "train_df.head()"
   ]
  },
  {
   "cell_type": "code",
   "execution_count": 57,
   "metadata": {},
   "outputs": [
    {
     "data": {
      "text/plain": [
       "clientid_cr                        int64\n",
       "conversiontime_cr                float64\n",
       "adslotdimid_cr                     int64\n",
       "algo_cr                          float64\n",
       "clickbid_cr                      float64\n",
       "geodimid_cr                        int64\n",
       "itemcolumbiaid_cr                  int64\n",
       "itemid_cr                          int64\n",
       "position_cr                      float64\n",
       "pubclientid_cr                     int64\n",
       "refurl_cr                         object\n",
       "siteId_cr                          int64\n",
       "templateid_cr                    float64\n",
       "goalid_cr                          int64\n",
       "time_cr                          float64\n",
       "adLogType_cr                       int64\n",
       "v_cr                             float64\n",
       "allAudiences_cr                   object\n",
       "pricingtype_cr                     int64\n",
       "osId_cr                          float64\n",
       "browserId_cr                     float64\n",
       "cityId_cr                        float64\n",
       "stateId_cr                       float64\n",
       "modelDimId_cr                    float64\n",
       "connTypeDimId_cr                  object\n",
       "ispDimId_cr                      float64\n",
       "countryDimId_cr                  float64\n",
       "goalTypeId_cr                      int64\n",
       "conversionDurationInMillis_cr    float64\n",
       "impressionTimeInMillis_cr        float64\n",
       "osVerDimId_cr                    float64\n",
       "uuidSource_cr                    float64\n",
       "stateGrpDimId_cr                 float64\n",
       "cityGrpDimId_cr                  float64\n",
       "conversion_fraud                    bool\n",
       "dtype: object"
      ]
     },
     "execution_count": 57,
     "metadata": {},
     "output_type": "execute_result"
    }
   ],
   "source": [
    "train_df.dtypes"
   ]
  },
  {
   "cell_type": "code",
   "execution_count": 58,
   "metadata": {},
   "outputs": [
    {
     "data": {
      "text/plain": [
       "0      https%3A%2F%2Fwww.timesjobs.com%2Fcandidate%2F...\n",
       "1      https%3A%2F%2Fwww.cricbuzz.com%2Flive-cricket-...\n",
       "2      https%3A%2F%2Fwww.timesjobs.com%2Fcandidate%2F...\n",
       "3      https%3A%2F%2Fwww.timesjobs.com%2Fcandidate%2F...\n",
       "4      https%3A%2F%2Ftelugu.samayam.com%2Fvideo-galle...\n",
       "                             ...                        \n",
       "960        http%3A%2F%2Fnavbharattimes.indiatimes.com%2F\n",
       "961          http%3A%2F%2Ftimesofindia.indiatimes.com%2F\n",
       "962    https%3A%2F%2Fwww.sakshieducation.com%2FPrevio...\n",
       "963                          https%3A%2F%2Fwww.olx.in%2F\n",
       "964                          https%3A%2F%2Fwww.olx.in%2F\n",
       "Name: refurl_cr, Length: 965, dtype: object"
      ]
     },
     "execution_count": 58,
     "metadata": {},
     "output_type": "execute_result"
    }
   ],
   "source": [
    "train_df['refurl_cr']"
   ]
  },
  {
   "cell_type": "code",
   "execution_count": 59,
   "metadata": {},
   "outputs": [
    {
     "data": {
      "text/plain": [
       "0      264496\n",
       "1      264496\n",
       "2      264503\n",
       "3      264496\n",
       "4      264496\n",
       "        ...  \n",
       "960    264494\n",
       "961    264496\n",
       "962    264496\n",
       "963    264494\n",
       "964    264496\n",
       "Name: connTypeDimId_cr, Length: 965, dtype: object"
      ]
     },
     "execution_count": 59,
     "metadata": {},
     "output_type": "execute_result"
    }
   ],
   "source": [
    "train_df['connTypeDimId_cr']"
   ]
  },
  {
   "cell_type": "code",
   "execution_count": 60,
   "metadata": {},
   "outputs": [
    {
     "data": {
      "text/plain": [
       "'https%3A%2F%2Fwww.cricbuzz.com%2Flive-cricket-scores%2F32278%2Find-vs-eng-4th-t20i-england-tour-of-india-2021'"
      ]
     },
     "execution_count": 60,
     "metadata": {},
     "output_type": "execute_result"
    }
   ],
   "source": [
    "train_df['refurl_cr'][1]"
   ]
  },
  {
   "cell_type": "code",
   "execution_count": 61,
   "metadata": {},
   "outputs": [
    {
     "data": {
      "text/plain": [
       "0      7dn,6hs,35g,ome,omf,l32,nqo,2ws,qqo,lo4,oos,2w...\n",
       "1      h9r,35j,7dx,592,lo4,5o2,gau,75y,k8l,2ve,k8p,8k...\n",
       "2      7dn,oy7,nqo,41j,2ws,lo4,oos,oou,apc,5o2,o6b,ox...\n",
       "3      p1b,7dn,6hs,jyq,35g,h98,oul,nqo,2ws,lo4,p12,2w...\n",
       "4                                                761,75y\n",
       "                             ...                        \n",
       "960    7dm,jyq,8h4,k1m,nyw,lo4,nqv,o1w,o1v,apc,o1y,o1...\n",
       "961    jyq,ige,33h,41f,mss,oy7,nyw,oy9,lo4,ii1,nqx,o1...\n",
       "962                                                  9nj\n",
       "963                                          hkf,9nj,5xq\n",
       "964                                          hkf,9nj,5xq\n",
       "Name: allAudiences_cr, Length: 965, dtype: object"
      ]
     },
     "execution_count": 61,
     "metadata": {},
     "output_type": "execute_result"
    }
   ],
   "source": [
    "train_df['allAudiences_cr']"
   ]
  },
  {
   "cell_type": "code",
   "execution_count": 62,
   "metadata": {},
   "outputs": [],
   "source": [
    "cols_not_needed = ['refurl_cr', 'allAudiences_cr']"
   ]
  },
  {
   "cell_type": "code",
   "execution_count": 63,
   "metadata": {},
   "outputs": [],
   "source": [
    "train_df.drop(cols_not_needed, axis=\"columns\", inplace=True)"
   ]
  },
  {
   "cell_type": "code",
   "execution_count": 64,
   "metadata": {},
   "outputs": [],
   "source": [
    "#Coverting the datatype to numeric\n",
    "train_df['connTypeDimId_cr'] = pd.to_numeric(train_df['connTypeDimId_cr'], errors='coerce')"
   ]
  },
  {
   "cell_type": "code",
   "execution_count": 65,
   "metadata": {},
   "outputs": [
    {
     "data": {
      "text/plain": [
       "0.7253886010362695"
      ]
     },
     "execution_count": 65,
     "metadata": {},
     "output_type": "execute_result"
    }
   ],
   "source": [
    "train_df['connTypeDimId_cr'].isnull().mean()*100"
   ]
  },
  {
   "cell_type": "code",
   "execution_count": 66,
   "metadata": {},
   "outputs": [
    {
     "data": {
      "text/plain": [
       "clientid_cr                        int64\n",
       "conversiontime_cr                float64\n",
       "adslotdimid_cr                     int64\n",
       "algo_cr                          float64\n",
       "clickbid_cr                      float64\n",
       "geodimid_cr                        int64\n",
       "itemcolumbiaid_cr                  int64\n",
       "itemid_cr                          int64\n",
       "position_cr                      float64\n",
       "pubclientid_cr                     int64\n",
       "siteId_cr                          int64\n",
       "templateid_cr                    float64\n",
       "goalid_cr                          int64\n",
       "time_cr                          float64\n",
       "adLogType_cr                       int64\n",
       "v_cr                             float64\n",
       "pricingtype_cr                     int64\n",
       "osId_cr                          float64\n",
       "browserId_cr                     float64\n",
       "cityId_cr                        float64\n",
       "stateId_cr                       float64\n",
       "modelDimId_cr                    float64\n",
       "connTypeDimId_cr                 float64\n",
       "ispDimId_cr                      float64\n",
       "countryDimId_cr                  float64\n",
       "goalTypeId_cr                      int64\n",
       "conversionDurationInMillis_cr    float64\n",
       "impressionTimeInMillis_cr        float64\n",
       "osVerDimId_cr                    float64\n",
       "uuidSource_cr                    float64\n",
       "stateGrpDimId_cr                 float64\n",
       "cityGrpDimId_cr                  float64\n",
       "conversion_fraud                    bool\n",
       "dtype: object"
      ]
     },
     "execution_count": 66,
     "metadata": {},
     "output_type": "execute_result"
    }
   ],
   "source": [
    "train_df.dtypes"
   ]
  },
  {
   "cell_type": "code",
   "execution_count": 67,
   "metadata": {},
   "outputs": [
    {
     "data": {
      "text/html": [
       "<div>\n",
       "<style scoped>\n",
       "    .dataframe tbody tr th:only-of-type {\n",
       "        vertical-align: middle;\n",
       "    }\n",
       "\n",
       "    .dataframe tbody tr th {\n",
       "        vertical-align: top;\n",
       "    }\n",
       "\n",
       "    .dataframe thead th {\n",
       "        text-align: right;\n",
       "    }\n",
       "</style>\n",
       "<table border=\"1\" class=\"dataframe\">\n",
       "  <thead>\n",
       "    <tr style=\"text-align: right;\">\n",
       "      <th></th>\n",
       "      <th>clientid_cr</th>\n",
       "      <th>conversiontime_cr</th>\n",
       "      <th>adslotdimid_cr</th>\n",
       "      <th>algo_cr</th>\n",
       "      <th>clickbid_cr</th>\n",
       "      <th>geodimid_cr</th>\n",
       "      <th>itemcolumbiaid_cr</th>\n",
       "      <th>itemid_cr</th>\n",
       "      <th>position_cr</th>\n",
       "      <th>pubclientid_cr</th>\n",
       "      <th>...</th>\n",
       "      <th>ispDimId_cr</th>\n",
       "      <th>countryDimId_cr</th>\n",
       "      <th>goalTypeId_cr</th>\n",
       "      <th>conversionDurationInMillis_cr</th>\n",
       "      <th>impressionTimeInMillis_cr</th>\n",
       "      <th>osVerDimId_cr</th>\n",
       "      <th>uuidSource_cr</th>\n",
       "      <th>stateGrpDimId_cr</th>\n",
       "      <th>cityGrpDimId_cr</th>\n",
       "      <th>conversion_fraud</th>\n",
       "    </tr>\n",
       "  </thead>\n",
       "  <tbody>\n",
       "    <tr>\n",
       "      <th>203</th>\n",
       "      <td>29892</td>\n",
       "      <td>1.620000e+12</td>\n",
       "      <td>334766</td>\n",
       "      <td>33.0</td>\n",
       "      <td>2.79</td>\n",
       "      <td>433</td>\n",
       "      <td>5592344</td>\n",
       "      <td>53924039</td>\n",
       "      <td>1.0</td>\n",
       "      <td>76969</td>\n",
       "      <td>...</td>\n",
       "      <td>0.0</td>\n",
       "      <td>433.0</td>\n",
       "      <td>10</td>\n",
       "      <td>3670493.0</td>\n",
       "      <td>1.620000e+12</td>\n",
       "      <td>360833.0</td>\n",
       "      <td>3.0</td>\n",
       "      <td>348021.0</td>\n",
       "      <td>348009.0</td>\n",
       "      <td>False</td>\n",
       "    </tr>\n",
       "    <tr>\n",
       "      <th>309</th>\n",
       "      <td>25470</td>\n",
       "      <td>1.620000e+12</td>\n",
       "      <td>236059</td>\n",
       "      <td>2.0</td>\n",
       "      <td>2.79</td>\n",
       "      <td>144</td>\n",
       "      <td>5617958</td>\n",
       "      <td>53924418</td>\n",
       "      <td>10.0</td>\n",
       "      <td>15240</td>\n",
       "      <td>...</td>\n",
       "      <td>136127.0</td>\n",
       "      <td>144.0</td>\n",
       "      <td>10</td>\n",
       "      <td>19311004.0</td>\n",
       "      <td>1.620000e+12</td>\n",
       "      <td>360833.0</td>\n",
       "      <td>3.0</td>\n",
       "      <td>348023.0</td>\n",
       "      <td>348007.0</td>\n",
       "      <td>False</td>\n",
       "    </tr>\n",
       "    <tr>\n",
       "      <th>422</th>\n",
       "      <td>2139</td>\n",
       "      <td>1.620000e+12</td>\n",
       "      <td>195755</td>\n",
       "      <td>18.0</td>\n",
       "      <td>10.00</td>\n",
       "      <td>144</td>\n",
       "      <td>5610374</td>\n",
       "      <td>53184763</td>\n",
       "      <td>2.0</td>\n",
       "      <td>7268</td>\n",
       "      <td>...</td>\n",
       "      <td>136127.0</td>\n",
       "      <td>144.0</td>\n",
       "      <td>10</td>\n",
       "      <td>684436.0</td>\n",
       "      <td>1.620000e+12</td>\n",
       "      <td>359921.0</td>\n",
       "      <td>3.0</td>\n",
       "      <td>348020.0</td>\n",
       "      <td>348006.0</td>\n",
       "      <td>False</td>\n",
       "    </tr>\n",
       "    <tr>\n",
       "      <th>630</th>\n",
       "      <td>31365</td>\n",
       "      <td>1.620000e+12</td>\n",
       "      <td>195755</td>\n",
       "      <td>18.0</td>\n",
       "      <td>0.90</td>\n",
       "      <td>144</td>\n",
       "      <td>5616679</td>\n",
       "      <td>53930184</td>\n",
       "      <td>2.0</td>\n",
       "      <td>7268</td>\n",
       "      <td>...</td>\n",
       "      <td>280429.0</td>\n",
       "      <td>144.0</td>\n",
       "      <td>10</td>\n",
       "      <td>13152725.0</td>\n",
       "      <td>1.620000e+12</td>\n",
       "      <td>360833.0</td>\n",
       "      <td>3.0</td>\n",
       "      <td>348020.0</td>\n",
       "      <td>348006.0</td>\n",
       "      <td>False</td>\n",
       "    </tr>\n",
       "    <tr>\n",
       "      <th>676</th>\n",
       "      <td>25470</td>\n",
       "      <td>1.620000e+12</td>\n",
       "      <td>355148</td>\n",
       "      <td>38.0</td>\n",
       "      <td>2.79</td>\n",
       "      <td>144</td>\n",
       "      <td>5614752</td>\n",
       "      <td>53924415</td>\n",
       "      <td>1.0</td>\n",
       "      <td>2316</td>\n",
       "      <td>...</td>\n",
       "      <td>280429.0</td>\n",
       "      <td>144.0</td>\n",
       "      <td>10</td>\n",
       "      <td>44955769.0</td>\n",
       "      <td>1.620000e+12</td>\n",
       "      <td>359921.0</td>\n",
       "      <td>3.0</td>\n",
       "      <td>348026.0</td>\n",
       "      <td>348008.0</td>\n",
       "      <td>False</td>\n",
       "    </tr>\n",
       "    <tr>\n",
       "      <th>681</th>\n",
       "      <td>31365</td>\n",
       "      <td>1.620000e+12</td>\n",
       "      <td>334762</td>\n",
       "      <td>18.0</td>\n",
       "      <td>2.79</td>\n",
       "      <td>144</td>\n",
       "      <td>5616679</td>\n",
       "      <td>53930182</td>\n",
       "      <td>1.0</td>\n",
       "      <td>76969</td>\n",
       "      <td>...</td>\n",
       "      <td>280429.0</td>\n",
       "      <td>144.0</td>\n",
       "      <td>10</td>\n",
       "      <td>13239231.0</td>\n",
       "      <td>1.620000e+12</td>\n",
       "      <td>359921.0</td>\n",
       "      <td>3.0</td>\n",
       "      <td>348020.0</td>\n",
       "      <td>348006.0</td>\n",
       "      <td>False</td>\n",
       "    </tr>\n",
       "    <tr>\n",
       "      <th>774</th>\n",
       "      <td>29892</td>\n",
       "      <td>1.620000e+12</td>\n",
       "      <td>355148</td>\n",
       "      <td>18.0</td>\n",
       "      <td>2.79</td>\n",
       "      <td>144</td>\n",
       "      <td>5583264</td>\n",
       "      <td>53924038</td>\n",
       "      <td>1.0</td>\n",
       "      <td>2316</td>\n",
       "      <td>...</td>\n",
       "      <td>147211.0</td>\n",
       "      <td>144.0</td>\n",
       "      <td>10</td>\n",
       "      <td>2146992.0</td>\n",
       "      <td>1.620000e+12</td>\n",
       "      <td>359921.0</td>\n",
       "      <td>3.0</td>\n",
       "      <td>348022.0</td>\n",
       "      <td>348007.0</td>\n",
       "      <td>False</td>\n",
       "    </tr>\n",
       "  </tbody>\n",
       "</table>\n",
       "<p>7 rows × 33 columns</p>\n",
       "</div>"
      ],
      "text/plain": [
       "     clientid_cr  conversiontime_cr  adslotdimid_cr  algo_cr  clickbid_cr  \\\n",
       "203        29892       1.620000e+12          334766     33.0         2.79   \n",
       "309        25470       1.620000e+12          236059      2.0         2.79   \n",
       "422         2139       1.620000e+12          195755     18.0        10.00   \n",
       "630        31365       1.620000e+12          195755     18.0         0.90   \n",
       "676        25470       1.620000e+12          355148     38.0         2.79   \n",
       "681        31365       1.620000e+12          334762     18.0         2.79   \n",
       "774        29892       1.620000e+12          355148     18.0         2.79   \n",
       "\n",
       "     geodimid_cr  itemcolumbiaid_cr  itemid_cr  position_cr  pubclientid_cr  \\\n",
       "203          433            5592344   53924039          1.0           76969   \n",
       "309          144            5617958   53924418         10.0           15240   \n",
       "422          144            5610374   53184763          2.0            7268   \n",
       "630          144            5616679   53930184          2.0            7268   \n",
       "676          144            5614752   53924415          1.0            2316   \n",
       "681          144            5616679   53930182          1.0           76969   \n",
       "774          144            5583264   53924038          1.0            2316   \n",
       "\n",
       "     ...  ispDimId_cr  countryDimId_cr  goalTypeId_cr  \\\n",
       "203  ...          0.0            433.0             10   \n",
       "309  ...     136127.0            144.0             10   \n",
       "422  ...     136127.0            144.0             10   \n",
       "630  ...     280429.0            144.0             10   \n",
       "676  ...     280429.0            144.0             10   \n",
       "681  ...     280429.0            144.0             10   \n",
       "774  ...     147211.0            144.0             10   \n",
       "\n",
       "     conversionDurationInMillis_cr  impressionTimeInMillis_cr  osVerDimId_cr  \\\n",
       "203                      3670493.0               1.620000e+12       360833.0   \n",
       "309                     19311004.0               1.620000e+12       360833.0   \n",
       "422                       684436.0               1.620000e+12       359921.0   \n",
       "630                     13152725.0               1.620000e+12       360833.0   \n",
       "676                     44955769.0               1.620000e+12       359921.0   \n",
       "681                     13239231.0               1.620000e+12       359921.0   \n",
       "774                      2146992.0               1.620000e+12       359921.0   \n",
       "\n",
       "     uuidSource_cr  stateGrpDimId_cr  cityGrpDimId_cr  conversion_fraud  \n",
       "203            3.0          348021.0         348009.0             False  \n",
       "309            3.0          348023.0         348007.0             False  \n",
       "422            3.0          348020.0         348006.0             False  \n",
       "630            3.0          348020.0         348006.0             False  \n",
       "676            3.0          348026.0         348008.0             False  \n",
       "681            3.0          348020.0         348006.0             False  \n",
       "774            3.0          348022.0         348007.0             False  \n",
       "\n",
       "[7 rows x 33 columns]"
      ]
     },
     "execution_count": 67,
     "metadata": {},
     "output_type": "execute_result"
    }
   ],
   "source": [
    "train_df[pd.to_numeric(train_df.connTypeDimId_cr,errors='coerce').isnull()==True]"
   ]
  },
  {
   "cell_type": "code",
   "execution_count": 68,
   "metadata": {},
   "outputs": [],
   "source": [
    "impute_nan(train_df, 'connTypeDimId_cr')"
   ]
  },
  {
   "cell_type": "code",
   "execution_count": 69,
   "metadata": {},
   "outputs": [
    {
     "data": {
      "text/plain": [
       "0.0"
      ]
     },
     "execution_count": 69,
     "metadata": {},
     "output_type": "execute_result"
    }
   ],
   "source": [
    "train_df['connTypeDimId_cr'].isnull().mean()"
   ]
  },
  {
   "cell_type": "code",
   "execution_count": 70,
   "metadata": {},
   "outputs": [
    {
     "data": {
      "text/plain": [
       "clientid_cr                        int64\n",
       "conversiontime_cr                float64\n",
       "adslotdimid_cr                     int64\n",
       "algo_cr                          float64\n",
       "clickbid_cr                      float64\n",
       "geodimid_cr                        int64\n",
       "itemcolumbiaid_cr                  int64\n",
       "itemid_cr                          int64\n",
       "position_cr                      float64\n",
       "pubclientid_cr                     int64\n",
       "siteId_cr                          int64\n",
       "templateid_cr                    float64\n",
       "goalid_cr                          int64\n",
       "time_cr                          float64\n",
       "adLogType_cr                       int64\n",
       "v_cr                             float64\n",
       "pricingtype_cr                     int64\n",
       "osId_cr                          float64\n",
       "browserId_cr                     float64\n",
       "cityId_cr                        float64\n",
       "stateId_cr                       float64\n",
       "modelDimId_cr                    float64\n",
       "connTypeDimId_cr                 float64\n",
       "ispDimId_cr                      float64\n",
       "countryDimId_cr                  float64\n",
       "goalTypeId_cr                      int64\n",
       "conversionDurationInMillis_cr    float64\n",
       "impressionTimeInMillis_cr        float64\n",
       "osVerDimId_cr                    float64\n",
       "uuidSource_cr                    float64\n",
       "stateGrpDimId_cr                 float64\n",
       "cityGrpDimId_cr                  float64\n",
       "conversion_fraud                    bool\n",
       "dtype: object"
      ]
     },
     "execution_count": 70,
     "metadata": {},
     "output_type": "execute_result"
    }
   ],
   "source": [
    "train_df.dtypes"
   ]
  },
  {
   "cell_type": "markdown",
   "metadata": {},
   "source": [
    "### Featutre Scaling"
   ]
  },
  {
   "cell_type": "code",
   "execution_count": 71,
   "metadata": {},
   "outputs": [],
   "source": [
    "cols_to_scale = [feature for feature in train_df.columns if feature != 'conversion_fraud']\n",
    "\n",
    "from sklearn.preprocessing import MinMaxScaler\n",
    "scaler = MinMaxScaler()\n",
    "train_df[cols_to_scale] = scaler.fit_transform(train_df[cols_to_scale])"
   ]
  },
  {
   "cell_type": "code",
   "execution_count": 72,
   "metadata": {},
   "outputs": [
    {
     "data": {
      "text/html": [
       "<div>\n",
       "<style scoped>\n",
       "    .dataframe tbody tr th:only-of-type {\n",
       "        vertical-align: middle;\n",
       "    }\n",
       "\n",
       "    .dataframe tbody tr th {\n",
       "        vertical-align: top;\n",
       "    }\n",
       "\n",
       "    .dataframe thead th {\n",
       "        text-align: right;\n",
       "    }\n",
       "</style>\n",
       "<table border=\"1\" class=\"dataframe\">\n",
       "  <thead>\n",
       "    <tr style=\"text-align: right;\">\n",
       "      <th></th>\n",
       "      <th>clientid_cr</th>\n",
       "      <th>conversiontime_cr</th>\n",
       "      <th>adslotdimid_cr</th>\n",
       "      <th>algo_cr</th>\n",
       "      <th>clickbid_cr</th>\n",
       "      <th>geodimid_cr</th>\n",
       "      <th>itemcolumbiaid_cr</th>\n",
       "      <th>itemid_cr</th>\n",
       "      <th>position_cr</th>\n",
       "      <th>pubclientid_cr</th>\n",
       "      <th>...</th>\n",
       "      <th>ispDimId_cr</th>\n",
       "      <th>countryDimId_cr</th>\n",
       "      <th>goalTypeId_cr</th>\n",
       "      <th>conversionDurationInMillis_cr</th>\n",
       "      <th>impressionTimeInMillis_cr</th>\n",
       "      <th>osVerDimId_cr</th>\n",
       "      <th>uuidSource_cr</th>\n",
       "      <th>stateGrpDimId_cr</th>\n",
       "      <th>cityGrpDimId_cr</th>\n",
       "      <th>conversion_fraud</th>\n",
       "    </tr>\n",
       "  </thead>\n",
       "  <tbody>\n",
       "    <tr>\n",
       "      <th>0</th>\n",
       "      <td>0.873346</td>\n",
       "      <td>0.0</td>\n",
       "      <td>0.830089</td>\n",
       "      <td>0.001423</td>\n",
       "      <td>0.09359</td>\n",
       "      <td>0.0</td>\n",
       "      <td>0.944360</td>\n",
       "      <td>0.867568</td>\n",
       "      <td>1.225933e-09</td>\n",
       "      <td>0.027273</td>\n",
       "      <td>...</td>\n",
       "      <td>0.979856</td>\n",
       "      <td>0.0</td>\n",
       "      <td>0.0</td>\n",
       "      <td>8.463155e-07</td>\n",
       "      <td>1.0</td>\n",
       "      <td>0.551815</td>\n",
       "      <td>0.0</td>\n",
       "      <td>0.285714</td>\n",
       "      <td>0.4</td>\n",
       "      <td>True</td>\n",
       "    </tr>\n",
       "    <tr>\n",
       "      <th>1</th>\n",
       "      <td>0.873346</td>\n",
       "      <td>0.0</td>\n",
       "      <td>0.000527</td>\n",
       "      <td>0.001423</td>\n",
       "      <td>0.08982</td>\n",
       "      <td>0.0</td>\n",
       "      <td>0.944648</td>\n",
       "      <td>0.867568</td>\n",
       "      <td>1.225933e-09</td>\n",
       "      <td>0.179221</td>\n",
       "      <td>...</td>\n",
       "      <td>0.475646</td>\n",
       "      <td>0.0</td>\n",
       "      <td>0.0</td>\n",
       "      <td>1.191272e-06</td>\n",
       "      <td>1.0</td>\n",
       "      <td>0.551815</td>\n",
       "      <td>0.0</td>\n",
       "      <td>0.571429</td>\n",
       "      <td>1.0</td>\n",
       "      <td>True</td>\n",
       "    </tr>\n",
       "    <tr>\n",
       "      <th>2</th>\n",
       "      <td>0.873346</td>\n",
       "      <td>0.0</td>\n",
       "      <td>0.831186</td>\n",
       "      <td>0.000769</td>\n",
       "      <td>0.08982</td>\n",
       "      <td>0.0</td>\n",
       "      <td>0.944360</td>\n",
       "      <td>0.867568</td>\n",
       "      <td>1.225933e-09</td>\n",
       "      <td>0.027273</td>\n",
       "      <td>...</td>\n",
       "      <td>0.603524</td>\n",
       "      <td>0.0</td>\n",
       "      <td>0.0</td>\n",
       "      <td>1.040428e-06</td>\n",
       "      <td>1.0</td>\n",
       "      <td>0.551815</td>\n",
       "      <td>0.0</td>\n",
       "      <td>1.000000</td>\n",
       "      <td>0.0</td>\n",
       "      <td>True</td>\n",
       "    </tr>\n",
       "    <tr>\n",
       "      <th>3</th>\n",
       "      <td>0.873346</td>\n",
       "      <td>0.0</td>\n",
       "      <td>0.830089</td>\n",
       "      <td>0.001423</td>\n",
       "      <td>0.08982</td>\n",
       "      <td>0.0</td>\n",
       "      <td>0.944360</td>\n",
       "      <td>0.867568</td>\n",
       "      <td>1.225933e-09</td>\n",
       "      <td>0.027273</td>\n",
       "      <td>...</td>\n",
       "      <td>0.475646</td>\n",
       "      <td>0.0</td>\n",
       "      <td>0.0</td>\n",
       "      <td>1.168646e-06</td>\n",
       "      <td>1.0</td>\n",
       "      <td>0.551815</td>\n",
       "      <td>0.0</td>\n",
       "      <td>0.428571</td>\n",
       "      <td>0.4</td>\n",
       "      <td>True</td>\n",
       "    </tr>\n",
       "    <tr>\n",
       "      <th>4</th>\n",
       "      <td>0.345516</td>\n",
       "      <td>0.0</td>\n",
       "      <td>0.978965</td>\n",
       "      <td>0.000769</td>\n",
       "      <td>0.08982</td>\n",
       "      <td>0.0</td>\n",
       "      <td>0.997236</td>\n",
       "      <td>0.990331</td>\n",
       "      <td>1.225933e-09</td>\n",
       "      <td>0.000000</td>\n",
       "      <td>...</td>\n",
       "      <td>0.475646</td>\n",
       "      <td>0.0</td>\n",
       "      <td>0.0</td>\n",
       "      <td>1.682985e-05</td>\n",
       "      <td>1.0</td>\n",
       "      <td>0.998301</td>\n",
       "      <td>0.0</td>\n",
       "      <td>0.714286</td>\n",
       "      <td>0.4</td>\n",
       "      <td>True</td>\n",
       "    </tr>\n",
       "  </tbody>\n",
       "</table>\n",
       "<p>5 rows × 33 columns</p>\n",
       "</div>"
      ],
      "text/plain": [
       "   clientid_cr  conversiontime_cr  adslotdimid_cr   algo_cr  clickbid_cr  \\\n",
       "0     0.873346                0.0        0.830089  0.001423      0.09359   \n",
       "1     0.873346                0.0        0.000527  0.001423      0.08982   \n",
       "2     0.873346                0.0        0.831186  0.000769      0.08982   \n",
       "3     0.873346                0.0        0.830089  0.001423      0.08982   \n",
       "4     0.345516                0.0        0.978965  0.000769      0.08982   \n",
       "\n",
       "   geodimid_cr  itemcolumbiaid_cr  itemid_cr   position_cr  pubclientid_cr  \\\n",
       "0          0.0           0.944360   0.867568  1.225933e-09        0.027273   \n",
       "1          0.0           0.944648   0.867568  1.225933e-09        0.179221   \n",
       "2          0.0           0.944360   0.867568  1.225933e-09        0.027273   \n",
       "3          0.0           0.944360   0.867568  1.225933e-09        0.027273   \n",
       "4          0.0           0.997236   0.990331  1.225933e-09        0.000000   \n",
       "\n",
       "   ...  ispDimId_cr  countryDimId_cr  goalTypeId_cr  \\\n",
       "0  ...     0.979856              0.0            0.0   \n",
       "1  ...     0.475646              0.0            0.0   \n",
       "2  ...     0.603524              0.0            0.0   \n",
       "3  ...     0.475646              0.0            0.0   \n",
       "4  ...     0.475646              0.0            0.0   \n",
       "\n",
       "   conversionDurationInMillis_cr  impressionTimeInMillis_cr  osVerDimId_cr  \\\n",
       "0                   8.463155e-07                        1.0       0.551815   \n",
       "1                   1.191272e-06                        1.0       0.551815   \n",
       "2                   1.040428e-06                        1.0       0.551815   \n",
       "3                   1.168646e-06                        1.0       0.551815   \n",
       "4                   1.682985e-05                        1.0       0.998301   \n",
       "\n",
       "   uuidSource_cr  stateGrpDimId_cr  cityGrpDimId_cr  conversion_fraud  \n",
       "0            0.0          0.285714              0.4              True  \n",
       "1            0.0          0.571429              1.0              True  \n",
       "2            0.0          1.000000              0.0              True  \n",
       "3            0.0          0.428571              0.4              True  \n",
       "4            0.0          0.714286              0.4              True  \n",
       "\n",
       "[5 rows x 33 columns]"
      ]
     },
     "execution_count": 72,
     "metadata": {},
     "output_type": "execute_result"
    }
   ],
   "source": [
    "train_df.head()"
   ]
  },
  {
   "cell_type": "code",
   "execution_count": 73,
   "metadata": {},
   "outputs": [
    {
     "data": {
      "text/plain": [
       "False    834\n",
       "True     131\n",
       "Name: conversion_fraud, dtype: int64"
      ]
     },
     "execution_count": 73,
     "metadata": {},
     "output_type": "execute_result"
    }
   ],
   "source": [
    "train_df['conversion_fraud'].value_counts()"
   ]
  },
  {
   "cell_type": "code",
   "execution_count": 75,
   "metadata": {},
   "outputs": [
    {
     "data": {
      "image/png": "[encoded data removed]",
      "text/plain": [
       "<Figure size 432x288 with 1 Axes>"
      ]
     },
     "metadata": {
      "needs_background": "light"
     },
     "output_type": "display_data"
    }
   ],
   "source": [
    "sns.countplot(train_df['conversion_fraud'], palette='Set1')\n",
    "plt.xlabel('conversion_fraud', size = 15)\n",
    "plt.show()"
   ]
  },
  {
   "cell_type": "markdown",
   "metadata": {},
   "source": [
    "##### As the dataset is imbalanced we need to balance it"
   ]
  },
  {
   "cell_type": "code",
   "execution_count": 76,
   "metadata": {},
   "outputs": [],
   "source": [
    "train_df['conversion_fraud'].replace({True:1, False:0}, inplace=True)"
   ]
  },
  {
   "cell_type": "code",
   "execution_count": 77,
   "metadata": {},
   "outputs": [],
   "source": [
    "X = train_df.drop('conversion_fraud', axis=\"columns\")\n",
    "y = train_df['conversion_fraud']"
   ]
  },
  {
   "cell_type": "markdown",
   "metadata": {},
   "source": [
    "### SMOTE to Balance the dataset"
   ]
  },
  {
   "cell_type": "code",
   "execution_count": 78,
   "metadata": {},
   "outputs": [],
   "source": [
    "from imblearn.combine import SMOTETomek\n",
    "smk = SMOTETomek(random_state=42)\n",
    "X,y = smk.fit_resample(X, y)"
   ]
  },
  {
   "cell_type": "code",
   "execution_count": 79,
   "metadata": {},
   "outputs": [
    {
     "data": {
      "image/png": "[encoded data removed]",
      "text/plain": [
       "<Figure size 432x288 with 1 Axes>"
      ]
     },
     "metadata": {
      "needs_background": "light"
     },
     "output_type": "display_data"
    }
   ],
   "source": [
    "sns.countplot(y, palette='Set1')\n",
    "plt.xlabel('conversion_fraud', size = 15)\n",
    "plt.show()"
   ]
  },
  {
   "cell_type": "code",
   "execution_count": 80,
   "metadata": {},
   "outputs": [],
   "source": [
    "#Train Test Split\n",
    "from sklearn.model_selection import train_test_split\n",
    "X_train, X_test, y_train, y_test = train_test_split(X,y,test_size=0.2,random_state=5)"
   ]
  },
  {
   "cell_type": "markdown",
   "metadata": {},
   "source": [
    "###### Models Without Hyper-parameter Tuning "
   ]
  },
  {
   "cell_type": "code",
   "execution_count": 123,
   "metadata": {},
   "outputs": [],
   "source": [
    "from sklearn.tree import DecisionTreeClassifier\n",
    "from sklearn.ensemble import RandomForestClassifier\n",
    "from sklearn.neighbors import KNeighborsClassifier\n",
    "from sklearn.svm import SVC\n",
    "from sklearn.naive_bayes import GaussianNB"
   ]
  },
  {
   "cell_type": "code",
   "execution_count": 124,
   "metadata": {},
   "outputs": [],
   "source": [
    "# Let's implement simple classifiers\n",
    "\n",
    "ran = RandomForestClassifier(n_estimators=100)\n",
    "\n",
    "naive = GaussianNB()\n",
    "\n",
    "\n",
    "classifiers = {\n",
    "    \"LogisiticRegression\": LogisticRegression(),\n",
    "    \"KNearest\": KNeighborsClassifier(),\n",
    "    \"Support Vector Classifier\": SVC(),\n",
    "    \"DecisionTreeClassifier\": DecisionTreeClassifier(),\n",
    "    \"Random forest\" : ran,\n",
    "    \"Naive bayes\" : naive}"
   ]
  },
  {
   "cell_type": "code",
   "execution_count": 125,
   "metadata": {},
   "outputs": [
    {
     "name": "stdout",
     "output_type": "stream",
     "text": [
      "Classifiers:  LogisticRegression Has a training score of 69.0 % accuracy score\n",
      "Classifiers:  KNeighborsClassifier Has a training score of 84.0 % accuracy score\n",
      "Classifiers:  SVC Has a training score of 74.0 % accuracy score\n",
      "Classifiers:  DecisionTreeClassifier Has a training score of 92.0 % accuracy score\n",
      "Classifiers:  RandomForestClassifier Has a training score of 97.0 % accuracy score\n",
      "Classifiers:  GaussianNB Has a training score of 60.0 % accuracy score\n"
     ]
    }
   ],
   "source": [
    "from sklearn.model_selection import cross_val_score\n",
    "\n",
    "\n",
    "for key, classifier in classifiers.items():\n",
    "    classifier.fit(X_train, y_train)\n",
    "    training_score = cross_val_score(classifier, X_train, y_train, cv=5)\n",
    "    print(\"Classifiers: \", classifier.__class__.__name__, \"Has a training score of\", round(training_score.mean(), 2) * 100, \"% accuracy score\")"
   ]
  },
  {
   "cell_type": "code",
   "execution_count": 126,
   "metadata": {},
   "outputs": [],
   "source": [
    "from sklearn.model_selection import cross_val_score\n",
    "accuracies_random_forest = cross_val_score(estimator=ran, X=X_train, y=y_train, cv=10)\n",
    "accuracies_knn = cross_val_score(estimator=KNeighborsClassifier(), X=X, y=y, cv=10)"
   ]
  },
  {
   "cell_type": "code",
   "execution_count": 127,
   "metadata": {},
   "outputs": [
    {
     "name": "stdout",
     "output_type": "stream",
     "text": [
      "Random Forest Average accuracy:  0.9698678514467989\n",
      "Random Forest Standart Deviation:  0.020432548046592374\n",
      "KNN Average accuracy:  0.8673311427528295\n",
      "KNN Standart Deviation:  0.02517637835774448\n"
     ]
    }
   ],
   "source": [
    "print(\"Random Forest Average accuracy: \", accuracies_random_forest.mean())\n",
    "print(\"Random Forest Standart Deviation: \", accuracies_random_forest.std())\n",
    "print(\"KNN Average accuracy: \", accuracies_knn.mean())\n",
    "print(\"KNN Standart Deviation: \", accuracies_knn.std())"
   ]
  },
  {
   "cell_type": "markdown",
   "metadata": {},
   "source": [
    "##### Using Neural Network"
   ]
  },
  {
   "cell_type": "code",
   "execution_count": 81,
   "metadata": {},
   "outputs": [],
   "source": [
    "from tensorflow import keras\n",
    "import tensorflow as tf"
   ]
  },
  {
   "cell_type": "code",
   "execution_count": 82,
   "metadata": {},
   "outputs": [
    {
     "name": "stdout",
     "output_type": "stream",
     "text": [
      "Epoch 1/100\n",
      "42/42 [==============================] - 2s 3ms/step - loss: 0.6995 - accuracy: 0.5255\n",
      "Epoch 2/100\n",
      "42/42 [==============================] - 0s 2ms/step - loss: 0.6603 - accuracy: 0.6901\n",
      "Epoch 3/100\n",
      "42/42 [==============================] - 0s 2ms/step - loss: 0.6335 - accuracy: 0.6971\n",
      "Epoch 4/100\n",
      "42/42 [==============================] - 0s 2ms/step - loss: 0.6152 - accuracy: 0.6996\n",
      "Epoch 5/100\n",
      "42/42 [==============================] - 0s 2ms/step - loss: 0.5768 - accuracy: 0.7276\n",
      "Epoch 6/100\n",
      "42/42 [==============================] - 0s 2ms/step - loss: 0.5752 - accuracy: 0.7030\n",
      "Epoch 7/100\n",
      "42/42 [==============================] - 0s 2ms/step - loss: 0.5653 - accuracy: 0.7013\n",
      "Epoch 8/100\n",
      "42/42 [==============================] - 0s 2ms/step - loss: 0.5236 - accuracy: 0.7398\n",
      "Epoch 9/100\n",
      "42/42 [==============================] - 0s 2ms/step - loss: 0.5078 - accuracy: 0.7503\n",
      "Epoch 10/100\n",
      "42/42 [==============================] - 0s 2ms/step - loss: 0.5223 - accuracy: 0.7383\n",
      "Epoch 11/100\n",
      "42/42 [==============================] - 0s 2ms/step - loss: 0.4996 - accuracy: 0.7432\n",
      "Epoch 12/100\n",
      "42/42 [==============================] - 0s 2ms/step - loss: 0.4963 - accuracy: 0.7372\n",
      "Epoch 13/100\n",
      "42/42 [==============================] - 0s 2ms/step - loss: 0.4630 - accuracy: 0.7764\n",
      "Epoch 14/100\n",
      "42/42 [==============================] - 0s 2ms/step - loss: 0.4483 - accuracy: 0.7814\n",
      "Epoch 15/100\n",
      "42/42 [==============================] - 0s 2ms/step - loss: 0.4376 - accuracy: 0.7873\n",
      "Epoch 16/100\n",
      "42/42 [==============================] - 0s 2ms/step - loss: 0.4629 - accuracy: 0.7670\n",
      "Epoch 17/100\n",
      "42/42 [==============================] - 0s 2ms/step - loss: 0.4363 - accuracy: 0.7903\n",
      "Epoch 18/100\n",
      "42/42 [==============================] - 0s 2ms/step - loss: 0.4357 - accuracy: 0.7736\n",
      "Epoch 19/100\n",
      "42/42 [==============================] - 0s 2ms/step - loss: 0.4218 - accuracy: 0.7805\n",
      "Epoch 20/100\n",
      "42/42 [==============================] - 0s 2ms/step - loss: 0.4333 - accuracy: 0.7827\n",
      "Epoch 21/100\n",
      "42/42 [==============================] - 0s 2ms/step - loss: 0.4247 - accuracy: 0.7748\n",
      "Epoch 22/100\n",
      "42/42 [==============================] - 0s 2ms/step - loss: 0.4101 - accuracy: 0.7932\n",
      "Epoch 23/100\n",
      "42/42 [==============================] - 0s 2ms/step - loss: 0.4041 - accuracy: 0.8037\n",
      "Epoch 24/100\n",
      "42/42 [==============================] - 0s 2ms/step - loss: 0.4068 - accuracy: 0.7980\n",
      "Epoch 25/100\n",
      "42/42 [==============================] - 0s 2ms/step - loss: 0.3941 - accuracy: 0.8105\n",
      "Epoch 26/100\n",
      "42/42 [==============================] - 0s 2ms/step - loss: 0.3904 - accuracy: 0.8179\n",
      "Epoch 27/100\n",
      "42/42 [==============================] - 0s 2ms/step - loss: 0.3745 - accuracy: 0.8284\n",
      "Epoch 28/100\n",
      "42/42 [==============================] - 0s 2ms/step - loss: 0.3939 - accuracy: 0.8167\n",
      "Epoch 29/100\n",
      "42/42 [==============================] - 0s 2ms/step - loss: 0.4086 - accuracy: 0.7927\n",
      "Epoch 30/100\n",
      "42/42 [==============================] - 0s 2ms/step - loss: 0.3723 - accuracy: 0.8229\n",
      "Epoch 31/100\n",
      "42/42 [==============================] - 0s 2ms/step - loss: 0.3616 - accuracy: 0.8299\n",
      "Epoch 32/100\n",
      "42/42 [==============================] - 0s 2ms/step - loss: 0.3772 - accuracy: 0.8239\n",
      "Epoch 33/100\n",
      "42/42 [==============================] - 0s 2ms/step - loss: 0.3673 - accuracy: 0.8271\n",
      "Epoch 34/100\n",
      "42/42 [==============================] - 0s 2ms/step - loss: 0.3579 - accuracy: 0.8294\n",
      "Epoch 35/100\n",
      "42/42 [==============================] - 0s 2ms/step - loss: 0.3810 - accuracy: 0.8048\n",
      "Epoch 36/100\n",
      "42/42 [==============================] - 0s 2ms/step - loss: 0.3472 - accuracy: 0.8416\n",
      "Epoch 37/100\n",
      "42/42 [==============================] - 0s 2ms/step - loss: 0.3637 - accuracy: 0.8199\n",
      "Epoch 38/100\n",
      "42/42 [==============================] - 0s 2ms/step - loss: 0.3741 - accuracy: 0.8258\n",
      "Epoch 39/100\n",
      "42/42 [==============================] - 0s 2ms/step - loss: 0.3722 - accuracy: 0.8276\n",
      "Epoch 40/100\n",
      "42/42 [==============================] - 0s 2ms/step - loss: 0.3587 - accuracy: 0.8248\n",
      "Epoch 41/100\n",
      "42/42 [==============================] - 0s 2ms/step - loss: 0.3348 - accuracy: 0.8440\n",
      "Epoch 42/100\n",
      "42/42 [==============================] - 0s 2ms/step - loss: 0.3707 - accuracy: 0.8300\n",
      "Epoch 43/100\n",
      "42/42 [==============================] - 0s 2ms/step - loss: 0.3381 - accuracy: 0.8473\n",
      "Epoch 44/100\n",
      "42/42 [==============================] - 0s 2ms/step - loss: 0.3418 - accuracy: 0.8417\n",
      "Epoch 45/100\n",
      "42/42 [==============================] - 0s 2ms/step - loss: 0.3491 - accuracy: 0.8234\n",
      "Epoch 46/100\n",
      "42/42 [==============================] - 0s 2ms/step - loss: 0.3597 - accuracy: 0.8246\n",
      "Epoch 47/100\n",
      "42/42 [==============================] - 0s 2ms/step - loss: 0.3482 - accuracy: 0.8178\n",
      "Epoch 48/100\n",
      "42/42 [==============================] - 0s 2ms/step - loss: 0.3367 - accuracy: 0.8570\n",
      "Epoch 49/100\n",
      "42/42 [==============================] - 0s 2ms/step - loss: 0.3272 - accuracy: 0.8497\n",
      "Epoch 50/100\n",
      "42/42 [==============================] - 0s 2ms/step - loss: 0.3161 - accuracy: 0.8543\n",
      "Epoch 51/100\n",
      "42/42 [==============================] - 0s 2ms/step - loss: 0.3400 - accuracy: 0.8485\n",
      "Epoch 52/100\n",
      "42/42 [==============================] - 0s 2ms/step - loss: 0.3145 - accuracy: 0.8659\n",
      "Epoch 53/100\n",
      "42/42 [==============================] - 0s 2ms/step - loss: 0.3210 - accuracy: 0.8538\n",
      "Epoch 54/100\n",
      "42/42 [==============================] - 0s 2ms/step - loss: 0.3344 - accuracy: 0.8361\n",
      "Epoch 55/100\n",
      "42/42 [==============================] - 0s 2ms/step - loss: 0.3223 - accuracy: 0.8605\n",
      "Epoch 56/100\n",
      "42/42 [==============================] - 0s 2ms/step - loss: 0.3220 - accuracy: 0.8430\n",
      "Epoch 57/100\n",
      "42/42 [==============================] - 0s 2ms/step - loss: 0.3256 - accuracy: 0.8648\n",
      "Epoch 58/100\n",
      "42/42 [==============================] - 0s 2ms/step - loss: 0.3087 - accuracy: 0.8554\n",
      "Epoch 59/100\n",
      "42/42 [==============================] - 0s 2ms/step - loss: 0.3068 - accuracy: 0.8516\n",
      "Epoch 60/100\n",
      "42/42 [==============================] - 0s 2ms/step - loss: 0.2870 - accuracy: 0.8806\n",
      "Epoch 61/100\n",
      "42/42 [==============================] - 0s 2ms/step - loss: 0.3121 - accuracy: 0.8625\n",
      "Epoch 62/100\n",
      "42/42 [==============================] - 0s 2ms/step - loss: 0.2978 - accuracy: 0.8703\n",
      "Epoch 63/100\n",
      "42/42 [==============================] - 0s 2ms/step - loss: 0.3076 - accuracy: 0.8756\n",
      "Epoch 64/100\n",
      "42/42 [==============================] - 0s 2ms/step - loss: 0.2826 - accuracy: 0.8916\n",
      "Epoch 65/100\n",
      "42/42 [==============================] - 0s 1ms/step - loss: 0.3072 - accuracy: 0.8701\n",
      "Epoch 66/100\n",
      "42/42 [==============================] - 0s 2ms/step - loss: 0.3041 - accuracy: 0.8665\n",
      "Epoch 67/100\n",
      "42/42 [==============================] - 0s 2ms/step - loss: 0.2838 - accuracy: 0.8823\n",
      "Epoch 68/100\n",
      "42/42 [==============================] - 0s 2ms/step - loss: 0.2984 - accuracy: 0.8833\n",
      "Epoch 69/100\n",
      "42/42 [==============================] - 0s 2ms/step - loss: 0.2993 - accuracy: 0.8707\n",
      "Epoch 70/100\n",
      "42/42 [==============================] - 0s 2ms/step - loss: 0.3103 - accuracy: 0.8748\n",
      "Epoch 71/100\n",
      "42/42 [==============================] - 0s 2ms/step - loss: 0.2912 - accuracy: 0.8784\n",
      "Epoch 72/100\n",
      "42/42 [==============================] - 0s 2ms/step - loss: 0.2684 - accuracy: 0.8940\n",
      "Epoch 73/100\n",
      "42/42 [==============================] - 0s 2ms/step - loss: 0.2822 - accuracy: 0.8840\n",
      "Epoch 74/100\n",
      "42/42 [==============================] - 0s 2ms/step - loss: 0.2789 - accuracy: 0.8851\n",
      "Epoch 75/100\n",
      "42/42 [==============================] - 0s 2ms/step - loss: 0.2909 - accuracy: 0.8772\n",
      "Epoch 76/100\n",
      "42/42 [==============================] - 0s 2ms/step - loss: 0.2702 - accuracy: 0.8853\n",
      "Epoch 77/100\n",
      "42/42 [==============================] - 0s 2ms/step - loss: 0.2647 - accuracy: 0.8916\n",
      "Epoch 78/100\n",
      "42/42 [==============================] - 0s 2ms/step - loss: 0.2545 - accuracy: 0.8964\n",
      "Epoch 79/100\n",
      "42/42 [==============================] - 0s 2ms/step - loss: 0.2587 - accuracy: 0.9092\n",
      "Epoch 80/100\n",
      "42/42 [==============================] - 0s 2ms/step - loss: 0.2668 - accuracy: 0.8949\n",
      "Epoch 81/100\n",
      "42/42 [==============================] - 0s 2ms/step - loss: 0.2719 - accuracy: 0.8953\n",
      "Epoch 82/100\n",
      "42/42 [==============================] - 0s 2ms/step - loss: 0.2800 - accuracy: 0.8968\n",
      "Epoch 83/100\n",
      "42/42 [==============================] - 0s 4ms/step - loss: 0.2602 - accuracy: 0.9001\n",
      "Epoch 84/100\n",
      "42/42 [==============================] - 0s 3ms/step - loss: 0.2556 - accuracy: 0.8934\n",
      "Epoch 85/100\n",
      "42/42 [==============================] - 0s 2ms/step - loss: 0.2581 - accuracy: 0.8934\n",
      "Epoch 86/100\n",
      "42/42 [==============================] - 0s 2ms/step - loss: 0.2542 - accuracy: 0.9105\n",
      "Epoch 87/100\n",
      "42/42 [==============================] - ETA: 0s - loss: 0.2352 - accuracy: 0.92 - 0s 2ms/step - loss: 0.2394 - accuracy: 0.9189\n",
      "Epoch 88/100\n",
      "42/42 [==============================] - 0s 2ms/step - loss: 0.2647 - accuracy: 0.8882\n",
      "Epoch 89/100\n",
      "42/42 [==============================] - 0s 2ms/step - loss: 0.2524 - accuracy: 0.9025\n",
      "Epoch 90/100\n",
      "42/42 [==============================] - 0s 2ms/step - loss: 0.2448 - accuracy: 0.9018\n",
      "Epoch 91/100\n",
      "42/42 [==============================] - 0s 2ms/step - loss: 0.2507 - accuracy: 0.9052\n",
      "Epoch 92/100\n",
      "42/42 [==============================] - 0s 2ms/step - loss: 0.2362 - accuracy: 0.9065\n",
      "Epoch 93/100\n",
      "42/42 [==============================] - 0s 2ms/step - loss: 0.2400 - accuracy: 0.9038\n",
      "Epoch 94/100\n",
      "42/42 [==============================] - 0s 2ms/step - loss: 0.2832 - accuracy: 0.8896\n",
      "Epoch 95/100\n",
      "42/42 [==============================] - 0s 2ms/step - loss: 0.2487 - accuracy: 0.9102\n",
      "Epoch 96/100\n",
      "42/42 [==============================] - 0s 2ms/step - loss: 0.2518 - accuracy: 0.9064\n",
      "Epoch 97/100\n",
      "42/42 [==============================] - 0s 2ms/step - loss: 0.2635 - accuracy: 0.9032\n",
      "Epoch 98/100\n",
      "42/42 [==============================] - 0s 2ms/step - loss: 0.2508 - accuracy: 0.9050\n",
      "Epoch 99/100\n",
      "42/42 [==============================] - 0s 2ms/step - loss: 0.2367 - accuracy: 0.9111\n",
      "Epoch 100/100\n",
      "42/42 [==============================] - 0s 2ms/step - loss: 0.2299 - accuracy: 0.9184\n"
     ]
    },
    {
     "data": {
      "text/plain": [
       "<tensorflow.python.keras.callbacks.History at 0x2784c2d8730>"
      ]
     },
     "execution_count": 82,
     "metadata": {},
     "output_type": "execute_result"
    }
   ],
   "source": [
    "model = keras.Sequential([\n",
    "    keras.layers.Dense(32, input_shape=(32,), activation='relu'),\n",
    "    keras.layers.Dense(16, activation='relu'),\n",
    "    keras.layers.Dense(1, activation='sigmoid')\n",
    "])\n",
    "\n",
    "model.compile(optimizer = 'adam',\n",
    "             loss = 'binary_crossentropy',\n",
    "             metrics = ['accuracy'])\n",
    "\n",
    "model.fit(X_train, y_train, epochs = 100)"
   ]
  },
  {
   "cell_type": "code",
   "execution_count": 83,
   "metadata": {},
   "outputs": [
    {
     "name": "stdout",
     "output_type": "stream",
     "text": [
      "11/11 [==============================] - 0s 2ms/step - loss: 0.2679 - accuracy: 0.8735\n"
     ]
    },
    {
     "data": {
      "text/plain": [
       "[0.26794111728668213, 0.8734939694404602]"
      ]
     },
     "execution_count": 83,
     "metadata": {},
     "output_type": "execute_result"
    }
   ],
   "source": [
    "model.evaluate(X_test, y_test)"
   ]
  },
  {
   "cell_type": "markdown",
   "metadata": {},
   "source": [
    "##### Hyper Parameter Tuning for ML Algorithms "
   ]
  },
  {
   "cell_type": "markdown",
   "metadata": {},
   "source": [
    "##### Logistic Regression"
   ]
  },
  {
   "cell_type": "code",
   "execution_count": 84,
   "metadata": {},
   "outputs": [
    {
     "data": {
      "text/plain": [
       "0.7087039065352319"
      ]
     },
     "execution_count": 84,
     "metadata": {},
     "output_type": "execute_result"
    }
   ],
   "source": [
    "from sklearn.model_selection import cross_val_score\n",
    "from sklearn.linear_model import LogisticRegression\n",
    "lr_score = cross_val_score(LogisticRegression(), X, y, cv=10)\n",
    "lr_score.mean()"
   ]
  },
  {
   "cell_type": "markdown",
   "metadata": {},
   "source": [
    "##### Decision Tress"
   ]
  },
  {
   "cell_type": "code",
   "execution_count": 85,
   "metadata": {
    "scrolled": true
   },
   "outputs": [
    {
     "data": {
      "text/plain": [
       "{'mean_fit_time': array([0.04052348, 0.02343733]),\n",
       " 'std_fit_time': array([0.06583253, 0.00780375]),\n",
       " 'mean_score_time': array([0.00650473, 0.001562  ]),\n",
       " 'std_score_time': array([0.01039454, 0.004686  ]),\n",
       " 'param_criterion': masked_array(data=['gini', 'entropy'],\n",
       "              mask=[False, False],\n",
       "        fill_value='?',\n",
       "             dtype=object),\n",
       " 'params': [{'criterion': 'gini'}, {'criterion': 'entropy'}],\n",
       " 'split0_test_score': array([0.89156627, 0.88554217]),\n",
       " 'split1_test_score': array([0.89156627, 0.87951807]),\n",
       " 'split2_test_score': array([0.94578313, 0.92771084]),\n",
       " 'split3_test_score': array([0.95783133, 0.95180723]),\n",
       " 'split4_test_score': array([0.87349398, 0.91566265]),\n",
       " 'split5_test_score': array([0.93975904, 0.95180723]),\n",
       " 'split6_test_score': array([0.93975904, 0.92771084]),\n",
       " 'split7_test_score': array([0.92771084, 0.94578313]),\n",
       " 'split8_test_score': array([0.95757576, 0.93939394]),\n",
       " 'split9_test_score': array([0.93333333, 0.96969697]),\n",
       " 'mean_test_score': array([0.9258379 , 0.92946331]),\n",
       " 'std_test_score': array([0.02822223, 0.02757244]),\n",
       " 'rank_test_score': array([2, 1])}"
      ]
     },
     "execution_count": 85,
     "metadata": {},
     "output_type": "execute_result"
    }
   ],
   "source": [
    "from sklearn.model_selection import GridSearchCV\n",
    "from sklearn.tree import DecisionTreeClassifier\n",
    "clf = GridSearchCV(DecisionTreeClassifier(), {'criterion':['gini', 'entropy']}, cv=10, return_train_score=False)\n",
    "clf.fit(X, y)\n",
    "clf.cv_results_"
   ]
  },
  {
   "cell_type": "code",
   "execution_count": 86,
   "metadata": {},
   "outputs": [
    {
     "data": {
      "text/html": [
       "<div>\n",
       "<style scoped>\n",
       "    .dataframe tbody tr th:only-of-type {\n",
       "        vertical-align: middle;\n",
       "    }\n",
       "\n",
       "    .dataframe tbody tr th {\n",
       "        vertical-align: top;\n",
       "    }\n",
       "\n",
       "    .dataframe thead th {\n",
       "        text-align: right;\n",
       "    }\n",
       "</style>\n",
       "<table border=\"1\" class=\"dataframe\">\n",
       "  <thead>\n",
       "    <tr style=\"text-align: right;\">\n",
       "      <th></th>\n",
       "      <th>param_criterion</th>\n",
       "      <th>mean_test_score</th>\n",
       "    </tr>\n",
       "  </thead>\n",
       "  <tbody>\n",
       "    <tr>\n",
       "      <th>0</th>\n",
       "      <td>gini</td>\n",
       "      <td>0.925838</td>\n",
       "    </tr>\n",
       "    <tr>\n",
       "      <th>1</th>\n",
       "      <td>entropy</td>\n",
       "      <td>0.929463</td>\n",
       "    </tr>\n",
       "  </tbody>\n",
       "</table>\n",
       "</div>"
      ],
      "text/plain": [
       "  param_criterion  mean_test_score\n",
       "0            gini         0.925838\n",
       "1         entropy         0.929463"
      ]
     },
     "execution_count": 86,
     "metadata": {},
     "output_type": "execute_result"
    }
   ],
   "source": [
    "dt_result_df = pd.DataFrame(clf.cv_results_)\n",
    "dt_result_df[['param_criterion', 'mean_test_score']]"
   ]
  },
  {
   "cell_type": "code",
   "execution_count": 143,
   "metadata": {},
   "outputs": [
    {
     "data": {
      "text/plain": [
       "0.9186746987951807"
      ]
     },
     "execution_count": 143,
     "metadata": {},
     "output_type": "execute_result"
    }
   ],
   "source": [
    "clf.score(X_test,y_test)"
   ]
  },
  {
   "cell_type": "markdown",
   "metadata": {},
   "source": [
    "##### Random Forest"
   ]
  },
  {
   "cell_type": "code",
   "execution_count": 164,
   "metadata": {},
   "outputs": [
    {
     "data": {
      "text/plain": [
       "{'mean_fit_time': array([0.01569817, 0.03909822, 0.06719692, 0.10080109, 0.18209271,\n",
       "        0.21950021, 0.26270647]),\n",
       " 'std_fit_time': array([0.00313402, 0.00615469, 0.01232119, 0.01537831, 0.01697779,\n",
       "        0.02661011, 0.03056638]),\n",
       " 'mean_score_time': array([0.00670204, 0.00660233, 0.00770004, 0.00749879, 0.01159856,\n",
       "        0.01259582, 0.01539264]),\n",
       " 'std_score_time': array([0.00173491, 0.00174455, 0.00293183, 0.00135241, 0.00233393,\n",
       "        0.00257163, 0.0031879 ]),\n",
       " 'param_n_estimators': masked_array(data=[1, 5, 10, 20, 40, 50, 60],\n",
       "              mask=[False, False, False, False, False, False, False],\n",
       "        fill_value='?',\n",
       "             dtype=object),\n",
       " 'params': [{'n_estimators': 1},\n",
       "  {'n_estimators': 5},\n",
       "  {'n_estimators': 10},\n",
       "  {'n_estimators': 20},\n",
       "  {'n_estimators': 40},\n",
       "  {'n_estimators': 50},\n",
       "  {'n_estimators': 60}],\n",
       " 'split0_test_score': array([0.81927711, 0.88554217, 0.91566265, 0.88554217, 0.90361446,\n",
       "        0.91566265, 0.90963855]),\n",
       " 'split1_test_score': array([0.80120482, 0.92771084, 0.90361446, 0.90361446, 0.91566265,\n",
       "        0.89759036, 0.91566265]),\n",
       " 'split2_test_score': array([0.89759036, 0.95180723, 1.        , 0.98795181, 1.        ,\n",
       "        0.9939759 , 0.9939759 ]),\n",
       " 'split3_test_score': array([0.90963855, 0.96385542, 0.97590361, 0.98795181, 0.97590361,\n",
       "        0.96987952, 0.97590361]),\n",
       " 'split4_test_score': array([0.85542169, 0.96385542, 0.96987952, 1.        , 0.9939759 ,\n",
       "        0.9939759 , 1.        ]),\n",
       " 'split5_test_score': array([0.92168675, 0.96385542, 0.98192771, 0.97590361, 0.98795181,\n",
       "        0.98192771, 0.98192771]),\n",
       " 'split6_test_score': array([0.88554217, 0.92771084, 0.97590361, 0.95783133, 0.96987952,\n",
       "        0.96987952, 0.96987952]),\n",
       " 'split7_test_score': array([0.90361446, 0.92771084, 0.95180723, 0.95783133, 0.97590361,\n",
       "        0.97590361, 0.97590361]),\n",
       " 'split8_test_score': array([0.90909091, 0.96363636, 0.96969697, 0.96363636, 0.98787879,\n",
       "        0.98181818, 0.98787879]),\n",
       " 'split9_test_score': array([0.94545455, 0.93333333, 0.98787879, 0.98787879, 0.98181818,\n",
       "        0.98787879, 0.99393939]),\n",
       " 'mean_test_score': array([0.88485214, 0.94090179, 0.96322746, 0.96081417, 0.96925885,\n",
       "        0.96684922, 0.97047097]),\n",
       " 'std_test_score': array([0.04348471, 0.0242082 , 0.02943403, 0.03596117, 0.03111309,\n",
       "        0.03143659, 0.03028764]),\n",
       " 'rank_test_score': array([7, 6, 4, 5, 2, 3, 1])}"
      ]
     },
     "execution_count": 164,
     "metadata": {},
     "output_type": "execute_result"
    }
   ],
   "source": [
    "from sklearn.ensemble import RandomForestClassifier\n",
    "rf_clf = GridSearchCV(RandomForestClassifier(), {'n_estimators':[1, 5, 10, 20, 40, 50,60]}, cv=10, return_train_score=False)\n",
    "rf_clf.fit(X, y)\n",
    "rf_clf.cv_results_"
   ]
  },
  {
   "cell_type": "code",
   "execution_count": 88,
   "metadata": {},
   "outputs": [
    {
     "data": {
      "text/html": [
       "<div>\n",
       "<style scoped>\n",
       "    .dataframe tbody tr th:only-of-type {\n",
       "        vertical-align: middle;\n",
       "    }\n",
       "\n",
       "    .dataframe tbody tr th {\n",
       "        vertical-align: top;\n",
       "    }\n",
       "\n",
       "    .dataframe thead th {\n",
       "        text-align: right;\n",
       "    }\n",
       "</style>\n",
       "<table border=\"1\" class=\"dataframe\">\n",
       "  <thead>\n",
       "    <tr style=\"text-align: right;\">\n",
       "      <th></th>\n",
       "      <th>param_n_estimators</th>\n",
       "      <th>mean_test_score</th>\n",
       "    </tr>\n",
       "  </thead>\n",
       "  <tbody>\n",
       "    <tr>\n",
       "      <th>0</th>\n",
       "      <td>1</td>\n",
       "      <td>0.886652</td>\n",
       "    </tr>\n",
       "    <tr>\n",
       "      <th>1</th>\n",
       "      <td>5</td>\n",
       "      <td>0.951183</td>\n",
       "    </tr>\n",
       "    <tr>\n",
       "      <th>2</th>\n",
       "      <td>10</td>\n",
       "      <td>0.955988</td>\n",
       "    </tr>\n",
       "    <tr>\n",
       "      <th>3</th>\n",
       "      <td>20</td>\n",
       "      <td>0.968058</td>\n",
       "    </tr>\n",
       "    <tr>\n",
       "      <th>4</th>\n",
       "      <td>40</td>\n",
       "      <td>0.971676</td>\n",
       "    </tr>\n",
       "    <tr>\n",
       "      <th>5</th>\n",
       "      <td>50</td>\n",
       "      <td>0.969854</td>\n",
       "    </tr>\n",
       "    <tr>\n",
       "      <th>6</th>\n",
       "      <td>60</td>\n",
       "      <td>0.972881</td>\n",
       "    </tr>\n",
       "  </tbody>\n",
       "</table>\n",
       "</div>"
      ],
      "text/plain": [
       "  param_n_estimators  mean_test_score\n",
       "0                  1         0.886652\n",
       "1                  5         0.951183\n",
       "2                 10         0.955988\n",
       "3                 20         0.968058\n",
       "4                 40         0.971676\n",
       "5                 50         0.969854\n",
       "6                 60         0.972881"
      ]
     },
     "execution_count": 88,
     "metadata": {},
     "output_type": "execute_result"
    }
   ],
   "source": [
    "rf_result_df = pd.DataFrame(rf_clf.cv_results_)\n",
    "rf_result_df[['param_n_estimators', 'mean_test_score']]"
   ]
  },
  {
   "cell_type": "code",
   "execution_count": 152,
   "metadata": {},
   "outputs": [
    {
     "data": {
      "text/plain": [
       "0.9759036144578314"
      ]
     },
     "execution_count": 152,
     "metadata": {},
     "output_type": "execute_result"
    }
   ],
   "source": [
    "rf_clf.score(X_test,y_test)"
   ]
  },
  {
   "cell_type": "code",
   "execution_count": 154,
   "metadata": {},
   "outputs": [],
   "source": [
    "ylog=rf_clf.predict(X_test)"
   ]
  },
  {
   "cell_type": "code",
   "execution_count": 156,
   "metadata": {},
   "outputs": [
    {
     "data": {
      "text/plain": [
       "0.9759036144578314"
      ]
     },
     "execution_count": 156,
     "metadata": {},
     "output_type": "execute_result"
    }
   ],
   "source": [
    "score = accuracy_score(y_test, ylog)\n",
    "score"
   ]
  },
  {
   "cell_type": "code",
   "execution_count": 155,
   "metadata": {},
   "outputs": [
    {
     "name": "stdout",
     "output_type": "stream",
     "text": [
      "              precision    recall  f1-score   support\n",
      "\n",
      "           0       0.96      0.99      0.98       158\n",
      "           1       0.99      0.96      0.98       174\n",
      "\n",
      "    accuracy                           0.98       332\n",
      "   macro avg       0.98      0.98      0.98       332\n",
      "weighted avg       0.98      0.98      0.98       332\n",
      "\n"
     ]
    }
   ],
   "source": [
    "print(classification_report(y_test,ylog))"
   ]
  },
  {
   "cell_type": "markdown",
   "metadata": {},
   "source": [
    "##### Support Vector Machine"
   ]
  },
  {
   "cell_type": "code",
   "execution_count": 149,
   "metadata": {},
   "outputs": [
    {
     "data": {
      "text/plain": [
       "{'mean_fit_time': array([0.16620026, 0.13419707, 0.13489487, 0.2253933 , 0.13619993,\n",
       "        0.35529876]),\n",
       " 'std_fit_time': array([0.00968636, 0.01004791, 0.00202765, 0.02422725, 0.00619359,\n",
       "        0.05160529]),\n",
       " 'mean_score_time': array([0.03489885, 0.0127013 , 0.0256022 , 0.0112041 , 0.02469795,\n",
       "        0.01150043]),\n",
       " 'std_score_time': array([0.0027736 , 0.00228157, 0.00049358, 0.00139894, 0.00316379,\n",
       "        0.00111828]),\n",
       " 'param_C': masked_array(data=[1, 1, 10, 10, 20, 20],\n",
       "              mask=[False, False, False, False, False, False],\n",
       "        fill_value='?',\n",
       "             dtype=object),\n",
       " 'param_kernel': masked_array(data=['rbf', 'linear', 'rbf', 'linear', 'rbf', 'linear'],\n",
       "              mask=[False, False, False, False, False, False],\n",
       "        fill_value='?',\n",
       "             dtype=object),\n",
       " 'params': [{'C': 1, 'kernel': 'rbf'},\n",
       "  {'C': 1, 'kernel': 'linear'},\n",
       "  {'C': 10, 'kernel': 'rbf'},\n",
       "  {'C': 10, 'kernel': 'linear'},\n",
       "  {'C': 20, 'kernel': 'rbf'},\n",
       "  {'C': 20, 'kernel': 'linear'}],\n",
       " 'split0_test_score': array([0.77108434, 0.69277108, 0.81927711, 0.71686747, 0.81325301,\n",
       "        0.71084337]),\n",
       " 'split1_test_score': array([0.74698795, 0.69277108, 0.81927711, 0.69277108, 0.81927711,\n",
       "        0.69277108]),\n",
       " 'split2_test_score': array([0.80120482, 0.75301205, 0.84337349, 0.73493976, 0.84939759,\n",
       "        0.73493976]),\n",
       " 'split3_test_score': array([0.72289157, 0.70481928, 0.78313253, 0.70481928, 0.81325301,\n",
       "        0.70481928]),\n",
       " 'split4_test_score': array([0.77710843, 0.62650602, 0.88554217, 0.62048193, 0.89156627,\n",
       "        0.62048193]),\n",
       " 'split5_test_score': array([0.74698795, 0.69879518, 0.81325301, 0.69277108, 0.81927711,\n",
       "        0.69277108]),\n",
       " 'split6_test_score': array([0.75903614, 0.6686747 , 0.87951807, 0.71084337, 0.89156627,\n",
       "        0.69879518]),\n",
       " 'split7_test_score': array([0.77108434, 0.74698795, 0.86746988, 0.73493976, 0.87951807,\n",
       "        0.74096386]),\n",
       " 'split8_test_score': array([0.73333333, 0.7030303 , 0.83030303, 0.73333333, 0.86060606,\n",
       "        0.73939394]),\n",
       " 'split9_test_score': array([0.78181818, 0.72727273, 0.85454545, 0.73333333, 0.86666667,\n",
       "        0.73939394]),\n",
       " 'mean_test_score': array([0.76115371, 0.70146404, 0.83956919, 0.70751004, 0.85043812,\n",
       "        0.70751734]),\n",
       " 'std_test_score': array([0.02264219, 0.03501646, 0.03084424, 0.03309493, 0.03050247,\n",
       "        0.03465166]),\n",
       " 'rank_test_score': array([3, 6, 2, 5, 1, 4])}"
      ]
     },
     "execution_count": 149,
     "metadata": {},
     "output_type": "execute_result"
    }
   ],
   "source": [
    "from sklearn.svm import SVC\n",
    "svm_clf = GridSearchCV(SVC(), {'C': [1,10,20], 'kernel': ['rbf','linear']}, cv=10, return_train_score=False)\n",
    "svm_clf.fit(X, y)\n",
    "svm_clf.cv_results_"
   ]
  },
  {
   "cell_type": "code",
   "execution_count": 150,
   "metadata": {},
   "outputs": [
    {
     "data": {
      "text/html": [
       "<div>\n",
       "<style scoped>\n",
       "    .dataframe tbody tr th:only-of-type {\n",
       "        vertical-align: middle;\n",
       "    }\n",
       "\n",
       "    .dataframe tbody tr th {\n",
       "        vertical-align: top;\n",
       "    }\n",
       "\n",
       "    .dataframe thead th {\n",
       "        text-align: right;\n",
       "    }\n",
       "</style>\n",
       "<table border=\"1\" class=\"dataframe\">\n",
       "  <thead>\n",
       "    <tr style=\"text-align: right;\">\n",
       "      <th></th>\n",
       "      <th>param_C</th>\n",
       "      <th>param_kernel</th>\n",
       "      <th>mean_test_score</th>\n",
       "    </tr>\n",
       "  </thead>\n",
       "  <tbody>\n",
       "    <tr>\n",
       "      <th>0</th>\n",
       "      <td>1</td>\n",
       "      <td>rbf</td>\n",
       "      <td>0.761154</td>\n",
       "    </tr>\n",
       "    <tr>\n",
       "      <th>1</th>\n",
       "      <td>1</td>\n",
       "      <td>linear</td>\n",
       "      <td>0.701464</td>\n",
       "    </tr>\n",
       "    <tr>\n",
       "      <th>2</th>\n",
       "      <td>10</td>\n",
       "      <td>rbf</td>\n",
       "      <td>0.839569</td>\n",
       "    </tr>\n",
       "    <tr>\n",
       "      <th>3</th>\n",
       "      <td>10</td>\n",
       "      <td>linear</td>\n",
       "      <td>0.707510</td>\n",
       "    </tr>\n",
       "    <tr>\n",
       "      <th>4</th>\n",
       "      <td>20</td>\n",
       "      <td>rbf</td>\n",
       "      <td>0.850438</td>\n",
       "    </tr>\n",
       "    <tr>\n",
       "      <th>5</th>\n",
       "      <td>20</td>\n",
       "      <td>linear</td>\n",
       "      <td>0.707517</td>\n",
       "    </tr>\n",
       "  </tbody>\n",
       "</table>\n",
       "</div>"
      ],
      "text/plain": [
       "  param_C param_kernel  mean_test_score\n",
       "0       1          rbf         0.761154\n",
       "1       1       linear         0.701464\n",
       "2      10          rbf         0.839569\n",
       "3      10       linear         0.707510\n",
       "4      20          rbf         0.850438\n",
       "5      20       linear         0.707517"
      ]
     },
     "execution_count": 150,
     "metadata": {},
     "output_type": "execute_result"
    }
   ],
   "source": [
    "svm_result_df = pd.DataFrame(svm_clf.cv_results_)\n",
    "svm_result_df[['param_C', 'param_kernel', 'mean_test_score']]"
   ]
  },
  {
   "cell_type": "code",
   "execution_count": 151,
   "metadata": {},
   "outputs": [
    {
     "data": {
      "text/plain": [
       "0.8975903614457831"
      ]
     },
     "execution_count": 151,
     "metadata": {},
     "output_type": "execute_result"
    }
   ],
   "source": [
    "svm_clf.score(X_test,y_test)"
   ]
  },
  {
   "cell_type": "markdown",
   "metadata": {},
   "source": [
    "##### Naive Bayes"
   ]
  },
  {
   "cell_type": "code",
   "execution_count": 91,
   "metadata": {},
   "outputs": [
    {
     "data": {
      "text/plain": [
       "{'mean_fit_time': array([0.00831811]),\n",
       " 'std_fit_time': array([0.00530767]),\n",
       " 'mean_score_time': array([0.00523355]),\n",
       " 'std_score_time': array([0.00441597]),\n",
       " 'params': [{}],\n",
       " 'split0_test_score': array([0.61445783]),\n",
       " 'split1_test_score': array([0.57228916]),\n",
       " 'split2_test_score': array([0.62048193]),\n",
       " 'split3_test_score': array([0.63855422]),\n",
       " 'split4_test_score': array([0.59638554]),\n",
       " 'split5_test_score': array([0.58433735]),\n",
       " 'split6_test_score': array([0.59638554]),\n",
       " 'split7_test_score': array([0.57228916]),\n",
       " 'split8_test_score': array([0.61212121]),\n",
       " 'split9_test_score': array([0.63030303]),\n",
       " 'mean_test_score': array([0.6037605]),\n",
       " 'std_test_score': array([0.02201358]),\n",
       " 'rank_test_score': array([1])}"
      ]
     },
     "execution_count": 91,
     "metadata": {},
     "output_type": "execute_result"
    }
   ],
   "source": [
    "from sklearn.naive_bayes import GaussianNB\n",
    "nb_clf = GridSearchCV(GaussianNB(),{}, cv=10, return_train_score=False)\n",
    "nb_clf.fit(X, y)\n",
    "nb_clf.cv_results_"
   ]
  },
  {
   "cell_type": "code",
   "execution_count": 92,
   "metadata": {},
   "outputs": [
    {
     "data": {
      "text/html": [
       "<div>\n",
       "<style scoped>\n",
       "    .dataframe tbody tr th:only-of-type {\n",
       "        vertical-align: middle;\n",
       "    }\n",
       "\n",
       "    .dataframe tbody tr th {\n",
       "        vertical-align: top;\n",
       "    }\n",
       "\n",
       "    .dataframe thead th {\n",
       "        text-align: right;\n",
       "    }\n",
       "</style>\n",
       "<table border=\"1\" class=\"dataframe\">\n",
       "  <thead>\n",
       "    <tr style=\"text-align: right;\">\n",
       "      <th></th>\n",
       "      <th>mean_test_score</th>\n",
       "    </tr>\n",
       "  </thead>\n",
       "  <tbody>\n",
       "    <tr>\n",
       "      <th>0</th>\n",
       "      <td>0.60376</td>\n",
       "    </tr>\n",
       "  </tbody>\n",
       "</table>\n",
       "</div>"
      ],
      "text/plain": [
       "   mean_test_score\n",
       "0          0.60376"
      ]
     },
     "execution_count": 92,
     "metadata": {},
     "output_type": "execute_result"
    }
   ],
   "source": [
    "nb_result_df = pd.DataFrame(nb_clf.cv_results_)\n",
    "nb_result_df[['mean_test_score']]"
   ]
  },
  {
   "cell_type": "code",
   "execution_count": 147,
   "metadata": {},
   "outputs": [
    {
     "data": {
      "text/plain": [
       "0.6596385542168675"
      ]
     },
     "execution_count": 147,
     "metadata": {},
     "output_type": "execute_result"
    }
   ],
   "source": [
    "nb_clf.score(X_test,y_test)"
   ]
  },
  {
   "cell_type": "markdown",
   "metadata": {},
   "source": [
    "###### By using the different machine learning algorithms we can say that Decision Tree & Random Forest are giving better results."
   ]
  },
  {
   "cell_type": "markdown",
   "metadata": {},
   "source": [
    "##### Using the Test Data for prediction"
   ]
  },
  {
   "cell_type": "code",
   "execution_count": 93,
   "metadata": {},
   "outputs": [
    {
     "data": {
      "text/html": [
       "<div>\n",
       "<style scoped>\n",
       "    .dataframe tbody tr th:only-of-type {\n",
       "        vertical-align: middle;\n",
       "    }\n",
       "\n",
       "    .dataframe tbody tr th {\n",
       "        vertical-align: top;\n",
       "    }\n",
       "\n",
       "    .dataframe thead th {\n",
       "        text-align: right;\n",
       "    }\n",
       "</style>\n",
       "<table border=\"1\" class=\"dataframe\">\n",
       "  <thead>\n",
       "    <tr style=\"text-align: right;\">\n",
       "      <th></th>\n",
       "      <th>record_id</th>\n",
       "      <th>clientid_cr</th>\n",
       "      <th>clmbuserid_cr</th>\n",
       "      <th>conversiontime_cr</th>\n",
       "      <th>imprid_cr</th>\n",
       "      <th>adslotdimid_cr</th>\n",
       "      <th>algo_cr</th>\n",
       "      <th>audiences_cr</th>\n",
       "      <th>clickbid_cr</th>\n",
       "      <th>geodimid_cr</th>\n",
       "      <th>...</th>\n",
       "      <th>usrClusterId_cr</th>\n",
       "      <th>cityGrpDimId_cr</th>\n",
       "      <th>siteClusterIds_cr</th>\n",
       "      <th>refClusterId_cr</th>\n",
       "      <th>paid_cr</th>\n",
       "      <th>spend_cr</th>\n",
       "      <th>attributionType_cr</th>\n",
       "      <th>conversionid_cr</th>\n",
       "      <th>optimize_on_cr</th>\n",
       "      <th>bundleId_cr</th>\n",
       "    </tr>\n",
       "  </thead>\n",
       "  <tbody>\n",
       "    <tr>\n",
       "      <th>0</th>\n",
       "      <td>1000</td>\n",
       "      <td>82122</td>\n",
       "      <td>1045e8b8-662e-49b3-bc4a-4af5326c8236-62kw</td>\n",
       "      <td>1620000000000</td>\n",
       "      <td>864cdaf0-cca7-4bcc-b210-a33858cf8755-1siz8</td>\n",
       "      <td>233531</td>\n",
       "      <td>38</td>\n",
       "      <td>NaN</td>\n",
       "      <td>NaN</td>\n",
       "      <td>145</td>\n",
       "      <td>...</td>\n",
       "      <td>NaN</td>\n",
       "      <td>NaN</td>\n",
       "      <td>3.337341e+17</td>\n",
       "      <td>NaN</td>\n",
       "      <td>NaN</td>\n",
       "      <td>NaN</td>\n",
       "      <td>NaN</td>\n",
       "      <td>NaN</td>\n",
       "      <td>NaN</td>\n",
       "      <td>NaN</td>\n",
       "    </tr>\n",
       "    <tr>\n",
       "      <th>1</th>\n",
       "      <td>1001</td>\n",
       "      <td>75694</td>\n",
       "      <td>53a9a707-967d-4a67-8e9f-e3dd55b464e8-10wm0</td>\n",
       "      <td>1620000000000</td>\n",
       "      <td>6c44c171-9445-4e6b-856e-89bfcd0be22c-1sito</td>\n",
       "      <td>356952</td>\n",
       "      <td>20</td>\n",
       "      <td>NaN</td>\n",
       "      <td>3.1</td>\n",
       "      <td>144</td>\n",
       "      <td>...</td>\n",
       "      <td>NaN</td>\n",
       "      <td>348006.0</td>\n",
       "      <td>NaN</td>\n",
       "      <td>NaN</td>\n",
       "      <td>NaN</td>\n",
       "      <td>NaN</td>\n",
       "      <td>NaN</td>\n",
       "      <td>NaN</td>\n",
       "      <td>NaN</td>\n",
       "      <td>NaN</td>\n",
       "    </tr>\n",
       "    <tr>\n",
       "      <th>2</th>\n",
       "      <td>1002</td>\n",
       "      <td>75694</td>\n",
       "      <td>53a9a707-967d-4a67-8e9f-e3dd55b464e8-10wm0</td>\n",
       "      <td>1620000000000</td>\n",
       "      <td>c00eae97-46c5-48b8-89bf-9d45628b9de3-1siz8</td>\n",
       "      <td>356952</td>\n",
       "      <td>18</td>\n",
       "      <td>NaN</td>\n",
       "      <td>3.1</td>\n",
       "      <td>144</td>\n",
       "      <td>...</td>\n",
       "      <td>NaN</td>\n",
       "      <td>348006.0</td>\n",
       "      <td>NaN</td>\n",
       "      <td>NaN</td>\n",
       "      <td>NaN</td>\n",
       "      <td>NaN</td>\n",
       "      <td>NaN</td>\n",
       "      <td>NaN</td>\n",
       "      <td>NaN</td>\n",
       "      <td>NaN</td>\n",
       "    </tr>\n",
       "    <tr>\n",
       "      <th>3</th>\n",
       "      <td>1003</td>\n",
       "      <td>30431</td>\n",
       "      <td>5febd7e2-b66a-4af0-91ec-117557684188-10wrk</td>\n",
       "      <td>1620000000000</td>\n",
       "      <td>40aad66c-d2da-4635-8b5e-46aca58d2dc6-10o78</td>\n",
       "      <td>355768</td>\n",
       "      <td>21</td>\n",
       "      <td>NaN</td>\n",
       "      <td>NaN</td>\n",
       "      <td>144</td>\n",
       "      <td>...</td>\n",
       "      <td>NaN</td>\n",
       "      <td>348010.0</td>\n",
       "      <td>NaN</td>\n",
       "      <td>NaN</td>\n",
       "      <td>1.0</td>\n",
       "      <td>275.0</td>\n",
       "      <td>1.0</td>\n",
       "      <td>NaN</td>\n",
       "      <td>NaN</td>\n",
       "      <td>NaN</td>\n",
       "    </tr>\n",
       "    <tr>\n",
       "      <th>4</th>\n",
       "      <td>1004</td>\n",
       "      <td>30431</td>\n",
       "      <td>5febd7e2-b66a-4af0-91ec-117557684188-10wrk</td>\n",
       "      <td>1620000000000</td>\n",
       "      <td>4742d072-32ed-45bc-9ca9-5dca4a69f5b1-10onw</td>\n",
       "      <td>355768</td>\n",
       "      <td>21</td>\n",
       "      <td>NaN</td>\n",
       "      <td>NaN</td>\n",
       "      <td>144</td>\n",
       "      <td>...</td>\n",
       "      <td>NaN</td>\n",
       "      <td>348010.0</td>\n",
       "      <td>NaN</td>\n",
       "      <td>NaN</td>\n",
       "      <td>1.0</td>\n",
       "      <td>275.0</td>\n",
       "      <td>1.0</td>\n",
       "      <td>NaN</td>\n",
       "      <td>NaN</td>\n",
       "      <td>NaN</td>\n",
       "    </tr>\n",
       "  </tbody>\n",
       "</table>\n",
       "<p>5 rows × 56 columns</p>\n",
       "</div>"
      ],
      "text/plain": [
       "   record_id  clientid_cr                               clmbuserid_cr  \\\n",
       "0       1000        82122   1045e8b8-662e-49b3-bc4a-4af5326c8236-62kw   \n",
       "1       1001        75694  53a9a707-967d-4a67-8e9f-e3dd55b464e8-10wm0   \n",
       "2       1002        75694  53a9a707-967d-4a67-8e9f-e3dd55b464e8-10wm0   \n",
       "3       1003        30431  5febd7e2-b66a-4af0-91ec-117557684188-10wrk   \n",
       "4       1004        30431  5febd7e2-b66a-4af0-91ec-117557684188-10wrk   \n",
       "\n",
       "   conversiontime_cr                                   imprid_cr  \\\n",
       "0      1620000000000  864cdaf0-cca7-4bcc-b210-a33858cf8755-1siz8   \n",
       "1      1620000000000  6c44c171-9445-4e6b-856e-89bfcd0be22c-1sito   \n",
       "2      1620000000000  c00eae97-46c5-48b8-89bf-9d45628b9de3-1siz8   \n",
       "3      1620000000000  40aad66c-d2da-4635-8b5e-46aca58d2dc6-10o78   \n",
       "4      1620000000000  4742d072-32ed-45bc-9ca9-5dca4a69f5b1-10onw   \n",
       "\n",
       "   adslotdimid_cr  algo_cr audiences_cr  clickbid_cr  geodimid_cr  ...  \\\n",
       "0          233531       38          NaN          NaN          145  ...   \n",
       "1          356952       20          NaN          3.1          144  ...   \n",
       "2          356952       18          NaN          3.1          144  ...   \n",
       "3          355768       21          NaN          NaN          144  ...   \n",
       "4          355768       21          NaN          NaN          144  ...   \n",
       "\n",
       "  usrClusterId_cr  cityGrpDimId_cr  siteClusterIds_cr  refClusterId_cr  \\\n",
       "0             NaN              NaN       3.337341e+17              NaN   \n",
       "1             NaN         348006.0                NaN              NaN   \n",
       "2             NaN         348006.0                NaN              NaN   \n",
       "3             NaN         348010.0                NaN              NaN   \n",
       "4             NaN         348010.0                NaN              NaN   \n",
       "\n",
       "   paid_cr spend_cr  attributionType_cr  conversionid_cr  optimize_on_cr  \\\n",
       "0      NaN      NaN                 NaN              NaN             NaN   \n",
       "1      NaN      NaN                 NaN              NaN             NaN   \n",
       "2      NaN      NaN                 NaN              NaN             NaN   \n",
       "3      1.0    275.0                 1.0              NaN             NaN   \n",
       "4      1.0    275.0                 1.0              NaN             NaN   \n",
       "\n",
       "   bundleId_cr  \n",
       "0          NaN  \n",
       "1          NaN  \n",
       "2          NaN  \n",
       "3          NaN  \n",
       "4          NaN  \n",
       "\n",
       "[5 rows x 56 columns]"
      ]
     },
     "execution_count": 93,
     "metadata": {},
     "output_type": "execute_result"
    }
   ],
   "source": [
    "test_df.head()"
   ]
  },
  {
   "cell_type": "code",
   "execution_count": 94,
   "metadata": {},
   "outputs": [],
   "source": [
    "test_record_id = test_df['record_id']"
   ]
  },
  {
   "cell_type": "code",
   "execution_count": 97,
   "metadata": {},
   "outputs": [],
   "source": [
    "cols_needed = list(X.columns)"
   ]
  },
  {
   "cell_type": "code",
   "execution_count": 99,
   "metadata": {},
   "outputs": [
    {
     "data": {
      "text/plain": [
       "['clientid_cr',\n",
       " 'conversiontime_cr',\n",
       " 'adslotdimid_cr',\n",
       " 'algo_cr',\n",
       " 'clickbid_cr',\n",
       " 'geodimid_cr',\n",
       " 'itemcolumbiaid_cr',\n",
       " 'itemid_cr',\n",
       " 'position_cr',\n",
       " 'pubclientid_cr',\n",
       " 'siteId_cr',\n",
       " 'templateid_cr',\n",
       " 'goalid_cr',\n",
       " 'time_cr',\n",
       " 'adLogType_cr',\n",
       " 'v_cr',\n",
       " 'pricingtype_cr',\n",
       " 'osId_cr',\n",
       " 'browserId_cr',\n",
       " 'cityId_cr',\n",
       " 'stateId_cr',\n",
       " 'modelDimId_cr',\n",
       " 'connTypeDimId_cr',\n",
       " 'ispDimId_cr',\n",
       " 'countryDimId_cr',\n",
       " 'goalTypeId_cr',\n",
       " 'conversionDurationInMillis_cr',\n",
       " 'impressionTimeInMillis_cr',\n",
       " 'osVerDimId_cr',\n",
       " 'uuidSource_cr',\n",
       " 'stateGrpDimId_cr',\n",
       " 'cityGrpDimId_cr']"
      ]
     },
     "execution_count": 99,
     "metadata": {},
     "output_type": "execute_result"
    }
   ],
   "source": [
    "cols_needed"
   ]
  },
  {
   "cell_type": "code",
   "execution_count": 100,
   "metadata": {},
   "outputs": [],
   "source": [
    "test_df_1 = test_df[cols_needed]"
   ]
  },
  {
   "cell_type": "code",
   "execution_count": 101,
   "metadata": {},
   "outputs": [
    {
     "data": {
      "text/html": [
       "<div>\n",
       "<style scoped>\n",
       "    .dataframe tbody tr th:only-of-type {\n",
       "        vertical-align: middle;\n",
       "    }\n",
       "\n",
       "    .dataframe tbody tr th {\n",
       "        vertical-align: top;\n",
       "    }\n",
       "\n",
       "    .dataframe thead th {\n",
       "        text-align: right;\n",
       "    }\n",
       "</style>\n",
       "<table border=\"1\" class=\"dataframe\">\n",
       "  <thead>\n",
       "    <tr style=\"text-align: right;\">\n",
       "      <th></th>\n",
       "      <th>clientid_cr</th>\n",
       "      <th>conversiontime_cr</th>\n",
       "      <th>adslotdimid_cr</th>\n",
       "      <th>algo_cr</th>\n",
       "      <th>clickbid_cr</th>\n",
       "      <th>geodimid_cr</th>\n",
       "      <th>itemcolumbiaid_cr</th>\n",
       "      <th>itemid_cr</th>\n",
       "      <th>position_cr</th>\n",
       "      <th>pubclientid_cr</th>\n",
       "      <th>...</th>\n",
       "      <th>connTypeDimId_cr</th>\n",
       "      <th>ispDimId_cr</th>\n",
       "      <th>countryDimId_cr</th>\n",
       "      <th>goalTypeId_cr</th>\n",
       "      <th>conversionDurationInMillis_cr</th>\n",
       "      <th>impressionTimeInMillis_cr</th>\n",
       "      <th>osVerDimId_cr</th>\n",
       "      <th>uuidSource_cr</th>\n",
       "      <th>stateGrpDimId_cr</th>\n",
       "      <th>cityGrpDimId_cr</th>\n",
       "    </tr>\n",
       "  </thead>\n",
       "  <tbody>\n",
       "    <tr>\n",
       "      <th>0</th>\n",
       "      <td>82122</td>\n",
       "      <td>1620000000000</td>\n",
       "      <td>233531</td>\n",
       "      <td>38</td>\n",
       "      <td>NaN</td>\n",
       "      <td>145</td>\n",
       "      <td>5526656</td>\n",
       "      <td>53184285</td>\n",
       "      <td>3</td>\n",
       "      <td>2658</td>\n",
       "      <td>...</td>\n",
       "      <td>264494</td>\n",
       "      <td>265618</td>\n",
       "      <td>145</td>\n",
       "      <td>10</td>\n",
       "      <td>369206</td>\n",
       "      <td>1620000000000</td>\n",
       "      <td>0</td>\n",
       "      <td>1</td>\n",
       "      <td>NaN</td>\n",
       "      <td>NaN</td>\n",
       "    </tr>\n",
       "    <tr>\n",
       "      <th>1</th>\n",
       "      <td>75694</td>\n",
       "      <td>1620000000000</td>\n",
       "      <td>356952</td>\n",
       "      <td>20</td>\n",
       "      <td>3.1</td>\n",
       "      <td>144</td>\n",
       "      <td>5488773</td>\n",
       "      <td>49504162</td>\n",
       "      <td>1</td>\n",
       "      <td>85030</td>\n",
       "      <td>...</td>\n",
       "      <td>264496</td>\n",
       "      <td>280429</td>\n",
       "      <td>144</td>\n",
       "      <td>10</td>\n",
       "      <td>2298</td>\n",
       "      <td>1620000000000</td>\n",
       "      <td>199414</td>\n",
       "      <td>1</td>\n",
       "      <td>348020.0</td>\n",
       "      <td>348006.0</td>\n",
       "    </tr>\n",
       "    <tr>\n",
       "      <th>2</th>\n",
       "      <td>75694</td>\n",
       "      <td>1620000000000</td>\n",
       "      <td>356952</td>\n",
       "      <td>18</td>\n",
       "      <td>3.1</td>\n",
       "      <td>144</td>\n",
       "      <td>5488088</td>\n",
       "      <td>49504161</td>\n",
       "      <td>1</td>\n",
       "      <td>85030</td>\n",
       "      <td>...</td>\n",
       "      <td>264496</td>\n",
       "      <td>280429</td>\n",
       "      <td>144</td>\n",
       "      <td>10</td>\n",
       "      <td>5713</td>\n",
       "      <td>1620000000000</td>\n",
       "      <td>199414</td>\n",
       "      <td>1</td>\n",
       "      <td>348020.0</td>\n",
       "      <td>348006.0</td>\n",
       "    </tr>\n",
       "    <tr>\n",
       "      <th>3</th>\n",
       "      <td>30431</td>\n",
       "      <td>1620000000000</td>\n",
       "      <td>355768</td>\n",
       "      <td>21</td>\n",
       "      <td>NaN</td>\n",
       "      <td>144</td>\n",
       "      <td>5614054</td>\n",
       "      <td>53607445</td>\n",
       "      <td>1</td>\n",
       "      <td>1</td>\n",
       "      <td>...</td>\n",
       "      <td>264496</td>\n",
       "      <td>280429</td>\n",
       "      <td>144</td>\n",
       "      <td>10</td>\n",
       "      <td>66670</td>\n",
       "      <td>1620000000000</td>\n",
       "      <td>360833</td>\n",
       "      <td>1</td>\n",
       "      <td>348025.0</td>\n",
       "      <td>348010.0</td>\n",
       "    </tr>\n",
       "    <tr>\n",
       "      <th>4</th>\n",
       "      <td>30431</td>\n",
       "      <td>1620000000000</td>\n",
       "      <td>355768</td>\n",
       "      <td>21</td>\n",
       "      <td>NaN</td>\n",
       "      <td>144</td>\n",
       "      <td>5614054</td>\n",
       "      <td>53607445</td>\n",
       "      <td>1</td>\n",
       "      <td>1</td>\n",
       "      <td>...</td>\n",
       "      <td>264496</td>\n",
       "      <td>280429</td>\n",
       "      <td>144</td>\n",
       "      <td>10</td>\n",
       "      <td>53789</td>\n",
       "      <td>1620000000000</td>\n",
       "      <td>360833</td>\n",
       "      <td>1</td>\n",
       "      <td>348025.0</td>\n",
       "      <td>348010.0</td>\n",
       "    </tr>\n",
       "  </tbody>\n",
       "</table>\n",
       "<p>5 rows × 32 columns</p>\n",
       "</div>"
      ],
      "text/plain": [
       "   clientid_cr  conversiontime_cr  adslotdimid_cr  algo_cr  clickbid_cr  \\\n",
       "0        82122      1620000000000          233531       38          NaN   \n",
       "1        75694      1620000000000          356952       20          3.1   \n",
       "2        75694      1620000000000          356952       18          3.1   \n",
       "3        30431      1620000000000          355768       21          NaN   \n",
       "4        30431      1620000000000          355768       21          NaN   \n",
       "\n",
       "   geodimid_cr  itemcolumbiaid_cr  itemid_cr  position_cr  pubclientid_cr  \\\n",
       "0          145            5526656   53184285            3            2658   \n",
       "1          144            5488773   49504162            1           85030   \n",
       "2          144            5488088   49504161            1           85030   \n",
       "3          144            5614054   53607445            1               1   \n",
       "4          144            5614054   53607445            1               1   \n",
       "\n",
       "   ...  connTypeDimId_cr  ispDimId_cr  countryDimId_cr  goalTypeId_cr  \\\n",
       "0  ...            264494       265618              145             10   \n",
       "1  ...            264496       280429              144             10   \n",
       "2  ...            264496       280429              144             10   \n",
       "3  ...            264496       280429              144             10   \n",
       "4  ...            264496       280429              144             10   \n",
       "\n",
       "   conversionDurationInMillis_cr  impressionTimeInMillis_cr  osVerDimId_cr  \\\n",
       "0                         369206              1620000000000              0   \n",
       "1                           2298              1620000000000         199414   \n",
       "2                           5713              1620000000000         199414   \n",
       "3                          66670              1620000000000         360833   \n",
       "4                          53789              1620000000000         360833   \n",
       "\n",
       "   uuidSource_cr  stateGrpDimId_cr  cityGrpDimId_cr  \n",
       "0              1               NaN              NaN  \n",
       "1              1          348020.0         348006.0  \n",
       "2              1          348020.0         348006.0  \n",
       "3              1          348025.0         348010.0  \n",
       "4              1          348025.0         348010.0  \n",
       "\n",
       "[5 rows x 32 columns]"
      ]
     },
     "execution_count": 101,
     "metadata": {},
     "output_type": "execute_result"
    }
   ],
   "source": [
    "test_df_1.head()"
   ]
  },
  {
   "cell_type": "code",
   "execution_count": 102,
   "metadata": {},
   "outputs": [
    {
     "data": {
      "text/plain": [
       "clientid_cr                       0.000000\n",
       "conversiontime_cr                 0.000000\n",
       "adslotdimid_cr                    0.000000\n",
       "algo_cr                           0.000000\n",
       "clickbid_cr                      32.967033\n",
       "geodimid_cr                       0.000000\n",
       "itemcolumbiaid_cr                 0.000000\n",
       "itemid_cr                         0.000000\n",
       "position_cr                       0.000000\n",
       "pubclientid_cr                    0.000000\n",
       "siteId_cr                         0.000000\n",
       "templateid_cr                     9.010989\n",
       "goalid_cr                         0.000000\n",
       "time_cr                           0.000000\n",
       "adLogType_cr                      0.000000\n",
       "v_cr                              0.000000\n",
       "pricingtype_cr                    0.000000\n",
       "osId_cr                           0.000000\n",
       "browserId_cr                      0.000000\n",
       "cityId_cr                         0.000000\n",
       "stateId_cr                        0.000000\n",
       "modelDimId_cr                     0.000000\n",
       "connTypeDimId_cr                  0.000000\n",
       "ispDimId_cr                       0.000000\n",
       "countryDimId_cr                   0.000000\n",
       "goalTypeId_cr                     0.000000\n",
       "conversionDurationInMillis_cr     0.000000\n",
       "impressionTimeInMillis_cr         0.000000\n",
       "osVerDimId_cr                     0.000000\n",
       "uuidSource_cr                     0.000000\n",
       "stateGrpDimId_cr                  9.230769\n",
       "cityGrpDimId_cr                  33.626374\n",
       "dtype: float64"
      ]
     },
     "execution_count": 102,
     "metadata": {},
     "output_type": "execute_result"
    }
   ],
   "source": [
    "#Filling the missing values in test data using random imputation\n",
    "test_df_1.isnull().mean()*100"
   ]
  },
  {
   "cell_type": "code",
   "execution_count": 103,
   "metadata": {},
   "outputs": [],
   "source": [
    "cols_with_nan = [feature for feature in test_df_1.columns if test_df_1[feature].isnull().sum() != 0]"
   ]
  },
  {
   "cell_type": "code",
   "execution_count": 104,
   "metadata": {},
   "outputs": [
    {
     "data": {
      "text/plain": [
       "['clickbid_cr', 'templateid_cr', 'stateGrpDimId_cr', 'cityGrpDimId_cr']"
      ]
     },
     "execution_count": 104,
     "metadata": {},
     "output_type": "execute_result"
    }
   ],
   "source": [
    "cols_with_nan"
   ]
  },
  {
   "cell_type": "code",
   "execution_count": 105,
   "metadata": {},
   "outputs": [],
   "source": [
    "for feature in cols_with_nan:\n",
    "    impute_nan(test_df_1, feature)"
   ]
  },
  {
   "cell_type": "code",
   "execution_count": 106,
   "metadata": {},
   "outputs": [
    {
     "data": {
      "text/plain": [
       "clientid_cr                      0.0\n",
       "conversiontime_cr                0.0\n",
       "adslotdimid_cr                   0.0\n",
       "algo_cr                          0.0\n",
       "clickbid_cr                      0.0\n",
       "geodimid_cr                      0.0\n",
       "itemcolumbiaid_cr                0.0\n",
       "itemid_cr                        0.0\n",
       "position_cr                      0.0\n",
       "pubclientid_cr                   0.0\n",
       "siteId_cr                        0.0\n",
       "templateid_cr                    0.0\n",
       "goalid_cr                        0.0\n",
       "time_cr                          0.0\n",
       "adLogType_cr                     0.0\n",
       "v_cr                             0.0\n",
       "pricingtype_cr                   0.0\n",
       "osId_cr                          0.0\n",
       "browserId_cr                     0.0\n",
       "cityId_cr                        0.0\n",
       "stateId_cr                       0.0\n",
       "modelDimId_cr                    0.0\n",
       "connTypeDimId_cr                 0.0\n",
       "ispDimId_cr                      0.0\n",
       "countryDimId_cr                  0.0\n",
       "goalTypeId_cr                    0.0\n",
       "conversionDurationInMillis_cr    0.0\n",
       "impressionTimeInMillis_cr        0.0\n",
       "osVerDimId_cr                    0.0\n",
       "uuidSource_cr                    0.0\n",
       "stateGrpDimId_cr                 0.0\n",
       "cityGrpDimId_cr                  0.0\n",
       "dtype: float64"
      ]
     },
     "execution_count": 106,
     "metadata": {},
     "output_type": "execute_result"
    }
   ],
   "source": [
    "test_df_1.isnull().mean()*100"
   ]
  },
  {
   "cell_type": "code",
   "execution_count": 107,
   "metadata": {},
   "outputs": [
    {
     "data": {
      "text/html": [
       "<div>\n",
       "<style scoped>\n",
       "    .dataframe tbody tr th:only-of-type {\n",
       "        vertical-align: middle;\n",
       "    }\n",
       "\n",
       "    .dataframe tbody tr th {\n",
       "        vertical-align: top;\n",
       "    }\n",
       "\n",
       "    .dataframe thead th {\n",
       "        text-align: right;\n",
       "    }\n",
       "</style>\n",
       "<table border=\"1\" class=\"dataframe\">\n",
       "  <thead>\n",
       "    <tr style=\"text-align: right;\">\n",
       "      <th></th>\n",
       "      <th>clientid_cr</th>\n",
       "      <th>conversiontime_cr</th>\n",
       "      <th>adslotdimid_cr</th>\n",
       "      <th>algo_cr</th>\n",
       "      <th>clickbid_cr</th>\n",
       "      <th>geodimid_cr</th>\n",
       "      <th>itemcolumbiaid_cr</th>\n",
       "      <th>itemid_cr</th>\n",
       "      <th>position_cr</th>\n",
       "      <th>pubclientid_cr</th>\n",
       "      <th>...</th>\n",
       "      <th>connTypeDimId_cr</th>\n",
       "      <th>ispDimId_cr</th>\n",
       "      <th>countryDimId_cr</th>\n",
       "      <th>goalTypeId_cr</th>\n",
       "      <th>conversionDurationInMillis_cr</th>\n",
       "      <th>impressionTimeInMillis_cr</th>\n",
       "      <th>osVerDimId_cr</th>\n",
       "      <th>uuidSource_cr</th>\n",
       "      <th>stateGrpDimId_cr</th>\n",
       "      <th>cityGrpDimId_cr</th>\n",
       "    </tr>\n",
       "  </thead>\n",
       "  <tbody>\n",
       "    <tr>\n",
       "      <th>0</th>\n",
       "      <td>82122</td>\n",
       "      <td>1620000000000</td>\n",
       "      <td>233531</td>\n",
       "      <td>38</td>\n",
       "      <td>0.90</td>\n",
       "      <td>145</td>\n",
       "      <td>5526656</td>\n",
       "      <td>53184285</td>\n",
       "      <td>3</td>\n",
       "      <td>2658</td>\n",
       "      <td>...</td>\n",
       "      <td>264494</td>\n",
       "      <td>265618</td>\n",
       "      <td>145</td>\n",
       "      <td>10</td>\n",
       "      <td>369206</td>\n",
       "      <td>1620000000000</td>\n",
       "      <td>0</td>\n",
       "      <td>1</td>\n",
       "      <td>348023.0</td>\n",
       "      <td>348008.0</td>\n",
       "    </tr>\n",
       "    <tr>\n",
       "      <th>1</th>\n",
       "      <td>75694</td>\n",
       "      <td>1620000000000</td>\n",
       "      <td>356952</td>\n",
       "      <td>20</td>\n",
       "      <td>3.10</td>\n",
       "      <td>144</td>\n",
       "      <td>5488773</td>\n",
       "      <td>49504162</td>\n",
       "      <td>1</td>\n",
       "      <td>85030</td>\n",
       "      <td>...</td>\n",
       "      <td>264496</td>\n",
       "      <td>280429</td>\n",
       "      <td>144</td>\n",
       "      <td>10</td>\n",
       "      <td>2298</td>\n",
       "      <td>1620000000000</td>\n",
       "      <td>199414</td>\n",
       "      <td>1</td>\n",
       "      <td>348020.0</td>\n",
       "      <td>348006.0</td>\n",
       "    </tr>\n",
       "    <tr>\n",
       "      <th>2</th>\n",
       "      <td>75694</td>\n",
       "      <td>1620000000000</td>\n",
       "      <td>356952</td>\n",
       "      <td>18</td>\n",
       "      <td>3.10</td>\n",
       "      <td>144</td>\n",
       "      <td>5488088</td>\n",
       "      <td>49504161</td>\n",
       "      <td>1</td>\n",
       "      <td>85030</td>\n",
       "      <td>...</td>\n",
       "      <td>264496</td>\n",
       "      <td>280429</td>\n",
       "      <td>144</td>\n",
       "      <td>10</td>\n",
       "      <td>5713</td>\n",
       "      <td>1620000000000</td>\n",
       "      <td>199414</td>\n",
       "      <td>1</td>\n",
       "      <td>348020.0</td>\n",
       "      <td>348006.0</td>\n",
       "    </tr>\n",
       "    <tr>\n",
       "      <th>3</th>\n",
       "      <td>30431</td>\n",
       "      <td>1620000000000</td>\n",
       "      <td>355768</td>\n",
       "      <td>21</td>\n",
       "      <td>1.50</td>\n",
       "      <td>144</td>\n",
       "      <td>5614054</td>\n",
       "      <td>53607445</td>\n",
       "      <td>1</td>\n",
       "      <td>1</td>\n",
       "      <td>...</td>\n",
       "      <td>264496</td>\n",
       "      <td>280429</td>\n",
       "      <td>144</td>\n",
       "      <td>10</td>\n",
       "      <td>66670</td>\n",
       "      <td>1620000000000</td>\n",
       "      <td>360833</td>\n",
       "      <td>1</td>\n",
       "      <td>348025.0</td>\n",
       "      <td>348010.0</td>\n",
       "    </tr>\n",
       "    <tr>\n",
       "      <th>4</th>\n",
       "      <td>30431</td>\n",
       "      <td>1620000000000</td>\n",
       "      <td>355768</td>\n",
       "      <td>21</td>\n",
       "      <td>2.79</td>\n",
       "      <td>144</td>\n",
       "      <td>5614054</td>\n",
       "      <td>53607445</td>\n",
       "      <td>1</td>\n",
       "      <td>1</td>\n",
       "      <td>...</td>\n",
       "      <td>264496</td>\n",
       "      <td>280429</td>\n",
       "      <td>144</td>\n",
       "      <td>10</td>\n",
       "      <td>53789</td>\n",
       "      <td>1620000000000</td>\n",
       "      <td>360833</td>\n",
       "      <td>1</td>\n",
       "      <td>348025.0</td>\n",
       "      <td>348010.0</td>\n",
       "    </tr>\n",
       "  </tbody>\n",
       "</table>\n",
       "<p>5 rows × 32 columns</p>\n",
       "</div>"
      ],
      "text/plain": [
       "   clientid_cr  conversiontime_cr  adslotdimid_cr  algo_cr  clickbid_cr  \\\n",
       "0        82122      1620000000000          233531       38         0.90   \n",
       "1        75694      1620000000000          356952       20         3.10   \n",
       "2        75694      1620000000000          356952       18         3.10   \n",
       "3        30431      1620000000000          355768       21         1.50   \n",
       "4        30431      1620000000000          355768       21         2.79   \n",
       "\n",
       "   geodimid_cr  itemcolumbiaid_cr  itemid_cr  position_cr  pubclientid_cr  \\\n",
       "0          145            5526656   53184285            3            2658   \n",
       "1          144            5488773   49504162            1           85030   \n",
       "2          144            5488088   49504161            1           85030   \n",
       "3          144            5614054   53607445            1               1   \n",
       "4          144            5614054   53607445            1               1   \n",
       "\n",
       "   ...  connTypeDimId_cr  ispDimId_cr  countryDimId_cr  goalTypeId_cr  \\\n",
       "0  ...            264494       265618              145             10   \n",
       "1  ...            264496       280429              144             10   \n",
       "2  ...            264496       280429              144             10   \n",
       "3  ...            264496       280429              144             10   \n",
       "4  ...            264496       280429              144             10   \n",
       "\n",
       "   conversionDurationInMillis_cr  impressionTimeInMillis_cr  osVerDimId_cr  \\\n",
       "0                         369206              1620000000000              0   \n",
       "1                           2298              1620000000000         199414   \n",
       "2                           5713              1620000000000         199414   \n",
       "3                          66670              1620000000000         360833   \n",
       "4                          53789              1620000000000         360833   \n",
       "\n",
       "   uuidSource_cr  stateGrpDimId_cr  cityGrpDimId_cr  \n",
       "0              1          348023.0         348008.0  \n",
       "1              1          348020.0         348006.0  \n",
       "2              1          348020.0         348006.0  \n",
       "3              1          348025.0         348010.0  \n",
       "4              1          348025.0         348010.0  \n",
       "\n",
       "[5 rows x 32 columns]"
      ]
     },
     "execution_count": 107,
     "metadata": {},
     "output_type": "execute_result"
    }
   ],
   "source": [
    "test_df_1.head()"
   ]
  },
  {
   "cell_type": "code",
   "execution_count": 108,
   "metadata": {},
   "outputs": [],
   "source": [
    "# Feature Scaling\n",
    "cols_to_scale = [feature for feature in test_df_1.columns]\n",
    "\n",
    "from sklearn.preprocessing import MinMaxScaler\n",
    "scaler = MinMaxScaler()\n",
    "test_df_1[cols_to_scale] = scaler.fit_transform(test_df_1[cols_to_scale])"
   ]
  },
  {
   "cell_type": "code",
   "execution_count": 109,
   "metadata": {},
   "outputs": [
    {
     "data": {
      "text/html": [
       "<div>\n",
       "<style scoped>\n",
       "    .dataframe tbody tr th:only-of-type {\n",
       "        vertical-align: middle;\n",
       "    }\n",
       "\n",
       "    .dataframe tbody tr th {\n",
       "        vertical-align: top;\n",
       "    }\n",
       "\n",
       "    .dataframe thead th {\n",
       "        text-align: right;\n",
       "    }\n",
       "</style>\n",
       "<table border=\"1\" class=\"dataframe\">\n",
       "  <thead>\n",
       "    <tr style=\"text-align: right;\">\n",
       "      <th></th>\n",
       "      <th>clientid_cr</th>\n",
       "      <th>conversiontime_cr</th>\n",
       "      <th>adslotdimid_cr</th>\n",
       "      <th>algo_cr</th>\n",
       "      <th>clickbid_cr</th>\n",
       "      <th>geodimid_cr</th>\n",
       "      <th>itemcolumbiaid_cr</th>\n",
       "      <th>itemid_cr</th>\n",
       "      <th>position_cr</th>\n",
       "      <th>pubclientid_cr</th>\n",
       "      <th>...</th>\n",
       "      <th>connTypeDimId_cr</th>\n",
       "      <th>ispDimId_cr</th>\n",
       "      <th>countryDimId_cr</th>\n",
       "      <th>goalTypeId_cr</th>\n",
       "      <th>conversionDurationInMillis_cr</th>\n",
       "      <th>impressionTimeInMillis_cr</th>\n",
       "      <th>osVerDimId_cr</th>\n",
       "      <th>uuidSource_cr</th>\n",
       "      <th>stateGrpDimId_cr</th>\n",
       "      <th>cityGrpDimId_cr</th>\n",
       "    </tr>\n",
       "  </thead>\n",
       "  <tbody>\n",
       "    <tr>\n",
       "      <th>0</th>\n",
       "      <td>0.948582</td>\n",
       "      <td>0.0</td>\n",
       "      <td>0.456536</td>\n",
       "      <td>0.001423</td>\n",
       "      <td>0.000000</td>\n",
       "      <td>0.00346</td>\n",
       "      <td>0.960556</td>\n",
       "      <td>0.960560</td>\n",
       "      <td>1.530677e-08</td>\n",
       "      <td>0.031248</td>\n",
       "      <td>...</td>\n",
       "      <td>0.000000e+00</td>\n",
       "      <td>0.928105</td>\n",
       "      <td>0.00346</td>\n",
       "      <td>0.0</td>\n",
       "      <td>0.000248</td>\n",
       "      <td>1.0</td>\n",
       "      <td>0.000000</td>\n",
       "      <td>0.0</td>\n",
       "      <td>0.428571</td>\n",
       "      <td>0.6</td>\n",
       "    </tr>\n",
       "    <tr>\n",
       "      <th>1</th>\n",
       "      <td>0.873600</td>\n",
       "      <td>0.0</td>\n",
       "      <td>0.996179</td>\n",
       "      <td>0.000731</td>\n",
       "      <td>0.128655</td>\n",
       "      <td>0.00000</td>\n",
       "      <td>0.944654</td>\n",
       "      <td>0.766087</td>\n",
       "      <td>5.102256e-09</td>\n",
       "      <td>1.000000</td>\n",
       "      <td>...</td>\n",
       "      <td>7.561553e-12</td>\n",
       "      <td>0.979856</td>\n",
       "      <td>0.00000</td>\n",
       "      <td>0.0</td>\n",
       "      <td>0.000001</td>\n",
       "      <td>1.0</td>\n",
       "      <td>0.551710</td>\n",
       "      <td>0.0</td>\n",
       "      <td>0.000000</td>\n",
       "      <td>0.2</td>\n",
       "    </tr>\n",
       "    <tr>\n",
       "      <th>2</th>\n",
       "      <td>0.873600</td>\n",
       "      <td>0.0</td>\n",
       "      <td>0.996179</td>\n",
       "      <td>0.000654</td>\n",
       "      <td>0.128655</td>\n",
       "      <td>0.00000</td>\n",
       "      <td>0.944367</td>\n",
       "      <td>0.766087</td>\n",
       "      <td>5.102256e-09</td>\n",
       "      <td>1.000000</td>\n",
       "      <td>...</td>\n",
       "      <td>7.561553e-12</td>\n",
       "      <td>0.979856</td>\n",
       "      <td>0.00000</td>\n",
       "      <td>0.0</td>\n",
       "      <td>0.000003</td>\n",
       "      <td>1.0</td>\n",
       "      <td>0.551710</td>\n",
       "      <td>0.0</td>\n",
       "      <td>0.000000</td>\n",
       "      <td>0.2</td>\n",
       "    </tr>\n",
       "    <tr>\n",
       "      <th>3</th>\n",
       "      <td>0.345616</td>\n",
       "      <td>0.0</td>\n",
       "      <td>0.991002</td>\n",
       "      <td>0.000769</td>\n",
       "      <td>0.035088</td>\n",
       "      <td>0.00000</td>\n",
       "      <td>0.997243</td>\n",
       "      <td>0.982921</td>\n",
       "      <td>5.102256e-09</td>\n",
       "      <td>0.000000</td>\n",
       "      <td>...</td>\n",
       "      <td>7.561553e-12</td>\n",
       "      <td>0.979856</td>\n",
       "      <td>0.00000</td>\n",
       "      <td>0.0</td>\n",
       "      <td>0.000044</td>\n",
       "      <td>1.0</td>\n",
       "      <td>0.998301</td>\n",
       "      <td>0.0</td>\n",
       "      <td>0.714286</td>\n",
       "      <td>1.0</td>\n",
       "    </tr>\n",
       "    <tr>\n",
       "      <th>4</th>\n",
       "      <td>0.345616</td>\n",
       "      <td>0.0</td>\n",
       "      <td>0.991002</td>\n",
       "      <td>0.000769</td>\n",
       "      <td>0.110526</td>\n",
       "      <td>0.00000</td>\n",
       "      <td>0.997243</td>\n",
       "      <td>0.982921</td>\n",
       "      <td>5.102256e-09</td>\n",
       "      <td>0.000000</td>\n",
       "      <td>...</td>\n",
       "      <td>7.561553e-12</td>\n",
       "      <td>0.979856</td>\n",
       "      <td>0.00000</td>\n",
       "      <td>0.0</td>\n",
       "      <td>0.000036</td>\n",
       "      <td>1.0</td>\n",
       "      <td>0.998301</td>\n",
       "      <td>0.0</td>\n",
       "      <td>0.714286</td>\n",
       "      <td>1.0</td>\n",
       "    </tr>\n",
       "  </tbody>\n",
       "</table>\n",
       "<p>5 rows × 32 columns</p>\n",
       "</div>"
      ],
      "text/plain": [
       "   clientid_cr  conversiontime_cr  adslotdimid_cr   algo_cr  clickbid_cr  \\\n",
       "0     0.948582                0.0        0.456536  0.001423     0.000000   \n",
       "1     0.873600                0.0        0.996179  0.000731     0.128655   \n",
       "2     0.873600                0.0        0.996179  0.000654     0.128655   \n",
       "3     0.345616                0.0        0.991002  0.000769     0.035088   \n",
       "4     0.345616                0.0        0.991002  0.000769     0.110526   \n",
       "\n",
       "   geodimid_cr  itemcolumbiaid_cr  itemid_cr   position_cr  pubclientid_cr  \\\n",
       "0      0.00346           0.960556   0.960560  1.530677e-08        0.031248   \n",
       "1      0.00000           0.944654   0.766087  5.102256e-09        1.000000   \n",
       "2      0.00000           0.944367   0.766087  5.102256e-09        1.000000   \n",
       "3      0.00000           0.997243   0.982921  5.102256e-09        0.000000   \n",
       "4      0.00000           0.997243   0.982921  5.102256e-09        0.000000   \n",
       "\n",
       "   ...  connTypeDimId_cr  ispDimId_cr  countryDimId_cr  goalTypeId_cr  \\\n",
       "0  ...      0.000000e+00     0.928105          0.00346            0.0   \n",
       "1  ...      7.561553e-12     0.979856          0.00000            0.0   \n",
       "2  ...      7.561553e-12     0.979856          0.00000            0.0   \n",
       "3  ...      7.561553e-12     0.979856          0.00000            0.0   \n",
       "4  ...      7.561553e-12     0.979856          0.00000            0.0   \n",
       "\n",
       "   conversionDurationInMillis_cr  impressionTimeInMillis_cr  osVerDimId_cr  \\\n",
       "0                       0.000248                        1.0       0.000000   \n",
       "1                       0.000001                        1.0       0.551710   \n",
       "2                       0.000003                        1.0       0.551710   \n",
       "3                       0.000044                        1.0       0.998301   \n",
       "4                       0.000036                        1.0       0.998301   \n",
       "\n",
       "   uuidSource_cr  stateGrpDimId_cr  cityGrpDimId_cr  \n",
       "0            0.0          0.428571              0.6  \n",
       "1            0.0          0.000000              0.2  \n",
       "2            0.0          0.000000              0.2  \n",
       "3            0.0          0.714286              1.0  \n",
       "4            0.0          0.714286              1.0  \n",
       "\n",
       "[5 rows x 32 columns]"
      ]
     },
     "execution_count": 109,
     "metadata": {},
     "output_type": "execute_result"
    }
   ],
   "source": [
    "test_df_1.head()"
   ]
  },
  {
   "cell_type": "markdown",
   "metadata": {},
   "source": [
    "##### Prediction using Random Forest "
   ]
  },
  {
   "cell_type": "code",
   "execution_count": 111,
   "metadata": {},
   "outputs": [
    {
     "data": {
      "text/plain": [
       "RandomForestClassifier(n_estimators=40)"
      ]
     },
     "execution_count": 111,
     "metadata": {},
     "output_type": "execute_result"
    }
   ],
   "source": [
    "rf_model = RandomForestClassifier(n_estimators=40)\n",
    "rf_model.fit(X, y)"
   ]
  },
  {
   "cell_type": "code",
   "execution_count": 165,
   "metadata": {},
   "outputs": [],
   "source": [
    "rf_result = rf_model.predict(test_df_1)\n",
    "rf_result_df = pd.DataFrame(rf_result, columns=[\"conversion_fraud\"])\n",
    "Final_Prediction_df_rf = pd.concat([test_record_id, rf_result_df], axis=\"columns\")\n",
    "Final_Prediction_df_rf[\"conversion_fraud\"] = Final_Prediction_df_rf[\"conversion_fraud\"].map({1:True, 0:False})\n",
    "Final_Prediction_df_rf.to_csv(\"result_random_forest_classifier.csv\", index=False)"
   ]
  },
  {
   "cell_type": "markdown",
   "metadata": {},
   "source": [
    "##### Prediction Using Decison Tree "
   ]
  },
  {
   "cell_type": "code",
   "execution_count": 166,
   "metadata": {},
   "outputs": [
    {
     "data": {
      "text/plain": [
       "DecisionTreeClassifier(criterion='entropy')"
      ]
     },
     "execution_count": 166,
     "metadata": {},
     "output_type": "execute_result"
    }
   ],
   "source": [
    "dt_model = DecisionTreeClassifier(criterion='entropy')\n",
    "dt_model.fit(X, y)"
   ]
  },
  {
   "cell_type": "code",
   "execution_count": 167,
   "metadata": {},
   "outputs": [],
   "source": [
    "dt_result = dt_model.predict(test_df_1)\n",
    "dt_result_df = pd.DataFrame(dt_result, columns=[\"conversion_fraud\"])\n",
    "Final_Prediction_df_dt = pd.concat([test_record_id, dt_result_df], axis=\"columns\")"
   ]
  },
  {
   "cell_type": "code",
   "execution_count": 168,
   "metadata": {},
   "outputs": [],
   "source": [
    "Final_Prediction_df_dt[\"conversion_fraud\"] = Final_Prediction_df_dt[\"conversion_fraud\"].map({1:True, 0:False})"
   ]
  },
  {
   "cell_type": "code",
   "execution_count": 169,
   "metadata": {},
   "outputs": [],
   "source": [
    "Final_Prediction_df_dt.to_csv(\"result_decision_tree_classifier.csv\", index=False)"
   ]
  }
 ],
 "metadata": {
  "kernelspec": {
   "display_name": "Python 3",
   "language": "python",
   "name": "python3"
  },
  "language_info": {
   "codemirror_mode": {
    "name": "ipython",
    "version": 3
   },
   "file_extension": ".py",
   "mimetype": "text/x-python",
   "name": "python",
   "nbconvert_exporter": "python",
   "pygments_lexer": "ipython3",
   "version": "3.8.3"
  }
 },
 "nbformat": 4,
 "nbformat_minor": 4
}
